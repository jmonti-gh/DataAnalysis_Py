{
 "cells": [
  {
   "attachments": {},
   "cell_type": "markdown",
   "metadata": {},
   "source": [
    "# Medical Data Visualizer"
   ]
  },
  {
   "attachments": {},
   "cell_type": "markdown",
   "metadata": {},
   "source": [
    "## Data description\n",
    "The rows in the dataset represent patients and the columns represent information like body measurements, results from various blood tests, and lifestyle choices. You will use the dataset to explore the relationship between cardiac disease, body measurements, blood markers, and lifestyle choices.    \n",
    "File name: medical_examination.csv"
   ]
  },
  {
   "cell_type": "code",
   "execution_count": 1,
   "metadata": {},
   "outputs": [
    {
     "name": "stdout",
     "output_type": "stream",
     "text": [
      "pd: 1.5.3\n",
      "sns: 0.12.2\n",
      "np: 1.24.2\n"
     ]
    }
   ],
   "source": [
    "import pandas as pd\n",
    "import seaborn as sns\n",
    "import matplotlib.pyplot as plt\n",
    "import numpy as np\n",
    "\n",
    "print('pd:', pd.__version__)\n",
    "print('sns:', sns.__version__)\n",
    "print('np:', np.__version__)"
   ]
  },
  {
   "cell_type": "code",
   "execution_count": 10,
   "metadata": {},
   "outputs": [
    {
     "name": "stdout",
     "output_type": "stream",
     "text": [
      "(70000, 13)\n"
     ]
    },
    {
     "data": {
      "text/html": [
       "<div>\n",
       "<style scoped>\n",
       "    .dataframe tbody tr th:only-of-type {\n",
       "        vertical-align: middle;\n",
       "    }\n",
       "\n",
       "    .dataframe tbody tr th {\n",
       "        vertical-align: top;\n",
       "    }\n",
       "\n",
       "    .dataframe thead th {\n",
       "        text-align: right;\n",
       "    }\n",
       "</style>\n",
       "<table border=\"1\" class=\"dataframe\">\n",
       "  <thead>\n",
       "    <tr style=\"text-align: right;\">\n",
       "      <th></th>\n",
       "      <th>id</th>\n",
       "      <th>age</th>\n",
       "      <th>sex</th>\n",
       "      <th>height</th>\n",
       "      <th>weight</th>\n",
       "      <th>ap_hi</th>\n",
       "      <th>ap_lo</th>\n",
       "      <th>cholesterol</th>\n",
       "      <th>gluc</th>\n",
       "      <th>smoke</th>\n",
       "      <th>alco</th>\n",
       "      <th>active</th>\n",
       "      <th>cardio</th>\n",
       "    </tr>\n",
       "  </thead>\n",
       "  <tbody>\n",
       "    <tr>\n",
       "      <th>0</th>\n",
       "      <td>0</td>\n",
       "      <td>18393</td>\n",
       "      <td>2</td>\n",
       "      <td>168</td>\n",
       "      <td>62.0</td>\n",
       "      <td>110</td>\n",
       "      <td>80</td>\n",
       "      <td>1</td>\n",
       "      <td>1</td>\n",
       "      <td>0</td>\n",
       "      <td>0</td>\n",
       "      <td>1</td>\n",
       "      <td>0</td>\n",
       "    </tr>\n",
       "    <tr>\n",
       "      <th>1</th>\n",
       "      <td>1</td>\n",
       "      <td>20228</td>\n",
       "      <td>1</td>\n",
       "      <td>156</td>\n",
       "      <td>85.0</td>\n",
       "      <td>140</td>\n",
       "      <td>90</td>\n",
       "      <td>3</td>\n",
       "      <td>1</td>\n",
       "      <td>0</td>\n",
       "      <td>0</td>\n",
       "      <td>1</td>\n",
       "      <td>1</td>\n",
       "    </tr>\n",
       "    <tr>\n",
       "      <th>2</th>\n",
       "      <td>2</td>\n",
       "      <td>18857</td>\n",
       "      <td>1</td>\n",
       "      <td>165</td>\n",
       "      <td>64.0</td>\n",
       "      <td>130</td>\n",
       "      <td>70</td>\n",
       "      <td>3</td>\n",
       "      <td>1</td>\n",
       "      <td>0</td>\n",
       "      <td>0</td>\n",
       "      <td>0</td>\n",
       "      <td>1</td>\n",
       "    </tr>\n",
       "    <tr>\n",
       "      <th>3</th>\n",
       "      <td>3</td>\n",
       "      <td>17623</td>\n",
       "      <td>2</td>\n",
       "      <td>169</td>\n",
       "      <td>82.0</td>\n",
       "      <td>150</td>\n",
       "      <td>100</td>\n",
       "      <td>1</td>\n",
       "      <td>1</td>\n",
       "      <td>0</td>\n",
       "      <td>0</td>\n",
       "      <td>1</td>\n",
       "      <td>1</td>\n",
       "    </tr>\n",
       "    <tr>\n",
       "      <th>4</th>\n",
       "      <td>4</td>\n",
       "      <td>17474</td>\n",
       "      <td>1</td>\n",
       "      <td>156</td>\n",
       "      <td>56.0</td>\n",
       "      <td>100</td>\n",
       "      <td>60</td>\n",
       "      <td>1</td>\n",
       "      <td>1</td>\n",
       "      <td>0</td>\n",
       "      <td>0</td>\n",
       "      <td>0</td>\n",
       "      <td>0</td>\n",
       "    </tr>\n",
       "  </tbody>\n",
       "</table>\n",
       "</div>"
      ],
      "text/plain": [
       "   id    age  sex  height  weight  ap_hi  ap_lo  cholesterol  gluc  smoke  \\\n",
       "0   0  18393    2     168    62.0    110     80            1     1      0   \n",
       "1   1  20228    1     156    85.0    140     90            3     1      0   \n",
       "2   2  18857    1     165    64.0    130     70            3     1      0   \n",
       "3   3  17623    2     169    82.0    150    100            1     1      0   \n",
       "4   4  17474    1     156    56.0    100     60            1     1      0   \n",
       "\n",
       "   alco  active  cardio  \n",
       "0     0       1       0  \n",
       "1     0       1       1  \n",
       "2     0       0       1  \n",
       "3     0       1       1  \n",
       "4     0       0       0  "
      ]
     },
     "metadata": {},
     "output_type": "display_data"
    },
    {
     "data": {
      "text/html": [
       "<div>\n",
       "<style scoped>\n",
       "    .dataframe tbody tr th:only-of-type {\n",
       "        vertical-align: middle;\n",
       "    }\n",
       "\n",
       "    .dataframe tbody tr th {\n",
       "        vertical-align: top;\n",
       "    }\n",
       "\n",
       "    .dataframe thead th {\n",
       "        text-align: right;\n",
       "    }\n",
       "</style>\n",
       "<table border=\"1\" class=\"dataframe\">\n",
       "  <thead>\n",
       "    <tr style=\"text-align: right;\">\n",
       "      <th></th>\n",
       "      <th>id</th>\n",
       "      <th>age</th>\n",
       "      <th>sex</th>\n",
       "      <th>height</th>\n",
       "      <th>weight</th>\n",
       "      <th>ap_hi</th>\n",
       "      <th>ap_lo</th>\n",
       "      <th>cholesterol</th>\n",
       "      <th>gluc</th>\n",
       "      <th>smoke</th>\n",
       "      <th>alco</th>\n",
       "      <th>active</th>\n",
       "      <th>cardio</th>\n",
       "    </tr>\n",
       "  </thead>\n",
       "  <tbody>\n",
       "    <tr>\n",
       "      <th>25735</th>\n",
       "      <td>36726</td>\n",
       "      <td>20604</td>\n",
       "      <td>2</td>\n",
       "      <td>167</td>\n",
       "      <td>70.0</td>\n",
       "      <td>120</td>\n",
       "      <td>70</td>\n",
       "      <td>3</td>\n",
       "      <td>3</td>\n",
       "      <td>0</td>\n",
       "      <td>0</td>\n",
       "      <td>1</td>\n",
       "      <td>0</td>\n",
       "    </tr>\n",
       "    <tr>\n",
       "      <th>36019</th>\n",
       "      <td>51427</td>\n",
       "      <td>20579</td>\n",
       "      <td>2</td>\n",
       "      <td>183</td>\n",
       "      <td>128.0</td>\n",
       "      <td>140</td>\n",
       "      <td>90</td>\n",
       "      <td>2</td>\n",
       "      <td>1</td>\n",
       "      <td>1</td>\n",
       "      <td>0</td>\n",
       "      <td>1</td>\n",
       "      <td>1</td>\n",
       "    </tr>\n",
       "    <tr>\n",
       "      <th>20947</th>\n",
       "      <td>29911</td>\n",
       "      <td>15954</td>\n",
       "      <td>1</td>\n",
       "      <td>174</td>\n",
       "      <td>89.0</td>\n",
       "      <td>120</td>\n",
       "      <td>80</td>\n",
       "      <td>1</td>\n",
       "      <td>1</td>\n",
       "      <td>0</td>\n",
       "      <td>0</td>\n",
       "      <td>0</td>\n",
       "      <td>0</td>\n",
       "    </tr>\n",
       "    <tr>\n",
       "      <th>14360</th>\n",
       "      <td>20513</td>\n",
       "      <td>20461</td>\n",
       "      <td>2</td>\n",
       "      <td>167</td>\n",
       "      <td>81.0</td>\n",
       "      <td>130</td>\n",
       "      <td>90</td>\n",
       "      <td>2</td>\n",
       "      <td>1</td>\n",
       "      <td>0</td>\n",
       "      <td>1</td>\n",
       "      <td>1</td>\n",
       "      <td>0</td>\n",
       "    </tr>\n",
       "    <tr>\n",
       "      <th>9484</th>\n",
       "      <td>13514</td>\n",
       "      <td>21329</td>\n",
       "      <td>1</td>\n",
       "      <td>167</td>\n",
       "      <td>92.0</td>\n",
       "      <td>160</td>\n",
       "      <td>90</td>\n",
       "      <td>1</td>\n",
       "      <td>1</td>\n",
       "      <td>0</td>\n",
       "      <td>0</td>\n",
       "      <td>1</td>\n",
       "      <td>0</td>\n",
       "    </tr>\n",
       "    <tr>\n",
       "      <th>53419</th>\n",
       "      <td>76222</td>\n",
       "      <td>19697</td>\n",
       "      <td>2</td>\n",
       "      <td>166</td>\n",
       "      <td>76.0</td>\n",
       "      <td>150</td>\n",
       "      <td>100</td>\n",
       "      <td>3</td>\n",
       "      <td>1</td>\n",
       "      <td>0</td>\n",
       "      <td>0</td>\n",
       "      <td>1</td>\n",
       "      <td>1</td>\n",
       "    </tr>\n",
       "    <tr>\n",
       "      <th>46623</th>\n",
       "      <td>66567</td>\n",
       "      <td>18251</td>\n",
       "      <td>1</td>\n",
       "      <td>157</td>\n",
       "      <td>49.0</td>\n",
       "      <td>110</td>\n",
       "      <td>70</td>\n",
       "      <td>1</td>\n",
       "      <td>1</td>\n",
       "      <td>0</td>\n",
       "      <td>0</td>\n",
       "      <td>1</td>\n",
       "      <td>0</td>\n",
       "    </tr>\n",
       "    <tr>\n",
       "      <th>1047</th>\n",
       "      <td>1455</td>\n",
       "      <td>17552</td>\n",
       "      <td>1</td>\n",
       "      <td>171</td>\n",
       "      <td>80.0</td>\n",
       "      <td>100</td>\n",
       "      <td>80</td>\n",
       "      <td>2</td>\n",
       "      <td>1</td>\n",
       "      <td>0</td>\n",
       "      <td>0</td>\n",
       "      <td>1</td>\n",
       "      <td>0</td>\n",
       "    </tr>\n",
       "    <tr>\n",
       "      <th>52376</th>\n",
       "      <td>74705</td>\n",
       "      <td>21654</td>\n",
       "      <td>1</td>\n",
       "      <td>158</td>\n",
       "      <td>67.0</td>\n",
       "      <td>140</td>\n",
       "      <td>90</td>\n",
       "      <td>3</td>\n",
       "      <td>3</td>\n",
       "      <td>0</td>\n",
       "      <td>0</td>\n",
       "      <td>1</td>\n",
       "      <td>1</td>\n",
       "    </tr>\n",
       "    <tr>\n",
       "      <th>3344</th>\n",
       "      <td>4719</td>\n",
       "      <td>16173</td>\n",
       "      <td>1</td>\n",
       "      <td>162</td>\n",
       "      <td>130.0</td>\n",
       "      <td>110</td>\n",
       "      <td>70</td>\n",
       "      <td>3</td>\n",
       "      <td>1</td>\n",
       "      <td>0</td>\n",
       "      <td>1</td>\n",
       "      <td>1</td>\n",
       "      <td>1</td>\n",
       "    </tr>\n",
       "  </tbody>\n",
       "</table>\n",
       "</div>"
      ],
      "text/plain": [
       "          id    age  sex  height  weight  ap_hi  ap_lo  cholesterol  gluc  \\\n",
       "25735  36726  20604    2     167    70.0    120     70            3     3   \n",
       "36019  51427  20579    2     183   128.0    140     90            2     1   \n",
       "20947  29911  15954    1     174    89.0    120     80            1     1   \n",
       "14360  20513  20461    2     167    81.0    130     90            2     1   \n",
       "9484   13514  21329    1     167    92.0    160     90            1     1   \n",
       "53419  76222  19697    2     166    76.0    150    100            3     1   \n",
       "46623  66567  18251    1     157    49.0    110     70            1     1   \n",
       "1047    1455  17552    1     171    80.0    100     80            2     1   \n",
       "52376  74705  21654    1     158    67.0    140     90            3     3   \n",
       "3344    4719  16173    1     162   130.0    110     70            3     1   \n",
       "\n",
       "       smoke  alco  active  cardio  \n",
       "25735      0     0       1       0  \n",
       "36019      1     0       1       1  \n",
       "20947      0     0       0       0  \n",
       "14360      0     1       1       0  \n",
       "9484       0     0       1       0  \n",
       "53419      0     0       1       1  \n",
       "46623      0     0       1       0  \n",
       "1047       0     0       1       0  \n",
       "52376      0     0       1       1  \n",
       "3344       0     1       1       1  "
      ]
     },
     "execution_count": 10,
     "metadata": {},
     "output_type": "execute_result"
    }
   ],
   "source": [
    "# Import data\n",
    "df = pd.read_csv('medical_examination.csv')\n",
    "print(df.shape)\n",
    "display(df.head())\n",
    "df.sample(10)"
   ]
  },
  {
   "attachments": {},
   "cell_type": "markdown",
   "metadata": {},
   "source": [
    "### References:\n",
    "- age: objetive feature - int (days)\n",
    "- sex: of - categorical code ?\n",
    "- height: of - int (cm)\n",
    "- weight: of - float (kg)\n",
    "- ap_hi: examination feature - int - Systolic blood pressure\n",
    "- ap_lo: ef - int - Diastolic blood pressure\n",
    "- cholesterol: ef - 1: normal, 2: above normal, 3: well above normal\n",
    "- gluc: ef - 1: , 2:, 3: idem cholesterol - Glucose\n",
    "- smoke: subjective feature - binary\n",
    "- alco: sf - binary - Alcohol intake - binary\n",
    "- active: df - binary - Physical activity\n",
    "- cardio: target variable - binary - Presence or absence of cardiovascular disease"
   ]
  },
  {
   "cell_type": "code",
   "execution_count": 25,
   "metadata": {},
   "outputs": [
    {
     "name": "stdout",
     "output_type": "stream",
     "text": [
      "chol: 52385 17615 70000\n",
      "gluc: 59479 10521 70000\n",
      "alco: 66236 3764 70000\n"
     ]
    },
    {
     "data": {
      "text/plain": [
       "<BarContainer object of 3 artists>"
      ]
     },
     "execution_count": 25,
     "metadata": {},
     "output_type": "execute_result"
    },
    {
     "data": {
      "image/png": "[encoded data removed]",
      "text/plain": [
       "<Figure size 640x480 with 1 Axes>"
      ]
     },
     "metadata": {},
     "output_type": "display_data"
    }
   ],
   "source": [
    "# 3 ways to count rows: .shape[0], len(df), len(df.index)\n",
    "\n",
    "chol0_cnt = df.loc[df.cholesterol == 1].shape[0]\n",
    "chol1_cnt = df.loc[df.cholesterol != 1].shape[0]\n",
    "print('chol:', chol0_cnt, chol1_cnt, chol0_cnt + chol1_cnt)\n",
    "\n",
    "gluc0_cnt = df.loc[df.gluc == 1].shape[0]\n",
    "gluc1_cnt = df.loc[df.gluc != 1].shape[0]\n",
    "print('gluc:', gluc0_cnt, gluc1_cnt, gluc0_cnt + gluc1_cnt)\n",
    "\n",
    "alco0_cnt = df.loc[df.alco == 0].shape[0]\n",
    "alco1_cnt = df.loc[df.alco == 1].shape[0]\n",
    "print('alco:', alco0_cnt, alco1_cnt, alco0_cnt + alco1_cnt)\n",
    "\n",
    "x = ['chol', 'gluc', 'alco']\n",
    "y = [chol0_cnt, gluc0_cnt, alco0_cnt]\n",
    "\n",
    "plt.bar(x, y)"
   ]
  },
  {
   "cell_type": "code",
   "execution_count": 31,
   "metadata": {},
   "outputs": [
    {
     "name": "stdout",
     "output_type": "stream",
     "text": [
      "35021 34979 70000\n"
     ]
    },
    {
     "data": {
      "text/plain": [
       "1    29330\n",
       "2     3799\n",
       "3     1892\n",
       "Name: cholesterol, dtype: int64"
      ]
     },
     "execution_count": 31,
     "metadata": {},
     "output_type": "execute_result"
    }
   ],
   "source": [
    "card0_df = df.loc[df.cardio == 0]\n",
    "card1_df = df.loc[df.cardio == 1]\n",
    "print(card0_df.shape[0], card1_df.shape[0], card0_df.shape[0] + card1_df.shape[0])\n",
    "\n",
    "card0_df.cholesterol.value_counts()"
   ]
  },
  {
   "cell_type": "code",
   "execution_count": 32,
   "metadata": {},
   "outputs": [
    {
     "name": "stdout",
     "output_type": "stream",
     "text": [
      "chol: 29330 5691 35021\n",
      "gluc: 30894 4127 35021\n",
      "alco: 33080 1941 35021\n"
     ]
    }
   ],
   "source": [
    "# mk values for cardio == 0\n",
    "\n",
    "d0_chol0_cnt = card0_df.loc[df.cholesterol == 1].shape[0]\n",
    "d0_chol1_cnt = card0_df.loc[df.cholesterol != 1].shape[0]\n",
    "print('chol:', d0_chol0_cnt, d0_chol1_cnt, d0_chol0_cnt + d0_chol1_cnt)\n",
    "\n",
    "d0_gluc0_cnt = card0_df.loc[df.gluc == 1].shape[0]\n",
    "d0_gluc1_cnt = card0_df.loc[df.gluc != 1].shape[0]\n",
    "print('gluc:', d0_gluc0_cnt, d0_gluc1_cnt, d0_gluc0_cnt + d0_gluc1_cnt)\n",
    "\n",
    "d0_alco0_cnt = card0_df.loc[df.alco == 0].shape[0]\n",
    "d0_alco1_cnt = card0_df.loc[df.alco == 1].shape[0]\n",
    "print('alco:', d0_alco0_cnt, d0_alco1_cnt, d0_alco0_cnt + d0_alco1_cnt)"
   ]
  },
  {
   "cell_type": "code",
   "execution_count": 33,
   "metadata": {},
   "outputs": [
    {
     "name": "stdout",
     "output_type": "stream",
     "text": [
      "chol: 23055 11924 34979\n",
      "gluc: 28585 6394 34979\n",
      "alco: 33156 1823 34979\n"
     ]
    }
   ],
   "source": [
    "# mk values for cardio == 1\n",
    "\n",
    "d1_chol0_cnt = card1_df.loc[df.cholesterol == 1].shape[0]\n",
    "d1_chol1_cnt = card1_df.loc[df.cholesterol != 1].shape[0]\n",
    "print('chol:', d1_chol0_cnt, d1_chol1_cnt, d1_chol0_cnt + d1_chol1_cnt)\n",
    "\n",
    "d1_gluc0_cnt = card1_df.loc[df.gluc == 1].shape[0]\n",
    "d1_gluc1_cnt = card1_df.loc[df.gluc != 1].shape[0]\n",
    "print('gluc:', d1_gluc0_cnt, d1_gluc1_cnt, d1_gluc0_cnt + d1_gluc1_cnt)\n",
    "\n",
    "d1_alco0_cnt = card1_df.loc[df.alco == 0].shape[0]\n",
    "d1_alco1_cnt = card1_df.loc[df.alco == 1].shape[0]\n",
    "print('alco:', d1_alco0_cnt, d1_alco1_cnt, d1_alco0_cnt + d1_alco1_cnt)"
   ]
  },
  {
   "cell_type": "code",
   "execution_count": 7,
   "metadata": {},
   "outputs": [
    {
     "ename": "TypeError",
     "evalue": "Axes.bar() missing 1 required positional argument: 'height'",
     "output_type": "error",
     "traceback": [
      "\u001b[1;31m---------------------------------------------------------------------------\u001b[0m",
      "\u001b[1;31mTypeError\u001b[0m                                 Traceback (most recent call last)",
      "Cell \u001b[1;32mIn[7], line 2\u001b[0m\n\u001b[0;32m      1\u001b[0m fig, ax \u001b[39m=\u001b[39m plt\u001b[39m.\u001b[39msubplots()\n\u001b[1;32m----> 2\u001b[0m ax\u001b[39m.\u001b[39;49mbar(df\u001b[39m.\u001b[39;49mcholesterol)\n",
      "File \u001b[1;32mc:\\Users\\jm\\AppData\\Local\\Programs\\Python\\Python311\\Lib\\site-packages\\matplotlib\\__init__.py:1459\u001b[0m, in \u001b[0;36m_preprocess_data.<locals>.inner\u001b[1;34m(ax, data, *args, **kwargs)\u001b[0m\n\u001b[0;32m   1456\u001b[0m \u001b[39m@functools\u001b[39m\u001b[39m.\u001b[39mwraps(func)\n\u001b[0;32m   1457\u001b[0m \u001b[39mdef\u001b[39;00m \u001b[39minner\u001b[39m(ax, \u001b[39m*\u001b[39margs, data\u001b[39m=\u001b[39m\u001b[39mNone\u001b[39;00m, \u001b[39m*\u001b[39m\u001b[39m*\u001b[39mkwargs):\n\u001b[0;32m   1458\u001b[0m     \u001b[39mif\u001b[39;00m data \u001b[39mis\u001b[39;00m \u001b[39mNone\u001b[39;00m:\n\u001b[1;32m-> 1459\u001b[0m         \u001b[39mreturn\u001b[39;00m func(ax, \u001b[39m*\u001b[39;49m\u001b[39mmap\u001b[39;49m(sanitize_sequence, args), \u001b[39m*\u001b[39;49m\u001b[39m*\u001b[39;49mkwargs)\n\u001b[0;32m   1461\u001b[0m     bound \u001b[39m=\u001b[39m new_sig\u001b[39m.\u001b[39mbind(ax, \u001b[39m*\u001b[39margs, \u001b[39m*\u001b[39m\u001b[39m*\u001b[39mkwargs)\n\u001b[0;32m   1462\u001b[0m     auto_label \u001b[39m=\u001b[39m (bound\u001b[39m.\u001b[39marguments\u001b[39m.\u001b[39mget(label_namer)\n\u001b[0;32m   1463\u001b[0m                   \u001b[39mor\u001b[39;00m bound\u001b[39m.\u001b[39mkwargs\u001b[39m.\u001b[39mget(label_namer))\n",
      "\u001b[1;31mTypeError\u001b[0m: Axes.bar() missing 1 required positional argument: 'height'"
     ]
    },
    {
     "data": {
      "image/png": "[encoded data removed]",
      "text/plain": [
       "<Figure size 640x480 with 1 Axes>"
      ]
     },
     "metadata": {},
     "output_type": "display_data"
    }
   ],
   "source": [
    "\n",
    "fig, ax = plt.subplots()\n",
    "ax.bar(df.cholesterol)"
   ]
  }
 ],
 "metadata": {
  "kernelspec": {
   "display_name": "Python 3",
   "language": "python",
   "name": "python3"
  },
  "language_info": {
   "codemirror_mode": {
    "name": "ipython",
    "version": 3
   },
   "file_extension": ".py",
   "mimetype": "text/x-python",
   "name": "python",
   "nbconvert_exporter": "python",
   "pygments_lexer": "ipython3",
   "version": "3.11.0"
  },
  "orig_nbformat": 4
 },
 "nbformat": 4,
 "nbformat_minor": 2
}
