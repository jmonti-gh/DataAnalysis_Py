{
 "cells": [
  {
   "attachments": {},
   "cell_type": "markdown",
   "metadata": {},
   "source": [
    "# Pandas\n",
    "- Solve short hands-on challenges to perfect your data manipulation skills.\n",
    "- https://www.kaggle.com/learn/pandas"
   ]
  },
  {
   "attachments": {},
   "cell_type": "markdown",
   "metadata": {},
   "source": [
    "## 5.- Exercise: Data Types and Missing Values\n",
    "- Deal with the most common progress-blocking problems  "
   ]
  },
  {
   "cell_type": "code",
   "execution_count": 27,
   "metadata": {},
   "outputs": [
    {
     "name": "stdout",
     "output_type": "stream",
     "text": [
      "np.__version__: 1.23.5\n",
      "pd.__version__: 1.5.3\n"
     ]
    }
   ],
   "source": [
    "import numpy as np\n",
    "import pandas as pd\n",
    "\n",
    "print('np.__version__:', np.__version__)\n",
    "print('pd.__version__:', pd.__version__)\n",
    "\n",
    "#pd.set_option('display.max_rows', 5)"
   ]
  },
  {
   "cell_type": "code",
   "execution_count": 28,
   "metadata": {},
   "outputs": [
    {
     "data": {
      "text/html": [
       "<div>\n",
       "<style scoped>\n",
       "    .dataframe tbody tr th:only-of-type {\n",
       "        vertical-align: middle;\n",
       "    }\n",
       "\n",
       "    .dataframe tbody tr th {\n",
       "        vertical-align: top;\n",
       "    }\n",
       "\n",
       "    .dataframe thead th {\n",
       "        text-align: right;\n",
       "    }\n",
       "</style>\n",
       "<table border=\"1\" class=\"dataframe\">\n",
       "  <thead>\n",
       "    <tr style=\"text-align: right;\">\n",
       "      <th></th>\n",
       "      <th>Name</th>\n",
       "      <th>Country</th>\n",
       "      <th>Region</th>\n",
       "      <th>Winery</th>\n",
       "      <th>Rating</th>\n",
       "      <th>NumberOfRatings</th>\n",
       "      <th>Price</th>\n",
       "      <th>Year</th>\n",
       "    </tr>\n",
       "  </thead>\n",
       "  <tbody>\n",
       "    <tr>\n",
       "      <th>0</th>\n",
       "      <td>Pomerol 2011</td>\n",
       "      <td>France</td>\n",
       "      <td>Pomerol</td>\n",
       "      <td>Château La Providence</td>\n",
       "      <td>4.2</td>\n",
       "      <td>100</td>\n",
       "      <td>95.0</td>\n",
       "      <td>2011</td>\n",
       "    </tr>\n",
       "    <tr>\n",
       "      <th>1</th>\n",
       "      <td>Lirac 2017</td>\n",
       "      <td>France</td>\n",
       "      <td>Lirac</td>\n",
       "      <td>Château Mont-Redon</td>\n",
       "      <td>4.3</td>\n",
       "      <td>100</td>\n",
       "      <td>15.5</td>\n",
       "      <td>2017</td>\n",
       "    </tr>\n",
       "  </tbody>\n",
       "</table>\n",
       "</div>"
      ],
      "text/plain": [
       "           Name Country   Region                 Winery  Rating  \\\n",
       "0  Pomerol 2011  France  Pomerol  Château La Providence     4.2   \n",
       "1    Lirac 2017  France    Lirac     Château Mont-Redon     4.3   \n",
       "\n",
       "   NumberOfRatings  Price  Year  \n",
       "0              100   95.0  2011  \n",
       "1              100   15.5  2017  "
      ]
     },
     "execution_count": 28,
     "metadata": {},
     "output_type": "execute_result"
    }
   ],
   "source": [
    "reviews = pd.read_csv('Red.csv')\n",
    "reviews.head(2)"
   ]
  },
  {
   "cell_type": "code",
   "execution_count": 29,
   "metadata": {},
   "outputs": [
    {
     "data": {
      "text/html": [
       "<div>\n",
       "<style scoped>\n",
       "    .dataframe tbody tr th:only-of-type {\n",
       "        vertical-align: middle;\n",
       "    }\n",
       "\n",
       "    .dataframe tbody tr th {\n",
       "        vertical-align: top;\n",
       "    }\n",
       "\n",
       "    .dataframe thead th {\n",
       "        text-align: right;\n",
       "    }\n",
       "</style>\n",
       "<table border=\"1\" class=\"dataframe\">\n",
       "  <thead>\n",
       "    <tr style=\"text-align: right;\">\n",
       "      <th></th>\n",
       "      <th>Name</th>\n",
       "      <th>Country</th>\n",
       "      <th>Region</th>\n",
       "      <th>Winery</th>\n",
       "      <th>Rating</th>\n",
       "      <th>NumberOfRatings</th>\n",
       "      <th>Price</th>\n",
       "      <th>Year</th>\n",
       "      <th>twitter_region</th>\n",
       "    </tr>\n",
       "  </thead>\n",
       "  <tbody>\n",
       "    <tr>\n",
       "      <th>0</th>\n",
       "      <td>Pomerol 2011</td>\n",
       "      <td>France</td>\n",
       "      <td>Pomerol</td>\n",
       "      <td>Château La Providence</td>\n",
       "      <td>4.2</td>\n",
       "      <td>100</td>\n",
       "      <td>95.0</td>\n",
       "      <td>2011</td>\n",
       "      <td>@Pomerol</td>\n",
       "    </tr>\n",
       "    <tr>\n",
       "      <th>1</th>\n",
       "      <td>Lirac 2017</td>\n",
       "      <td>France</td>\n",
       "      <td>Lirac</td>\n",
       "      <td>Château Mont-Redon</td>\n",
       "      <td>4.3</td>\n",
       "      <td>100</td>\n",
       "      <td>15.5</td>\n",
       "      <td>2017</td>\n",
       "      <td>@Lirac</td>\n",
       "    </tr>\n",
       "  </tbody>\n",
       "</table>\n",
       "</div>"
      ],
      "text/plain": [
       "           Name Country   Region                 Winery  Rating  \\\n",
       "0  Pomerol 2011  France  Pomerol  Château La Providence     4.2   \n",
       "1    Lirac 2017  France    Lirac     Château Mont-Redon     4.3   \n",
       "\n",
       "   NumberOfRatings  Price  Year twitter_region  \n",
       "0              100   95.0  2011       @Pomerol  \n",
       "1              100   15.5  2017         @Lirac  "
      ]
     },
     "execution_count": 29,
     "metadata": {},
     "output_type": "execute_result"
    }
   ],
   "source": [
    "## Add a twitter_region column !\n",
    "reviews['twitter_region'] = '@' +  reviews.Region\n",
    "reviews.head(2)"
   ]
  },
  {
   "cell_type": "code",
   "execution_count": 30,
   "metadata": {},
   "outputs": [
    {
     "name": "stdout",
     "output_type": "stream",
     "text": [
      "<class 'pandas.core.frame.DataFrame'>\n",
      "RangeIndex: 8666 entries, 0 to 8665\n",
      "Data columns (total 9 columns):\n",
      " #   Column           Non-Null Count  Dtype  \n",
      "---  ------           --------------  -----  \n",
      " 0   Name             8666 non-null   object \n",
      " 1   Country          8666 non-null   object \n",
      " 2   Region           8666 non-null   object \n",
      " 3   Winery           8666 non-null   object \n",
      " 4   Rating           8666 non-null   float64\n",
      " 5   NumberOfRatings  8666 non-null   int64  \n",
      " 6   Price            8666 non-null   float64\n",
      " 7   Year             8666 non-null   object \n",
      " 8   twitter_region   8666 non-null   object \n",
      "dtypes: float64(2), int64(1), object(6)\n",
      "memory usage: 609.5+ KB\n"
     ]
    }
   ],
   "source": [
    "reviews.info()\n",
    "# 8666 non-null every col -> idem RangeIndex"
   ]
  },
  {
   "cell_type": "code",
   "execution_count": 31,
   "metadata": {},
   "outputs": [
    {
     "data": {
      "text/html": [
       "<div>\n",
       "<style scoped>\n",
       "    .dataframe tbody tr th:only-of-type {\n",
       "        vertical-align: middle;\n",
       "    }\n",
       "\n",
       "    .dataframe tbody tr th {\n",
       "        vertical-align: top;\n",
       "    }\n",
       "\n",
       "    .dataframe thead th {\n",
       "        text-align: right;\n",
       "    }\n",
       "</style>\n",
       "<table border=\"1\" class=\"dataframe\">\n",
       "  <thead>\n",
       "    <tr style=\"text-align: right;\">\n",
       "      <th></th>\n",
       "      <th>Name</th>\n",
       "      <th>Country</th>\n",
       "      <th>Region</th>\n",
       "      <th>Winery</th>\n",
       "      <th>Rating</th>\n",
       "      <th>NumberOfRatings</th>\n",
       "      <th>Price</th>\n",
       "      <th>Year</th>\n",
       "      <th>twitter_region</th>\n",
       "    </tr>\n",
       "  </thead>\n",
       "  <tbody>\n",
       "    <tr>\n",
       "      <th>8667</th>\n",
       "      <td>Portillo Cabernet Sauvignon 2016</td>\n",
       "      <td>Argentina</td>\n",
       "      <td>Tunuyán</td>\n",
       "      <td>Salentein</td>\n",
       "      <td>3.4</td>\n",
       "      <td>999</td>\n",
       "      <td>7.88</td>\n",
       "      <td>2016</td>\n",
       "      <td>@Tunuyán</td>\n",
       "    </tr>\n",
       "    <tr>\n",
       "      <th>8668</th>\n",
       "      <td>Name1</td>\n",
       "      <td>NaN</td>\n",
       "      <td>Reg1</td>\n",
       "      <td>Win1</td>\n",
       "      <td>1.0</td>\n",
       "      <td>101</td>\n",
       "      <td>10.10</td>\n",
       "      <td>2021</td>\n",
       "      <td>@Reg1</td>\n",
       "    </tr>\n",
       "  </tbody>\n",
       "</table>\n",
       "</div>"
      ],
      "text/plain": [
       "                                  Name    Country   Region     Winery  Rating  \\\n",
       "8667  Portillo Cabernet Sauvignon 2016  Argentina  Tunuyán  Salentein     3.4   \n",
       "8668                             Name1        NaN     Reg1       Win1     1.0   \n",
       "\n",
       "      NumberOfRatings  Price  Year twitter_region  \n",
       "8667              999   7.88  2016       @Tunuyán  \n",
       "8668              101  10.10  2021          @Reg1  "
      ]
     },
     "metadata": {},
     "output_type": "display_data"
    },
    {
     "data": {
      "text/html": [
       "<div>\n",
       "<style scoped>\n",
       "    .dataframe tbody tr th:only-of-type {\n",
       "        vertical-align: middle;\n",
       "    }\n",
       "\n",
       "    .dataframe tbody tr th {\n",
       "        vertical-align: top;\n",
       "    }\n",
       "\n",
       "    .dataframe thead th {\n",
       "        text-align: right;\n",
       "    }\n",
       "</style>\n",
       "<table border=\"1\" class=\"dataframe\">\n",
       "  <thead>\n",
       "    <tr style=\"text-align: right;\">\n",
       "      <th></th>\n",
       "      <th>Name</th>\n",
       "      <th>Country</th>\n",
       "      <th>Region</th>\n",
       "      <th>Winery</th>\n",
       "      <th>Rating</th>\n",
       "      <th>NumberOfRatings</th>\n",
       "      <th>Price</th>\n",
       "      <th>Year</th>\n",
       "      <th>twitter_region</th>\n",
       "    </tr>\n",
       "  </thead>\n",
       "  <tbody>\n",
       "    <tr>\n",
       "      <th>0</th>\n",
       "      <td>Name2</td>\n",
       "      <td>NaN</td>\n",
       "      <td>Reg2</td>\n",
       "      <td>Win2</td>\n",
       "      <td>2.0</td>\n",
       "      <td>202</td>\n",
       "      <td>20.0</td>\n",
       "      <td>2022</td>\n",
       "      <td>@Reg2</td>\n",
       "    </tr>\n",
       "    <tr>\n",
       "      <th>1</th>\n",
       "      <td>Pomerol 2011</td>\n",
       "      <td>France</td>\n",
       "      <td>Pomerol</td>\n",
       "      <td>Château La Providence</td>\n",
       "      <td>4.2</td>\n",
       "      <td>100</td>\n",
       "      <td>95.0</td>\n",
       "      <td>2011</td>\n",
       "      <td>@Pomerol</td>\n",
       "    </tr>\n",
       "  </tbody>\n",
       "</table>\n",
       "</div>"
      ],
      "text/plain": [
       "           Name Country   Region                 Winery  Rating  \\\n",
       "0         Name2     NaN     Reg2                   Win2     2.0   \n",
       "1  Pomerol 2011  France  Pomerol  Château La Providence     4.2   \n",
       "\n",
       "   NumberOfRatings  Price  Year twitter_region  \n",
       "0              202   20.0  2022          @Reg2  \n",
       "1              100   95.0  2011       @Pomerol  "
      ]
     },
     "metadata": {},
     "output_type": "display_data"
    },
    {
     "data": {
      "text/html": [
       "<div>\n",
       "<style scoped>\n",
       "    .dataframe tbody tr th:only-of-type {\n",
       "        vertical-align: middle;\n",
       "    }\n",
       "\n",
       "    .dataframe tbody tr th {\n",
       "        vertical-align: top;\n",
       "    }\n",
       "\n",
       "    .dataframe thead th {\n",
       "        text-align: right;\n",
       "    }\n",
       "</style>\n",
       "<table border=\"1\" class=\"dataframe\">\n",
       "  <thead>\n",
       "    <tr style=\"text-align: right;\">\n",
       "      <th></th>\n",
       "      <th>Name</th>\n",
       "      <th>Country</th>\n",
       "      <th>Region</th>\n",
       "      <th>Winery</th>\n",
       "      <th>Rating</th>\n",
       "      <th>NumberOfRatings</th>\n",
       "      <th>Price</th>\n",
       "      <th>Year</th>\n",
       "      <th>twitter_region</th>\n",
       "    </tr>\n",
       "  </thead>\n",
       "  <tbody>\n",
       "    <tr>\n",
       "      <th>3422</th>\n",
       "      <td>Les Saint-Georges Nuits-Saint-Georges 1er Cru ...</td>\n",
       "      <td>France</td>\n",
       "      <td>Nuits-Saint-Georges Premier Cru</td>\n",
       "      <td>Domaine Robert Chevillon</td>\n",
       "      <td>4.1</td>\n",
       "      <td>28</td>\n",
       "      <td>113.39</td>\n",
       "      <td>2015</td>\n",
       "      <td>@Nuits-Saint-Georges Premier Cru</td>\n",
       "    </tr>\n",
       "    <tr>\n",
       "      <th>3423</th>\n",
       "      <td>Castel Firmian Riserva Teroldego Rotaliano 2015</td>\n",
       "      <td>Italy</td>\n",
       "      <td>Teroldego Rotaliano</td>\n",
       "      <td>Mezzacorona</td>\n",
       "      <td>3.7</td>\n",
       "      <td>28</td>\n",
       "      <td>9.37</td>\n",
       "      <td>2015</td>\n",
       "      <td>@Teroldego Rotaliano</td>\n",
       "    </tr>\n",
       "    <tr>\n",
       "      <th>3424</th>\n",
       "      <td>Name3</td>\n",
       "      <td>NaN</td>\n",
       "      <td>Reg3</td>\n",
       "      <td>Win3</td>\n",
       "      <td>NaN</td>\n",
       "      <td>303</td>\n",
       "      <td>NaN</td>\n",
       "      <td>2023</td>\n",
       "      <td>@Reg3</td>\n",
       "    </tr>\n",
       "    <tr>\n",
       "      <th>3425</th>\n",
       "      <td>Barolo 2016</td>\n",
       "      <td>Italy</td>\n",
       "      <td>Barolo</td>\n",
       "      <td>Mauro Molino</td>\n",
       "      <td>3.8</td>\n",
       "      <td>28</td>\n",
       "      <td>36.50</td>\n",
       "      <td>2016</td>\n",
       "      <td>@Barolo</td>\n",
       "    </tr>\n",
       "    <tr>\n",
       "      <th>3426</th>\n",
       "      <td>Primitivo (Since 1913) 2017</td>\n",
       "      <td>Italy</td>\n",
       "      <td>Primitivo di Manduria</td>\n",
       "      <td>Torrevento</td>\n",
       "      <td>3.9</td>\n",
       "      <td>28</td>\n",
       "      <td>14.35</td>\n",
       "      <td>2017</td>\n",
       "      <td>@Primitivo di Manduria</td>\n",
       "    </tr>\n",
       "  </tbody>\n",
       "</table>\n",
       "</div>"
      ],
      "text/plain": [
       "                                                   Name Country  \\\n",
       "3422  Les Saint-Georges Nuits-Saint-Georges 1er Cru ...  France   \n",
       "3423    Castel Firmian Riserva Teroldego Rotaliano 2015   Italy   \n",
       "3424                                              Name3     NaN   \n",
       "3425                                        Barolo 2016   Italy   \n",
       "3426                        Primitivo (Since 1913) 2017   Italy   \n",
       "\n",
       "                               Region                    Winery  Rating  \\\n",
       "3422  Nuits-Saint-Georges Premier Cru  Domaine Robert Chevillon     4.1   \n",
       "3423              Teroldego Rotaliano               Mezzacorona     3.7   \n",
       "3424                             Reg3                      Win3     NaN   \n",
       "3425                           Barolo              Mauro Molino     3.8   \n",
       "3426            Primitivo di Manduria                Torrevento     3.9   \n",
       "\n",
       "      NumberOfRatings   Price  Year                    twitter_region  \n",
       "3422               28  113.39  2015  @Nuits-Saint-Georges Premier Cru  \n",
       "3423               28    9.37  2015              @Teroldego Rotaliano  \n",
       "3424              303     NaN  2023                             @Reg3  \n",
       "3425               28   36.50  2016                           @Barolo  \n",
       "3426               28   14.35  2017            @Primitivo di Manduria  "
      ]
     },
     "metadata": {},
     "output_type": "display_data"
    },
    {
     "name": "stdout",
     "output_type": "stream",
     "text": [
      "<class 'pandas.core.frame.DataFrame'>\n",
      "RangeIndex: 8669 entries, 0 to 8668\n",
      "Data columns (total 9 columns):\n",
      " #   Column           Non-Null Count  Dtype  \n",
      "---  ------           --------------  -----  \n",
      " 0   Name             8669 non-null   object \n",
      " 1   Country          8666 non-null   object \n",
      " 2   Region           8669 non-null   object \n",
      " 3   Winery           8669 non-null   object \n",
      " 4   Rating           8668 non-null   float64\n",
      " 5   NumberOfRatings  8669 non-null   int64  \n",
      " 6   Price            8668 non-null   float64\n",
      " 7   Year             8669 non-null   object \n",
      " 8   twitter_region   8669 non-null   object \n",
      "dtypes: float64(2), int64(1), object(6)\n",
      "memory usage: 609.7+ KB\n",
      "None\n"
     ]
    },
    {
     "data": {
      "text/plain": [
       "(RangeIndex(start=0, stop=8669, step=1), dtype('int64'))"
      ]
     },
     "execution_count": 31,
     "metadata": {},
     "output_type": "execute_result"
    }
   ],
   "source": [
    "## Adding rows with NaN Values - new 'revs' df to work on...\n",
    "\n",
    "# add a row at the end\n",
    "ndf_row1 = pd.DataFrame({'Name': 'Name1', 'Country': np.nan, 'Region': 'Reg1',\n",
    "                         'Winery': 'Win1', 'Rating': 1, 'NumberOfRatings': 101,\n",
    "                         'Price': 10.1, 'Year': 2021, 'twitter_region': '@Reg1'}, index=[0])\n",
    "\n",
    "revs = pd.concat([reviews, ndf_row1]).reset_index(drop=True)    # concat at the end\n",
    "\n",
    "# add a row at the beginning\n",
    "ndf_row2 = pd.DataFrame({'Name': 'Name2', 'Country': np.nan, 'Region': 'Reg2',\n",
    "                         'Winery': 'Win2', 'Rating': 2, 'NumberOfRatings': 202,\n",
    "                         'Price': 20., 'Year': 2022, 'twitter_region': '@Reg2'}, index=[0])\n",
    "\n",
    "revs = pd.concat([ndf_row2, revs]).reset_index(drop=True)    # concat at the beginning and in the same df\n",
    "\n",
    "# Insert a row somewhere in the middle\n",
    "lst_row3 = ['Name3', np.nan, 'Reg3', 'Win3', np.nan, 303, np.nan,2023, '@Reg3']\n",
    "revs.loc[3423.5] = lst_row3                         # make index float and insert in .5\n",
    "revs = revs.sort_index().reset_index(drop=True)     # mak index int again and interpolate values\n",
    "\n",
    "display(revs.tail(2))\n",
    "display(revs.head(2))\n",
    "display(revs.loc[3422:3426])\n",
    "print(revs.info())              # some cols non-null < 8669\n",
    "revs.index, revs.index.dtype\n"
   ]
  },
  {
   "attachments": {},
   "cell_type": "markdown",
   "metadata": {},
   "source": [
    "### 1.- What is the data type of the points column in the dataset?"
   ]
  },
  {
   "cell_type": "code",
   "execution_count": 32,
   "metadata": {},
   "outputs": [
    {
     "name": "stdout",
     "output_type": "stream",
     "text": [
      "float64  -  <class 'numpy.dtype[float64]'>\n"
     ]
    }
   ],
   "source": [
    "# for Rating col > a Value\n",
    "Rating_dtype = revs.Rating.dtype\n",
    "print(Rating_dtype, ' - ', type(Rating_dtype))"
   ]
  },
  {
   "cell_type": "code",
   "execution_count": 33,
   "metadata": {},
   "outputs": [
    {
     "data": {
      "text/plain": [
       "(Name                object\n",
       " Country             object\n",
       " Region              object\n",
       " Winery              object\n",
       " Rating             float64\n",
       " NumberOfRatings      int64\n",
       " Price              float64\n",
       " Year                object\n",
       " twitter_region      object\n",
       " dtype: object,\n",
       " pandas.core.series.Series)"
      ]
     },
     "execution_count": 33,
     "metadata": {},
     "output_type": "execute_result"
    }
   ],
   "source": [
    "# alt  -- all cols > a Series\n",
    "revs.dtypes, type(revs.dtypes)"
   ]
  },
  {
   "cell_type": "code",
   "execution_count": 34,
   "metadata": {},
   "outputs": [
    {
     "name": "stdout",
     "output_type": "stream",
     "text": [
      "<class 'pandas.core.frame.DataFrame'>\n",
      "RangeIndex: 8669 entries, 0 to 8668\n",
      "Data columns (total 9 columns):\n",
      " #   Column           Non-Null Count  Dtype  \n",
      "---  ------           --------------  -----  \n",
      " 0   Name             8669 non-null   object \n",
      " 1   Country          8666 non-null   object \n",
      " 2   Region           8669 non-null   object \n",
      " 3   Winery           8669 non-null   object \n",
      " 4   Rating           8668 non-null   float64\n",
      " 5   NumberOfRatings  8669 non-null   int64  \n",
      " 6   Price            8668 non-null   float64\n",
      " 7   Year             8669 non-null   object \n",
      " 8   twitter_region   8669 non-null   object \n",
      "dtypes: float64(2), int64(1), object(6)\n",
      "memory usage: 609.7+ KB\n",
      "None   --   <class 'NoneType'>\n"
     ]
    },
    {
     "data": {
      "text/plain": [
       "NoneType"
      ]
     },
     "execution_count": 34,
     "metadata": {},
     "output_type": "execute_result"
    }
   ],
   "source": [
    "# alt  -- more info > a df?\n",
    "revs_info = revs.info()\n",
    "print(revs_info, '  --  ', type(revs_info))\n",
    "type(revs_info)"
   ]
  },
  {
   "attachments": {},
   "cell_type": "markdown",
   "metadata": {},
   "source": [
    "### 2.- Create a Series from entries in the points column, but convert the entries to strings. Hint: strings are str in native Python."
   ]
  },
  {
   "cell_type": "code",
   "execution_count": 35,
   "metadata": {},
   "outputs": [
    {
     "data": {
      "text/plain": [
       "(0       2.0\n",
       " 1       4.2\n",
       " 2       4.3\n",
       " 3       3.9\n",
       " 4       3.5\n",
       "        ... \n",
       " 8664    4.0\n",
       " 8665    3.7\n",
       " 8666    3.5\n",
       " 8667    3.4\n",
       " 8668    1.0\n",
       " Name: Rating, Length: 8669, dtype: object,\n",
       " pandas.core.series.Series,\n",
       " dtype('O'))"
      ]
     },
     "execution_count": 35,
     "metadata": {},
     "output_type": "execute_result"
    }
   ],
   "source": [
    "# use Rating col  - change type: astype\n",
    "rating_str = revs.Rating.astype('str')\n",
    "rating_str, type(rating_str), rating_str.dtype"
   ]
  },
  {
   "attachments": {},
   "cell_type": "markdown",
   "metadata": {},
   "source": [
    "### 3.- Sometimes the price column is null. How many reviews in the dataset are missing a price?"
   ]
  },
  {
   "cell_type": "code",
   "execution_count": 38,
   "metadata": {},
   "outputs": [
    {
     "data": {
      "text/html": [
       "<div>\n",
       "<style scoped>\n",
       "    .dataframe tbody tr th:only-of-type {\n",
       "        vertical-align: middle;\n",
       "    }\n",
       "\n",
       "    .dataframe tbody tr th {\n",
       "        vertical-align: top;\n",
       "    }\n",
       "\n",
       "    .dataframe thead th {\n",
       "        text-align: right;\n",
       "    }\n",
       "</style>\n",
       "<table border=\"1\" class=\"dataframe\">\n",
       "  <thead>\n",
       "    <tr style=\"text-align: right;\">\n",
       "      <th></th>\n",
       "      <th>Name</th>\n",
       "      <th>Country</th>\n",
       "      <th>Region</th>\n",
       "      <th>Winery</th>\n",
       "      <th>Rating</th>\n",
       "      <th>NumberOfRatings</th>\n",
       "      <th>Price</th>\n",
       "      <th>Year</th>\n",
       "      <th>twitter_region</th>\n",
       "    </tr>\n",
       "  </thead>\n",
       "  <tbody>\n",
       "    <tr>\n",
       "      <th>3424</th>\n",
       "      <td>Name3</td>\n",
       "      <td>NaN</td>\n",
       "      <td>Reg3</td>\n",
       "      <td>Win3</td>\n",
       "      <td>NaN</td>\n",
       "      <td>303</td>\n",
       "      <td>NaN</td>\n",
       "      <td>2023</td>\n",
       "      <td>@Reg3</td>\n",
       "    </tr>\n",
       "  </tbody>\n",
       "</table>\n",
       "</div>"
      ],
      "text/plain": [
       "       Name Country Region Winery  Rating  NumberOfRatings  Price  Year  \\\n",
       "3424  Name3     NaN   Reg3   Win3     NaN              303    NaN  2023   \n",
       "\n",
       "     twitter_region  \n",
       "3424          @Reg3  "
      ]
     },
     "metadata": {},
     "output_type": "display_data"
    },
    {
     "data": {
      "text/plain": [
       "1"
      ]
     },
     "execution_count": 38,
     "metadata": {},
     "output_type": "execute_result"
    }
   ],
   "source": [
    "# Price\n",
    "display(revs[pd.isnull(revs.Price)])\n",
    "len(revs[pd.isnull(revs.Price)])"
   ]
  },
  {
   "attachments": {},
   "cell_type": "markdown",
   "metadata": {},
   "source": [
    "### 4.- What are the most common wine-producing regions? Create a Series counting the number of times each value occurs in the region_1 field. This field is often missing data, so replace missing values with Unknown. Sort in descending order. Your output should look something like this:"
   ]
  },
  {
   "cell_type": "code",
   "execution_count": 39,
   "metadata": {},
   "outputs": [
    {
     "data": {
      "text/plain": [
       "Cabernet Sauvignon 2017          43\n",
       "Cabernet Sauvignon 2016          41\n",
       "Cabernet Sauvignon 2015          35\n",
       "Crianza 2016                     27\n",
       "Pinot Noir 2017                  25\n",
       "                                 ..\n",
       "Crianza Ribera del Duero 2014     1\n",
       "La Mancha Reserva 2005            1\n",
       "Pura Fe Carmenère 2016            1\n",
       "Kékfrankos Balf 2017              1\n",
       "Name1                             1\n",
       "Name: Name, Length: 6724, dtype: int64"
      ]
     },
     "execution_count": 39,
     "metadata": {},
     "output_type": "execute_result"
    }
   ],
   "source": [
    "# Use Country col - Now see no NaN col\n",
    "revs.Name.value_counts()"
   ]
  },
  {
   "cell_type": "code",
   "execution_count": 42,
   "metadata": {},
   "outputs": [
    {
     "data": {
      "text/html": [
       "<div>\n",
       "<style scoped>\n",
       "    .dataframe tbody tr th:only-of-type {\n",
       "        vertical-align: middle;\n",
       "    }\n",
       "\n",
       "    .dataframe tbody tr th {\n",
       "        vertical-align: top;\n",
       "    }\n",
       "\n",
       "    .dataframe thead th {\n",
       "        text-align: right;\n",
       "    }\n",
       "</style>\n",
       "<table border=\"1\" class=\"dataframe\">\n",
       "  <thead>\n",
       "    <tr style=\"text-align: right;\">\n",
       "      <th></th>\n",
       "      <th>Name</th>\n",
       "      <th>Country</th>\n",
       "      <th>Region</th>\n",
       "      <th>Winery</th>\n",
       "      <th>Rating</th>\n",
       "      <th>NumberOfRatings</th>\n",
       "      <th>Price</th>\n",
       "      <th>Year</th>\n",
       "      <th>twitter_region</th>\n",
       "    </tr>\n",
       "  </thead>\n",
       "  <tbody>\n",
       "    <tr>\n",
       "      <th>0</th>\n",
       "      <td>Name2</td>\n",
       "      <td>NaN</td>\n",
       "      <td>Reg2</td>\n",
       "      <td>Win2</td>\n",
       "      <td>2.0</td>\n",
       "      <td>202</td>\n",
       "      <td>20.0</td>\n",
       "      <td>2022</td>\n",
       "      <td>@Reg2</td>\n",
       "    </tr>\n",
       "    <tr>\n",
       "      <th>3424</th>\n",
       "      <td>Name3</td>\n",
       "      <td>NaN</td>\n",
       "      <td>Reg3</td>\n",
       "      <td>Win3</td>\n",
       "      <td>NaN</td>\n",
       "      <td>303</td>\n",
       "      <td>NaN</td>\n",
       "      <td>2023</td>\n",
       "      <td>@Reg3</td>\n",
       "    </tr>\n",
       "    <tr>\n",
       "      <th>8668</th>\n",
       "      <td>Name1</td>\n",
       "      <td>NaN</td>\n",
       "      <td>Reg1</td>\n",
       "      <td>Win1</td>\n",
       "      <td>1.0</td>\n",
       "      <td>101</td>\n",
       "      <td>10.1</td>\n",
       "      <td>2021</td>\n",
       "      <td>@Reg1</td>\n",
       "    </tr>\n",
       "  </tbody>\n",
       "</table>\n",
       "</div>"
      ],
      "text/plain": [
       "       Name Country Region Winery  Rating  NumberOfRatings  Price  Year  \\\n",
       "0     Name2     NaN   Reg2   Win2     2.0              202   20.0  2022   \n",
       "3424  Name3     NaN   Reg3   Win3     NaN              303    NaN  2023   \n",
       "8668  Name1     NaN   Reg1   Win1     1.0              101   10.1  2021   \n",
       "\n",
       "     twitter_region  \n",
       "0             @Reg2  \n",
       "3424          @Reg3  \n",
       "8668          @Reg1  "
      ]
     },
     "metadata": {},
     "output_type": "display_data"
    },
    {
     "data": {
      "text/plain": [
       "Slovakia            1\n",
       "Mexico              1\n",
       "China               1\n",
       "Canada              2\n",
       "Bulgaria            2\n",
       "Croatia             2\n",
       "Uruguay             4\n",
       "Georgia             5\n",
       "Turkey              6\n",
       "Slovenia            8\n",
       "Moldova             8\n",
       "Hungary             9\n",
       "Switzerland        12\n",
       "Greece             13\n",
       "Israel             13\n",
       "Lebanon            15\n",
       "Romania            23\n",
       "Brazil             40\n",
       "New Zealand        63\n",
       "Austria           220\n",
       "Portugal          230\n",
       "Argentina         246\n",
       "Australia         246\n",
       "Germany           248\n",
       "Chile             326\n",
       "United States     374\n",
       "South Africa      500\n",
       "Spain            1142\n",
       "France           2256\n",
       "Italy            2650\n",
       "Name: Country, dtype: int64"
      ]
     },
     "execution_count": 42,
     "metadata": {},
     "output_type": "execute_result"
    }
   ],
   "source": [
    "# Country has NaN values\n",
    "display(revs[pd.isnull(revs.Country)])\n",
    "revs.Country.value_counts().sort_values(ascending=True)"
   ]
  },
  {
   "cell_type": "code",
   "execution_count": 45,
   "metadata": {},
   "outputs": [
    {
     "data": {
      "text/html": [
       "<div>\n",
       "<style scoped>\n",
       "    .dataframe tbody tr th:only-of-type {\n",
       "        vertical-align: middle;\n",
       "    }\n",
       "\n",
       "    .dataframe tbody tr th {\n",
       "        vertical-align: top;\n",
       "    }\n",
       "\n",
       "    .dataframe thead th {\n",
       "        text-align: right;\n",
       "    }\n",
       "</style>\n",
       "<table border=\"1\" class=\"dataframe\">\n",
       "  <thead>\n",
       "    <tr style=\"text-align: right;\">\n",
       "      <th></th>\n",
       "      <th>Name</th>\n",
       "      <th>Country</th>\n",
       "      <th>Region</th>\n",
       "      <th>Winery</th>\n",
       "      <th>Rating</th>\n",
       "      <th>NumberOfRatings</th>\n",
       "      <th>Price</th>\n",
       "      <th>Year</th>\n",
       "      <th>twitter_region</th>\n",
       "    </tr>\n",
       "  </thead>\n",
       "  <tbody>\n",
       "    <tr>\n",
       "      <th>0</th>\n",
       "      <td>Name2</td>\n",
       "      <td>Unknown</td>\n",
       "      <td>Reg2</td>\n",
       "      <td>Win2</td>\n",
       "      <td>2.0</td>\n",
       "      <td>202</td>\n",
       "      <td>20.0</td>\n",
       "      <td>2022</td>\n",
       "      <td>@Reg2</td>\n",
       "    </tr>\n",
       "    <tr>\n",
       "      <th>3424</th>\n",
       "      <td>Name3</td>\n",
       "      <td>Unknown</td>\n",
       "      <td>Reg3</td>\n",
       "      <td>Win3</td>\n",
       "      <td>NaN</td>\n",
       "      <td>303</td>\n",
       "      <td>NaN</td>\n",
       "      <td>2023</td>\n",
       "      <td>@Reg3</td>\n",
       "    </tr>\n",
       "    <tr>\n",
       "      <th>8668</th>\n",
       "      <td>Name1</td>\n",
       "      <td>Unknown</td>\n",
       "      <td>Reg1</td>\n",
       "      <td>Win1</td>\n",
       "      <td>1.0</td>\n",
       "      <td>101</td>\n",
       "      <td>10.1</td>\n",
       "      <td>2021</td>\n",
       "      <td>@Reg1</td>\n",
       "    </tr>\n",
       "  </tbody>\n",
       "</table>\n",
       "</div>"
      ],
      "text/plain": [
       "       Name  Country Region Winery  Rating  NumberOfRatings  Price  Year  \\\n",
       "0     Name2  Unknown   Reg2   Win2     2.0              202   20.0  2022   \n",
       "3424  Name3  Unknown   Reg3   Win3     NaN              303    NaN  2023   \n",
       "8668  Name1  Unknown   Reg1   Win1     1.0              101   10.1  2021   \n",
       "\n",
       "     twitter_region  \n",
       "0             @Reg2  \n",
       "3424          @Reg3  \n",
       "8668          @Reg1  "
      ]
     },
     "execution_count": 45,
     "metadata": {},
     "output_type": "execute_result"
    }
   ],
   "source": [
    "revs['Country'] = revs.Country.replace(np.nan, 'Unknown')\n",
    "revs.loc[revs.Country == 'Unknown']"
   ]
  },
  {
   "cell_type": "code",
   "execution_count": 47,
   "metadata": {},
   "outputs": [
    {
     "data": {
      "text/plain": [
       "Slovakia            1\n",
       "China               1\n",
       "Mexico              1\n",
       "Canada              2\n",
       "Croatia             2\n",
       "Bulgaria            2\n",
       "Unknown             3\n",
       "Uruguay             4\n",
       "Georgia             5\n",
       "Turkey              6\n",
       "Slovenia            8\n",
       "Moldova             8\n",
       "Hungary             9\n",
       "Switzerland        12\n",
       "Greece             13\n",
       "Israel             13\n",
       "Lebanon            15\n",
       "Romania            23\n",
       "Brazil             40\n",
       "New Zealand        63\n",
       "Austria           220\n",
       "Portugal          230\n",
       "Argentina         246\n",
       "Australia         246\n",
       "Germany           248\n",
       "Chile             326\n",
       "United States     374\n",
       "South Africa      500\n",
       "Spain            1142\n",
       "France           2256\n",
       "Italy            2650\n",
       "Name: Country, dtype: int64"
      ]
     },
     "execution_count": 47,
     "metadata": {},
     "output_type": "execute_result"
    }
   ],
   "source": [
    "revs.Country.value_counts(ascending=True)"
   ]
  },
  {
   "cell_type": "code",
   "execution_count": 46,
   "metadata": {},
   "outputs": [
    {
     "data": {
      "text/plain": [
       "Argentina    7\n",
       "Name: Country, dtype: int64"
      ]
     },
     "execution_count": 46,
     "metadata": {},
     "output_type": "execute_result"
    }
   ],
   "source": [
    "revs.loc[revs.Region == 'Tunuyán'].Country.value_counts()"
   ]
  },
  {
   "cell_type": "code",
   "execution_count": null,
   "metadata": {},
   "outputs": [],
   "source": [
    "## 4 OK\n",
    "#import numpy as np\n",
    "#reviews.region_1.replace(np.nan, 'Unknown')\n",
    "reviews.region_1 = reviews.region_1.fillna('Unknown')\n",
    "reviews_per_region = reviews.region_1.value_counts()"
   ]
  }
 ],
 "metadata": {
  "kernelspec": {
   "display_name": "Python 3",
   "language": "python",
   "name": "python3"
  },
  "language_info": {
   "codemirror_mode": {
    "name": "ipython",
    "version": 3
   },
   "file_extension": ".py",
   "mimetype": "text/x-python",
   "name": "python",
   "nbconvert_exporter": "python",
   "pygments_lexer": "ipython3",
   "version": "3.11.0"
  },
  "orig_nbformat": 4
 },
 "nbformat": 4,
 "nbformat_minor": 2
}
