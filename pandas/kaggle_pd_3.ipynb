{
 "cells": [
  {
   "attachments": {},
   "cell_type": "markdown",
   "metadata": {},
   "source": [
    "# Pandas\n",
    "- Solve short hands-on challenges to perfect your data manipulation skills.\n",
    "- https://www.kaggle.com/learn/pandas"
   ]
  },
  {
   "attachments": {},
   "cell_type": "markdown",
   "metadata": {},
   "source": [
    "## 3.- Summary Functions and Maps\n",
    "- Extract insights from your data.    \n",
    "Let's see"
   ]
  },
  {
   "cell_type": "code",
   "execution_count": 1,
   "metadata": {},
   "outputs": [
    {
     "name": "stdout",
     "output_type": "stream",
     "text": [
      "np.__version__: 1.23.5\n",
      "pd.__version__: 1.5.3\n"
     ]
    }
   ],
   "source": [
    "import numpy as np\n",
    "import pandas as pd\n",
    "\n",
    "print('np.__version__:', np.__version__)\n",
    "print('pd.__version__:', pd.__version__)\n",
    "\n",
    "#pd.set_option('display.max_rows', 5)"
   ]
  },
  {
   "cell_type": "code",
   "execution_count": 2,
   "metadata": {},
   "outputs": [
    {
     "data": {
      "text/html": [
       "<div>\n",
       "<style scoped>\n",
       "    .dataframe tbody tr th:only-of-type {\n",
       "        vertical-align: middle;\n",
       "    }\n",
       "\n",
       "    .dataframe tbody tr th {\n",
       "        vertical-align: top;\n",
       "    }\n",
       "\n",
       "    .dataframe thead th {\n",
       "        text-align: right;\n",
       "    }\n",
       "</style>\n",
       "<table border=\"1\" class=\"dataframe\">\n",
       "  <thead>\n",
       "    <tr style=\"text-align: right;\">\n",
       "      <th></th>\n",
       "      <th>Name</th>\n",
       "      <th>Country</th>\n",
       "      <th>Region</th>\n",
       "      <th>Winery</th>\n",
       "      <th>Rating</th>\n",
       "      <th>NumberOfRatings</th>\n",
       "      <th>Price</th>\n",
       "      <th>Year</th>\n",
       "    </tr>\n",
       "  </thead>\n",
       "  <tbody>\n",
       "    <tr>\n",
       "      <th>0</th>\n",
       "      <td>Pomerol 2011</td>\n",
       "      <td>France</td>\n",
       "      <td>Pomerol</td>\n",
       "      <td>Château La Providence</td>\n",
       "      <td>4.2</td>\n",
       "      <td>100</td>\n",
       "      <td>95.00</td>\n",
       "      <td>2011</td>\n",
       "    </tr>\n",
       "    <tr>\n",
       "      <th>1</th>\n",
       "      <td>Lirac 2017</td>\n",
       "      <td>France</td>\n",
       "      <td>Lirac</td>\n",
       "      <td>Château Mont-Redon</td>\n",
       "      <td>4.3</td>\n",
       "      <td>100</td>\n",
       "      <td>15.50</td>\n",
       "      <td>2017</td>\n",
       "    </tr>\n",
       "    <tr>\n",
       "      <th>2</th>\n",
       "      <td>Erta e China Rosso di Toscana 2015</td>\n",
       "      <td>Italy</td>\n",
       "      <td>Toscana</td>\n",
       "      <td>Renzo Masi</td>\n",
       "      <td>3.9</td>\n",
       "      <td>100</td>\n",
       "      <td>7.45</td>\n",
       "      <td>2015</td>\n",
       "    </tr>\n",
       "    <tr>\n",
       "      <th>3</th>\n",
       "      <td>Bardolino 2019</td>\n",
       "      <td>Italy</td>\n",
       "      <td>Bardolino</td>\n",
       "      <td>Cavalchina</td>\n",
       "      <td>3.5</td>\n",
       "      <td>100</td>\n",
       "      <td>8.72</td>\n",
       "      <td>2019</td>\n",
       "    </tr>\n",
       "    <tr>\n",
       "      <th>4</th>\n",
       "      <td>Ried Scheibner Pinot Noir 2016</td>\n",
       "      <td>Austria</td>\n",
       "      <td>Carnuntum</td>\n",
       "      <td>Markowitsch</td>\n",
       "      <td>3.9</td>\n",
       "      <td>100</td>\n",
       "      <td>29.15</td>\n",
       "      <td>2016</td>\n",
       "    </tr>\n",
       "    <tr>\n",
       "      <th>...</th>\n",
       "      <td>...</td>\n",
       "      <td>...</td>\n",
       "      <td>...</td>\n",
       "      <td>...</td>\n",
       "      <td>...</td>\n",
       "      <td>...</td>\n",
       "      <td>...</td>\n",
       "      <td>...</td>\n",
       "    </tr>\n",
       "    <tr>\n",
       "      <th>8661</th>\n",
       "      <td>6th Sense Syrah 2016</td>\n",
       "      <td>United States</td>\n",
       "      <td>Lodi</td>\n",
       "      <td>Michael David Winery</td>\n",
       "      <td>3.8</td>\n",
       "      <td>994</td>\n",
       "      <td>16.47</td>\n",
       "      <td>2016</td>\n",
       "    </tr>\n",
       "    <tr>\n",
       "      <th>8662</th>\n",
       "      <td>Botrosecco Maremma Toscana 2016</td>\n",
       "      <td>Italy</td>\n",
       "      <td>Maremma Toscana</td>\n",
       "      <td>Le Mortelle</td>\n",
       "      <td>4.0</td>\n",
       "      <td>995</td>\n",
       "      <td>20.09</td>\n",
       "      <td>2016</td>\n",
       "    </tr>\n",
       "    <tr>\n",
       "      <th>8663</th>\n",
       "      <td>Haut-Médoc 2010</td>\n",
       "      <td>France</td>\n",
       "      <td>Haut-Médoc</td>\n",
       "      <td>Château Cambon La Pelouse</td>\n",
       "      <td>3.7</td>\n",
       "      <td>996</td>\n",
       "      <td>23.95</td>\n",
       "      <td>2010</td>\n",
       "    </tr>\n",
       "    <tr>\n",
       "      <th>8664</th>\n",
       "      <td>Shiraz 2019</td>\n",
       "      <td>Australia</td>\n",
       "      <td>South Eastern Australia</td>\n",
       "      <td>Yellow Tail</td>\n",
       "      <td>3.5</td>\n",
       "      <td>998</td>\n",
       "      <td>6.21</td>\n",
       "      <td>2019</td>\n",
       "    </tr>\n",
       "    <tr>\n",
       "      <th>8665</th>\n",
       "      <td>Portillo Cabernet Sauvignon 2016</td>\n",
       "      <td>Argentina</td>\n",
       "      <td>Tunuyán</td>\n",
       "      <td>Salentein</td>\n",
       "      <td>3.4</td>\n",
       "      <td>999</td>\n",
       "      <td>7.88</td>\n",
       "      <td>2016</td>\n",
       "    </tr>\n",
       "  </tbody>\n",
       "</table>\n",
       "<p>8666 rows × 8 columns</p>\n",
       "</div>"
      ],
      "text/plain": [
       "                                    Name        Country  \\\n",
       "0                           Pomerol 2011         France   \n",
       "1                             Lirac 2017         France   \n",
       "2     Erta e China Rosso di Toscana 2015          Italy   \n",
       "3                         Bardolino 2019          Italy   \n",
       "4         Ried Scheibner Pinot Noir 2016        Austria   \n",
       "...                                  ...            ...   \n",
       "8661                6th Sense Syrah 2016  United States   \n",
       "8662     Botrosecco Maremma Toscana 2016          Italy   \n",
       "8663                     Haut-Médoc 2010         France   \n",
       "8664                         Shiraz 2019      Australia   \n",
       "8665    Portillo Cabernet Sauvignon 2016      Argentina   \n",
       "\n",
       "                       Region                     Winery  Rating  \\\n",
       "0                     Pomerol      Château La Providence     4.2   \n",
       "1                       Lirac         Château Mont-Redon     4.3   \n",
       "2                     Toscana                 Renzo Masi     3.9   \n",
       "3                   Bardolino                 Cavalchina     3.5   \n",
       "4                   Carnuntum                Markowitsch     3.9   \n",
       "...                       ...                        ...     ...   \n",
       "8661                     Lodi       Michael David Winery     3.8   \n",
       "8662          Maremma Toscana                Le Mortelle     4.0   \n",
       "8663               Haut-Médoc  Château Cambon La Pelouse     3.7   \n",
       "8664  South Eastern Australia                Yellow Tail     3.5   \n",
       "8665                  Tunuyán                  Salentein     3.4   \n",
       "\n",
       "      NumberOfRatings  Price  Year  \n",
       "0                 100  95.00  2011  \n",
       "1                 100  15.50  2017  \n",
       "2                 100   7.45  2015  \n",
       "3                 100   8.72  2019  \n",
       "4                 100  29.15  2016  \n",
       "...               ...    ...   ...  \n",
       "8661              994  16.47  2016  \n",
       "8662              995  20.09  2016  \n",
       "8663              996  23.95  2010  \n",
       "8664              998   6.21  2019  \n",
       "8665              999   7.88  2016  \n",
       "\n",
       "[8666 rows x 8 columns]"
      ]
     },
     "execution_count": 2,
     "metadata": {},
     "output_type": "execute_result"
    }
   ],
   "source": [
    "reviews = pd.read_csv('Red.csv')\n",
    "reviews"
   ]
  },
  {
   "cell_type": "markdown",
   "metadata": {},
   "source": [
    "### Summary functions (not an official name)\n",
    "- ex. .discribe() "
   ]
  },
  {
   "cell_type": "code",
   "execution_count": 3,
   "metadata": {},
   "outputs": [
    {
     "data": {
      "text/html": [
       "<div>\n",
       "<style scoped>\n",
       "    .dataframe tbody tr th:only-of-type {\n",
       "        vertical-align: middle;\n",
       "    }\n",
       "\n",
       "    .dataframe tbody tr th {\n",
       "        vertical-align: top;\n",
       "    }\n",
       "\n",
       "    .dataframe thead th {\n",
       "        text-align: right;\n",
       "    }\n",
       "</style>\n",
       "<table border=\"1\" class=\"dataframe\">\n",
       "  <thead>\n",
       "    <tr style=\"text-align: right;\">\n",
       "      <th></th>\n",
       "      <th>Rating</th>\n",
       "      <th>NumberOfRatings</th>\n",
       "      <th>Price</th>\n",
       "    </tr>\n",
       "  </thead>\n",
       "  <tbody>\n",
       "    <tr>\n",
       "      <th>count</th>\n",
       "      <td>8666.000000</td>\n",
       "      <td>8666.000000</td>\n",
       "      <td>8666.000000</td>\n",
       "    </tr>\n",
       "    <tr>\n",
       "      <th>mean</th>\n",
       "      <td>3.890342</td>\n",
       "      <td>415.287445</td>\n",
       "      <td>39.145065</td>\n",
       "    </tr>\n",
       "    <tr>\n",
       "      <th>std</th>\n",
       "      <td>0.308548</td>\n",
       "      <td>899.726373</td>\n",
       "      <td>84.936307</td>\n",
       "    </tr>\n",
       "    <tr>\n",
       "      <th>min</th>\n",
       "      <td>2.500000</td>\n",
       "      <td>25.000000</td>\n",
       "      <td>3.550000</td>\n",
       "    </tr>\n",
       "    <tr>\n",
       "      <th>25%</th>\n",
       "      <td>3.700000</td>\n",
       "      <td>66.000000</td>\n",
       "      <td>10.680000</td>\n",
       "    </tr>\n",
       "    <tr>\n",
       "      <th>50%</th>\n",
       "      <td>3.900000</td>\n",
       "      <td>157.000000</td>\n",
       "      <td>18.200000</td>\n",
       "    </tr>\n",
       "    <tr>\n",
       "      <th>75%</th>\n",
       "      <td>4.100000</td>\n",
       "      <td>401.000000</td>\n",
       "      <td>38.142500</td>\n",
       "    </tr>\n",
       "    <tr>\n",
       "      <th>max</th>\n",
       "      <td>4.800000</td>\n",
       "      <td>20293.000000</td>\n",
       "      <td>3410.790000</td>\n",
       "    </tr>\n",
       "  </tbody>\n",
       "</table>\n",
       "</div>"
      ],
      "text/plain": [
       "            Rating  NumberOfRatings        Price\n",
       "count  8666.000000      8666.000000  8666.000000\n",
       "mean      3.890342       415.287445    39.145065\n",
       "std       0.308548       899.726373    84.936307\n",
       "min       2.500000        25.000000     3.550000\n",
       "25%       3.700000        66.000000    10.680000\n",
       "50%       3.900000       157.000000    18.200000\n",
       "75%       4.100000       401.000000    38.142500\n",
       "max       4.800000     20293.000000  3410.790000"
      ]
     },
     "execution_count": 3,
     "metadata": {},
     "output_type": "execute_result"
    }
   ],
   "source": [
    "# describe for all columns (df.describe())\n",
    "reviews.describe()\n",
    "# type(reviews.describe())    # pandas.core.frame.DataFrame"
   ]
  },
  {
   "cell_type": "code",
   "execution_count": 4,
   "metadata": {},
   "outputs": [
    {
     "data": {
      "text/plain": [
       "count    8666.000000\n",
       "mean       39.145065\n",
       "std        84.936307\n",
       "min         3.550000\n",
       "25%        10.680000\n",
       "50%        18.200000\n",
       "75%        38.142500\n",
       "max      3410.790000\n",
       "Name: Price, dtype: float64"
      ]
     },
     "execution_count": 4,
     "metadata": {},
     "output_type": "execute_result"
    }
   ],
   "source": [
    "# describe for only one column (Series.describe())\n",
    "reviews.Price.describe()\n",
    "# type(reviews.Price.describe())  # pandas.core.series.Series"
   ]
  },
  {
   "cell_type": "code",
   "execution_count": 5,
   "metadata": {},
   "outputs": [
    {
     "data": {
      "text/plain": [
       "count      8666\n",
       "unique       30\n",
       "top       Italy\n",
       "freq       2650\n",
       "Name: Country, dtype: object"
      ]
     },
     "execution_count": 5,
     "metadata": {},
     "output_type": "execute_result"
    }
   ],
   "source": [
    "# for string data here's what we get:\n",
    "reviews.Country.describe()"
   ]
  },
  {
   "cell_type": "code",
   "execution_count": 6,
   "metadata": {},
   "outputs": [
    {
     "name": "stdout",
     "output_type": "stream",
     "text": [
      "Rating.mean():           3.89\n",
      "Price.max():          3410.79\n",
      "Country.count():      8666.00\n"
     ]
    }
   ],
   "source": [
    "# particular simply statistics, ex.:\n",
    "print(f\"{'Rating.mean():':<20} {reviews.Rating.mean():>8.2f}\")\n",
    "print(f\"{'Price.max():':<20} {reviews.Price.max():>8.2f}\")\n",
    "print(f\"{'Country.count():':<20} {reviews.Country.count():>8.2f}\")"
   ]
  },
  {
   "cell_type": "code",
   "execution_count": 7,
   "metadata": {},
   "outputs": [
    {
     "name": "stdout",
     "output_type": "stream",
     "text": [
      "30\n"
     ]
    },
    {
     "data": {
      "text/plain": [
       "array(['France', 'Italy', 'Austria', 'New Zealand', 'Chile', 'Australia',\n",
       "       'South Africa', 'Spain', 'United States', 'Portugal', 'Hungary',\n",
       "       'Brazil', 'Argentina', 'Romania', 'Germany', 'Greece', 'Mexico',\n",
       "       'Moldova', 'Switzerland', 'Slovenia', 'Israel', 'Georgia',\n",
       "       'Lebanon', 'Uruguay', 'Turkey', 'Croatia', 'China', 'Slovakia',\n",
       "       'Bulgaria', 'Canada'], dtype=object)"
      ]
     },
     "execution_count": 7,
     "metadata": {},
     "output_type": "execute_result"
    }
   ],
   "source": [
    "# To see a list of unique values we can use the unique() function:\n",
    "print(len(reviews.Country.unique()))\n",
    "reviews.Country.unique()\n",
    "# type(reviews.Country.unique())      # numpy.ndarray"
   ]
  },
  {
   "cell_type": "code",
   "execution_count": 8,
   "metadata": {},
   "outputs": [
    {
     "data": {
      "text/plain": [
       "Italy            2650\n",
       "France           2256\n",
       "Spain            1142\n",
       "South Africa      500\n",
       "United States     374\n",
       "Chile             326\n",
       "Germany           248\n",
       "Australia         246\n",
       "Argentina         246\n",
       "Portugal          230\n",
       "Austria           220\n",
       "New Zealand        63\n",
       "Brazil             40\n",
       "Romania            23\n",
       "Lebanon            15\n",
       "Israel             13\n",
       "Greece             13\n",
       "Switzerland        12\n",
       "Hungary             9\n",
       "Moldova             8\n",
       "Slovenia            8\n",
       "Turkey              6\n",
       "Georgia             5\n",
       "Uruguay             4\n",
       "Croatia             2\n",
       "Bulgaria            2\n",
       "Canada              2\n",
       "Mexico              1\n",
       "China               1\n",
       "Slovakia            1\n",
       "Name: Country, dtype: int64"
      ]
     },
     "execution_count": 8,
     "metadata": {},
     "output_type": "execute_result"
    }
   ],
   "source": [
    "# List of unique values and how often they occur in the dataset, we can use the\n",
    "# value_counts() method:\n",
    "reviews.Country.value_counts()"
   ]
  },
  {
   "attachments": {},
   "cell_type": "markdown",
   "metadata": {},
   "source": [
    "### Maps\n",
    "There are two mapping methods that you will use often: map() and apply()"
   ]
  },
  {
   "cell_type": "code",
   "execution_count": 9,
   "metadata": {},
   "outputs": [
    {
     "data": {
      "text/plain": [
       "0       0.309658\n",
       "1       0.409658\n",
       "2       0.009658\n",
       "3      -0.390342\n",
       "4       0.009658\n",
       "          ...   \n",
       "8661   -0.090342\n",
       "8662    0.109658\n",
       "8663   -0.190342\n",
       "8664   -0.390342\n",
       "8665   -0.490342\n",
       "Name: Rating, Length: 8666, dtype: float64"
      ]
     },
     "execution_count": 9,
     "metadata": {},
     "output_type": "execute_result"
    }
   ],
   "source": [
    "###  Remean the Rating to 0. We can do this as follows:\n",
    "reviews.Rating.map(lambda r: r - reviews.Rating.mean())"
   ]
  },
  {
   "cell_type": "code",
   "execution_count": 10,
   "metadata": {},
   "outputs": [
    {
     "data": {
      "text/html": [
       "<div>\n",
       "<style scoped>\n",
       "    .dataframe tbody tr th:only-of-type {\n",
       "        vertical-align: middle;\n",
       "    }\n",
       "\n",
       "    .dataframe tbody tr th {\n",
       "        vertical-align: top;\n",
       "    }\n",
       "\n",
       "    .dataframe thead th {\n",
       "        text-align: right;\n",
       "    }\n",
       "</style>\n",
       "<table border=\"1\" class=\"dataframe\">\n",
       "  <thead>\n",
       "    <tr style=\"text-align: right;\">\n",
       "      <th></th>\n",
       "      <th>Name</th>\n",
       "      <th>Country</th>\n",
       "      <th>Region</th>\n",
       "      <th>Winery</th>\n",
       "      <th>Rating</th>\n",
       "      <th>NumberOfRatings</th>\n",
       "      <th>Price</th>\n",
       "      <th>Year</th>\n",
       "    </tr>\n",
       "  </thead>\n",
       "  <tbody>\n",
       "    <tr>\n",
       "      <th>0</th>\n",
       "      <td>Pomerol 2011</td>\n",
       "      <td>France</td>\n",
       "      <td>Pomerol</td>\n",
       "      <td>Château La Providence</td>\n",
       "      <td>0.309658</td>\n",
       "      <td>100</td>\n",
       "      <td>95.00</td>\n",
       "      <td>2011</td>\n",
       "    </tr>\n",
       "    <tr>\n",
       "      <th>1</th>\n",
       "      <td>Lirac 2017</td>\n",
       "      <td>France</td>\n",
       "      <td>Lirac</td>\n",
       "      <td>Château Mont-Redon</td>\n",
       "      <td>0.409658</td>\n",
       "      <td>100</td>\n",
       "      <td>15.50</td>\n",
       "      <td>2017</td>\n",
       "    </tr>\n",
       "    <tr>\n",
       "      <th>2</th>\n",
       "      <td>Erta e China Rosso di Toscana 2015</td>\n",
       "      <td>Italy</td>\n",
       "      <td>Toscana</td>\n",
       "      <td>Renzo Masi</td>\n",
       "      <td>0.009658</td>\n",
       "      <td>100</td>\n",
       "      <td>7.45</td>\n",
       "      <td>2015</td>\n",
       "    </tr>\n",
       "    <tr>\n",
       "      <th>3</th>\n",
       "      <td>Bardolino 2019</td>\n",
       "      <td>Italy</td>\n",
       "      <td>Bardolino</td>\n",
       "      <td>Cavalchina</td>\n",
       "      <td>-0.390342</td>\n",
       "      <td>100</td>\n",
       "      <td>8.72</td>\n",
       "      <td>2019</td>\n",
       "    </tr>\n",
       "    <tr>\n",
       "      <th>4</th>\n",
       "      <td>Ried Scheibner Pinot Noir 2016</td>\n",
       "      <td>Austria</td>\n",
       "      <td>Carnuntum</td>\n",
       "      <td>Markowitsch</td>\n",
       "      <td>0.009658</td>\n",
       "      <td>100</td>\n",
       "      <td>29.15</td>\n",
       "      <td>2016</td>\n",
       "    </tr>\n",
       "    <tr>\n",
       "      <th>...</th>\n",
       "      <td>...</td>\n",
       "      <td>...</td>\n",
       "      <td>...</td>\n",
       "      <td>...</td>\n",
       "      <td>...</td>\n",
       "      <td>...</td>\n",
       "      <td>...</td>\n",
       "      <td>...</td>\n",
       "    </tr>\n",
       "    <tr>\n",
       "      <th>8661</th>\n",
       "      <td>6th Sense Syrah 2016</td>\n",
       "      <td>United States</td>\n",
       "      <td>Lodi</td>\n",
       "      <td>Michael David Winery</td>\n",
       "      <td>-0.090342</td>\n",
       "      <td>994</td>\n",
       "      <td>16.47</td>\n",
       "      <td>2016</td>\n",
       "    </tr>\n",
       "    <tr>\n",
       "      <th>8662</th>\n",
       "      <td>Botrosecco Maremma Toscana 2016</td>\n",
       "      <td>Italy</td>\n",
       "      <td>Maremma Toscana</td>\n",
       "      <td>Le Mortelle</td>\n",
       "      <td>0.109658</td>\n",
       "      <td>995</td>\n",
       "      <td>20.09</td>\n",
       "      <td>2016</td>\n",
       "    </tr>\n",
       "    <tr>\n",
       "      <th>8663</th>\n",
       "      <td>Haut-Médoc 2010</td>\n",
       "      <td>France</td>\n",
       "      <td>Haut-Médoc</td>\n",
       "      <td>Château Cambon La Pelouse</td>\n",
       "      <td>-0.190342</td>\n",
       "      <td>996</td>\n",
       "      <td>23.95</td>\n",
       "      <td>2010</td>\n",
       "    </tr>\n",
       "    <tr>\n",
       "      <th>8664</th>\n",
       "      <td>Shiraz 2019</td>\n",
       "      <td>Australia</td>\n",
       "      <td>South Eastern Australia</td>\n",
       "      <td>Yellow Tail</td>\n",
       "      <td>-0.390342</td>\n",
       "      <td>998</td>\n",
       "      <td>6.21</td>\n",
       "      <td>2019</td>\n",
       "    </tr>\n",
       "    <tr>\n",
       "      <th>8665</th>\n",
       "      <td>Portillo Cabernet Sauvignon 2016</td>\n",
       "      <td>Argentina</td>\n",
       "      <td>Tunuyán</td>\n",
       "      <td>Salentein</td>\n",
       "      <td>-0.490342</td>\n",
       "      <td>999</td>\n",
       "      <td>7.88</td>\n",
       "      <td>2016</td>\n",
       "    </tr>\n",
       "  </tbody>\n",
       "</table>\n",
       "<p>8666 rows × 8 columns</p>\n",
       "</div>"
      ],
      "text/plain": [
       "                                    Name        Country  \\\n",
       "0                           Pomerol 2011         France   \n",
       "1                             Lirac 2017         France   \n",
       "2     Erta e China Rosso di Toscana 2015          Italy   \n",
       "3                         Bardolino 2019          Italy   \n",
       "4         Ried Scheibner Pinot Noir 2016        Austria   \n",
       "...                                  ...            ...   \n",
       "8661                6th Sense Syrah 2016  United States   \n",
       "8662     Botrosecco Maremma Toscana 2016          Italy   \n",
       "8663                     Haut-Médoc 2010         France   \n",
       "8664                         Shiraz 2019      Australia   \n",
       "8665    Portillo Cabernet Sauvignon 2016      Argentina   \n",
       "\n",
       "                       Region                     Winery    Rating  \\\n",
       "0                     Pomerol      Château La Providence  0.309658   \n",
       "1                       Lirac         Château Mont-Redon  0.409658   \n",
       "2                     Toscana                 Renzo Masi  0.009658   \n",
       "3                   Bardolino                 Cavalchina -0.390342   \n",
       "4                   Carnuntum                Markowitsch  0.009658   \n",
       "...                       ...                        ...       ...   \n",
       "8661                     Lodi       Michael David Winery -0.090342   \n",
       "8662          Maremma Toscana                Le Mortelle  0.109658   \n",
       "8663               Haut-Médoc  Château Cambon La Pelouse -0.190342   \n",
       "8664  South Eastern Australia                Yellow Tail -0.390342   \n",
       "8665                  Tunuyán                  Salentein -0.490342   \n",
       "\n",
       "      NumberOfRatings  Price  Year  \n",
       "0                 100  95.00  2011  \n",
       "1                 100  15.50  2017  \n",
       "2                 100   7.45  2015  \n",
       "3                 100   8.72  2019  \n",
       "4                 100  29.15  2016  \n",
       "...               ...    ...   ...  \n",
       "8661              994  16.47  2016  \n",
       "8662              995  20.09  2016  \n",
       "8663              996  23.95  2010  \n",
       "8664              998   6.21  2019  \n",
       "8665              999   7.88  2016  \n",
       "\n",
       "[8666 rows x 8 columns]"
      ]
     },
     "execution_count": 10,
     "metadata": {},
     "output_type": "execute_result"
    }
   ],
   "source": [
    "# apply() is the equivalent method if we want to transform a whole DataFrame by calling a custom method on each row.\n",
    "def remean_rating(row):\n",
    "    row.Rating = row.Rating - reviews.Rating.mean()\n",
    "    return row\n",
    "\n",
    "reviews.apply(remean_rating, axis='columns')"
   ]
  },
  {
   "attachments": {},
   "cell_type": "markdown",
   "metadata": {},
   "source": [
    "\n",
    "If we had called reviews.apply() with axis='index', then instead of passing a function to transform each row, we would need to give a function to transform each column.\n",
    "\n",
    "Note that map() and apply() return new, transformed Series and DataFrames, respectively. They don't modify the original data they're called on. If we look at the first row of reviews, we can see that it still has its original points value."
   ]
  },
  {
   "cell_type": "code",
   "execution_count": 11,
   "metadata": {},
   "outputs": [
    {
     "data": {
      "text/html": [
       "<div>\n",
       "<style scoped>\n",
       "    .dataframe tbody tr th:only-of-type {\n",
       "        vertical-align: middle;\n",
       "    }\n",
       "\n",
       "    .dataframe tbody tr th {\n",
       "        vertical-align: top;\n",
       "    }\n",
       "\n",
       "    .dataframe thead th {\n",
       "        text-align: right;\n",
       "    }\n",
       "</style>\n",
       "<table border=\"1\" class=\"dataframe\">\n",
       "  <thead>\n",
       "    <tr style=\"text-align: right;\">\n",
       "      <th></th>\n",
       "      <th>Name</th>\n",
       "      <th>Country</th>\n",
       "      <th>Region</th>\n",
       "      <th>Winery</th>\n",
       "      <th>Rating</th>\n",
       "      <th>NumberOfRatings</th>\n",
       "      <th>Price</th>\n",
       "      <th>Year</th>\n",
       "    </tr>\n",
       "  </thead>\n",
       "  <tbody>\n",
       "    <tr>\n",
       "      <th>0</th>\n",
       "      <td>Pomerol 2011</td>\n",
       "      <td>France</td>\n",
       "      <td>Pomerol</td>\n",
       "      <td>Château La Providence</td>\n",
       "      <td>4.2</td>\n",
       "      <td>100</td>\n",
       "      <td>95.00</td>\n",
       "      <td>2011</td>\n",
       "    </tr>\n",
       "    <tr>\n",
       "      <th>1</th>\n",
       "      <td>Lirac 2017</td>\n",
       "      <td>France</td>\n",
       "      <td>Lirac</td>\n",
       "      <td>Château Mont-Redon</td>\n",
       "      <td>4.3</td>\n",
       "      <td>100</td>\n",
       "      <td>15.50</td>\n",
       "      <td>2017</td>\n",
       "    </tr>\n",
       "    <tr>\n",
       "      <th>2</th>\n",
       "      <td>Erta e China Rosso di Toscana 2015</td>\n",
       "      <td>Italy</td>\n",
       "      <td>Toscana</td>\n",
       "      <td>Renzo Masi</td>\n",
       "      <td>3.9</td>\n",
       "      <td>100</td>\n",
       "      <td>7.45</td>\n",
       "      <td>2015</td>\n",
       "    </tr>\n",
       "  </tbody>\n",
       "</table>\n",
       "</div>"
      ],
      "text/plain": [
       "                                 Name Country   Region                 Winery  \\\n",
       "0                        Pomerol 2011  France  Pomerol  Château La Providence   \n",
       "1                          Lirac 2017  France    Lirac     Château Mont-Redon   \n",
       "2  Erta e China Rosso di Toscana 2015   Italy  Toscana             Renzo Masi   \n",
       "\n",
       "   Rating  NumberOfRatings  Price  Year  \n",
       "0     4.2              100  95.00  2011  \n",
       "1     4.3              100  15.50  2017  \n",
       "2     3.9              100   7.45  2015  "
      ]
     },
     "execution_count": 11,
     "metadata": {},
     "output_type": "execute_result"
    }
   ],
   "source": [
    "reviews.head(3)"
   ]
  },
  {
   "cell_type": "code",
   "execution_count": 42,
   "metadata": {},
   "outputs": [
    {
     "data": {
      "text/plain": [
       "0       0.309658\n",
       "1       0.409658\n",
       "2       0.009658\n",
       "          ...   \n",
       "8663   -0.190342\n",
       "8664   -0.390342\n",
       "8665   -0.490342\n",
       "Name: Rating, Length: 8666, dtype: float64"
      ]
     },
     "execution_count": 42,
     "metadata": {},
     "output_type": "execute_result"
    }
   ],
   "source": [
    "## Pandas provides many common mapping operations as built-ins. For example,\n",
    "# here's a faster way of remeaning our points column:\n",
    "reviews.Rating - reviews.Rating.mean()"
   ]
  },
  {
   "attachments": {},
   "cell_type": "markdown",
   "metadata": {},
   "source": [
    "In this code we are performing an operation between a lot of values on the left-hand side (everything in the Series) and a single value on the right-hand side (the mean value). Pandas looks at this expression and figures out that we must mean to subtract that mean value from every value in the dataset."
   ]
  },
  {
   "cell_type": "code",
   "execution_count": 43,
   "metadata": {},
   "outputs": [
    {
     "data": {
      "text/plain": [
       "0                          France - Pomerol\n",
       "1                            France - Lirac\n",
       "2                           Italy - Toscana\n",
       "                       ...                 \n",
       "8663                    France - Haut-Médoc\n",
       "8664    Australia - South Eastern Australia\n",
       "8665                    Argentina - Tunuyán\n",
       "Length: 8666, dtype: object"
      ]
     },
     "execution_count": 43,
     "metadata": {},
     "output_type": "execute_result"
    }
   ],
   "source": [
    "## Pandas will also understand what to do if we perform these operations between\n",
    "# Series of equal length. For example, an easy way of combining country and\n",
    "# region information in the dataset would be to do the following:\n",
    "reviews.Country + ' - ' + reviews.Region"
   ]
  },
  {
   "attachments": {},
   "cell_type": "markdown",
   "metadata": {},
   "source": [
    "These operators are faster than map() or apply() because they use speed ups built into pandas. All of the standard Python operators (>, <, ==, and so on) work in this manner.\n",
    "\n",
    "However, they are not as flexible as map() or apply(), which can do more advanced things, like applying conditional logic, which cannot be done with addition and subtraction alone."
   ]
  },
  {
   "cell_type": "code",
   "execution_count": null,
   "metadata": {},
   "outputs": [],
   "source": []
  }
 ],
 "metadata": {
  "kernelspec": {
   "display_name": "Python 3",
   "language": "python",
   "name": "python3"
  },
  "language_info": {
   "codemirror_mode": {
    "name": "ipython",
    "version": 3
   },
   "file_extension": ".py",
   "mimetype": "text/x-python",
   "name": "python",
   "nbconvert_exporter": "python",
   "pygments_lexer": "ipython3",
   "version": "3.11.0"
  },
  "orig_nbformat": 4
 },
 "nbformat": 4,
 "nbformat_minor": 2
}
