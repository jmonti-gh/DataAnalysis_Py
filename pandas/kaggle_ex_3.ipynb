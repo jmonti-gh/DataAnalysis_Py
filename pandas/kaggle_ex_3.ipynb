{
 "cells": [
  {
   "attachments": {},
   "cell_type": "markdown",
   "metadata": {},
   "source": [
    "# Pandas\n",
    "- Solve short hands-on challenges to perfect your data manipulation skills.\n",
    "- https://www.kaggle.com/learn/pandas"
   ]
  },
  {
   "attachments": {},
   "cell_type": "markdown",
   "metadata": {},
   "source": [
    "## 3.- Exercise: Summary Functions and Maps\n",
    "- Now you are ready to get a deeper understanding of your data."
   ]
  },
  {
   "cell_type": "code",
   "execution_count": 2,
   "metadata": {},
   "outputs": [
    {
     "name": "stdout",
     "output_type": "stream",
     "text": [
      "np.__version__: 1.23.5\n",
      "pd.__version__: 1.5.3\n"
     ]
    }
   ],
   "source": [
    "import numpy as np\n",
    "import pandas as pd\n",
    "\n",
    "print('np.__version__:', np.__version__)\n",
    "print('pd.__version__:', pd.__version__)\n",
    "\n",
    "#pd.set_option('display.max_rows', 5)"
   ]
  },
  {
   "cell_type": "code",
   "execution_count": 3,
   "metadata": {},
   "outputs": [
    {
     "data": {
      "text/html": [
       "<div>\n",
       "<style scoped>\n",
       "    .dataframe tbody tr th:only-of-type {\n",
       "        vertical-align: middle;\n",
       "    }\n",
       "\n",
       "    .dataframe tbody tr th {\n",
       "        vertical-align: top;\n",
       "    }\n",
       "\n",
       "    .dataframe thead th {\n",
       "        text-align: right;\n",
       "    }\n",
       "</style>\n",
       "<table border=\"1\" class=\"dataframe\">\n",
       "  <thead>\n",
       "    <tr style=\"text-align: right;\">\n",
       "      <th></th>\n",
       "      <th>Name</th>\n",
       "      <th>Country</th>\n",
       "      <th>Region</th>\n",
       "      <th>Winery</th>\n",
       "      <th>Rating</th>\n",
       "      <th>NumberOfRatings</th>\n",
       "      <th>Price</th>\n",
       "      <th>Year</th>\n",
       "    </tr>\n",
       "  </thead>\n",
       "  <tbody>\n",
       "    <tr>\n",
       "      <th>0</th>\n",
       "      <td>Pomerol 2011</td>\n",
       "      <td>France</td>\n",
       "      <td>Pomerol</td>\n",
       "      <td>Château La Providence</td>\n",
       "      <td>4.2</td>\n",
       "      <td>100</td>\n",
       "      <td>95.00</td>\n",
       "      <td>2011</td>\n",
       "    </tr>\n",
       "    <tr>\n",
       "      <th>1</th>\n",
       "      <td>Lirac 2017</td>\n",
       "      <td>France</td>\n",
       "      <td>Lirac</td>\n",
       "      <td>Château Mont-Redon</td>\n",
       "      <td>4.3</td>\n",
       "      <td>100</td>\n",
       "      <td>15.50</td>\n",
       "      <td>2017</td>\n",
       "    </tr>\n",
       "    <tr>\n",
       "      <th>2</th>\n",
       "      <td>Erta e China Rosso di Toscana 2015</td>\n",
       "      <td>Italy</td>\n",
       "      <td>Toscana</td>\n",
       "      <td>Renzo Masi</td>\n",
       "      <td>3.9</td>\n",
       "      <td>100</td>\n",
       "      <td>7.45</td>\n",
       "      <td>2015</td>\n",
       "    </tr>\n",
       "  </tbody>\n",
       "</table>\n",
       "</div>"
      ],
      "text/plain": [
       "                                 Name Country   Region                 Winery  \\\n",
       "0                        Pomerol 2011  France  Pomerol  Château La Providence   \n",
       "1                          Lirac 2017  France    Lirac     Château Mont-Redon   \n",
       "2  Erta e China Rosso di Toscana 2015   Italy  Toscana             Renzo Masi   \n",
       "\n",
       "   Rating  NumberOfRatings  Price  Year  \n",
       "0     4.2              100  95.00  2011  \n",
       "1     4.3              100  15.50  2017  \n",
       "2     3.9              100   7.45  2015  "
      ]
     },
     "execution_count": 3,
     "metadata": {},
     "output_type": "execute_result"
    }
   ],
   "source": [
    "reviews = pd.read_csv('Red.csv')\n",
    "reviews.head(3)"
   ]
  },
  {
   "cell_type": "code",
   "execution_count": 4,
   "metadata": {},
   "outputs": [
    {
     "name": "stdout",
     "output_type": "stream",
     "text": [
      "3.9 <class 'numpy.float64'>\n",
      "3.8903415647357487 <class 'numpy.float64'>\n",
      "0    3.8\n",
      "Name: Rating, dtype: float64 <class 'pandas.core.series.Series'>\n",
      "3.8 <class 'numpy.float64'>\n",
      "3.9 <class 'numpy.float64'>\n",
      "0.25    3.7\n",
      "0.75    4.1\n",
      "Name: Rating, dtype: float64 <class 'pandas.core.series.Series'>\n"
     ]
    }
   ],
   "source": [
    "# 1. median of Rating column in the reviews DataFrame?\n",
    "print(reviews.Rating.median(), type(reviews.Rating.median()))\n",
    "print(reviews.Rating.mean(), type(reviews.Rating.mean()))\n",
    "print(reviews.Rating.mode(), type(reviews.Rating.mode()))\n",
    "print(reviews.Rating.mode().iloc[0], type(reviews.Rating.mode().iloc[0]))\n",
    "print(reviews.Rating.quantile(0.5), type(reviews.Rating.quantile(0.5))) # median\n",
    "print(reviews.Rating.quantile([0.25, 0.75]), type(reviews.Rating.quantile([0.25, 0.75])))  "
   ]
  },
  {
   "cell_type": "code",
   "execution_count": 5,
   "metadata": {},
   "outputs": [
    {
     "data": {
      "text/plain": [
       "array(['France', 'Italy', 'Austria', 'New Zealand', 'Chile', 'Australia',\n",
       "       'South Africa', 'Spain', 'United States', 'Portugal', 'Hungary',\n",
       "       'Brazil', 'Argentina', 'Romania', 'Germany', 'Greece', 'Mexico',\n",
       "       'Moldova', 'Switzerland', 'Slovenia', 'Israel', 'Georgia',\n",
       "       'Lebanon', 'Uruguay', 'Turkey', 'Croatia', 'China', 'Slovakia',\n",
       "       'Bulgaria', 'Canada'], dtype=object)"
      ]
     },
     "execution_count": 5,
     "metadata": {},
     "output_type": "execute_result"
    }
   ],
   "source": [
    "# 2. What countries are represented in the dataset? (Your answer should not include any duplicates.)\n",
    "reviews.Country.unique()"
   ]
  },
  {
   "cell_type": "code",
   "execution_count": 6,
   "metadata": {},
   "outputs": [
    {
     "data": {
      "text/plain": [
       "Italy            2650\n",
       "France           2256\n",
       "Spain            1142\n",
       "South Africa      500\n",
       "United States     374\n",
       "Chile             326\n",
       "Germany           248\n",
       "Australia         246\n",
       "Argentina         246\n",
       "Portugal          230\n",
       "Austria           220\n",
       "New Zealand        63\n",
       "Brazil             40\n",
       "Romania            23\n",
       "Lebanon            15\n",
       "Israel             13\n",
       "Greece             13\n",
       "Switzerland        12\n",
       "Hungary             9\n",
       "Moldova             8\n",
       "Slovenia            8\n",
       "Turkey              6\n",
       "Georgia             5\n",
       "Uruguay             4\n",
       "Croatia             2\n",
       "Bulgaria            2\n",
       "Canada              2\n",
       "Mexico              1\n",
       "China               1\n",
       "Slovakia            1\n",
       "Name: Country, dtype: int64"
      ]
     },
     "execution_count": 6,
     "metadata": {},
     "output_type": "execute_result"
    }
   ],
   "source": [
    "# 3. How often does each country appear in the dataset? Create a Series\n",
    "# reviews_per_country mapping countries to the count of reviews of wines from\n",
    "# that country.\n",
    "reviews.Country.value_counts()"
   ]
  },
  {
   "cell_type": "code",
   "execution_count": 7,
   "metadata": {},
   "outputs": [
    {
     "name": "stdout",
     "output_type": "stream",
     "text": [
      "39.14506462035541 3.55 3410.79\n"
     ]
    },
    {
     "data": {
      "text/plain": [
       "0       55.854935\n",
       "1      -23.645065\n",
       "2      -31.695065\n",
       "3      -30.425065\n",
       "4       -9.995065\n",
       "          ...    \n",
       "8661   -22.675065\n",
       "8662   -19.055065\n",
       "8663   -15.195065\n",
       "8664   -32.935065\n",
       "8665   -31.265065\n",
       "Name: Price, Length: 8666, dtype: float64"
      ]
     },
     "execution_count": 7,
     "metadata": {},
     "output_type": "execute_result"
    }
   ],
   "source": [
    "# 4. Create variable centered_price containing a version of the price column\n",
    "# with the mean price subtracted.\n",
    "# (Note: this 'centering' transformation is a common preprocessing step before\n",
    "# applying various machine learning algorithms.)\n",
    "print(reviews.Price.mean(), reviews.Price.min(), reviews.Price.max() )\n",
    "centered_price = reviews.Price - reviews.Price.mean()\n",
    "centered_price\n"
   ]
  },
  {
   "cell_type": "code",
   "execution_count": 8,
   "metadata": {},
   "outputs": [],
   "source": [
    "# with map() and with apply() for the future."
   ]
  },
  {
   "cell_type": "code",
   "execution_count": 9,
   "metadata": {},
   "outputs": [
    {
     "name": "stdout",
     "output_type": "stream",
     "text": [
      "1.0026385224274406 <class 'float'>  - ratio: <class 'pandas.core.series.Series'>\n"
     ]
    },
    {
     "data": {
      "text/html": [
       "<div>\n",
       "<style scoped>\n",
       "    .dataframe tbody tr th:only-of-type {\n",
       "        vertical-align: middle;\n",
       "    }\n",
       "\n",
       "    .dataframe tbody tr th {\n",
       "        vertical-align: top;\n",
       "    }\n",
       "\n",
       "    .dataframe thead th {\n",
       "        text-align: right;\n",
       "    }\n",
       "</style>\n",
       "<table border=\"1\" class=\"dataframe\">\n",
       "  <thead>\n",
       "    <tr style=\"text-align: right;\">\n",
       "      <th></th>\n",
       "      <th>Name</th>\n",
       "      <th>Country</th>\n",
       "      <th>Region</th>\n",
       "      <th>Winery</th>\n",
       "      <th>Rating</th>\n",
       "      <th>NumberOfRatings</th>\n",
       "      <th>Price</th>\n",
       "      <th>Year</th>\n",
       "    </tr>\n",
       "  </thead>\n",
       "  <tbody>\n",
       "    <tr>\n",
       "      <th>6408</th>\n",
       "      <td>Nero d'Avola 2018</td>\n",
       "      <td>Italy</td>\n",
       "      <td>Terre Siciliane</td>\n",
       "      <td>Monte Pietroso</td>\n",
       "      <td>3.8</td>\n",
       "      <td>56</td>\n",
       "      <td>3.79</td>\n",
       "      <td>2018</td>\n",
       "    </tr>\n",
       "  </tbody>\n",
       "</table>\n",
       "</div>"
      ],
      "text/plain": [
       "                   Name Country           Region          Winery  Rating  \\\n",
       "6408  Nero d'Avola 2018   Italy  Terre Siciliane  Monte Pietroso     3.8   \n",
       "\n",
       "      NumberOfRatings  Price  Year  \n",
       "6408               56   3.79  2018  "
      ]
     },
     "metadata": {},
     "output_type": "display_data"
    },
    {
     "name": "stdout",
     "output_type": "stream",
     "text": [
      "<class 'pandas.core.frame.DataFrame'>\n",
      "Nero d'Avola 2018\n",
      "6408    Nero d'Avola 2018\n",
      "Name: Name, dtype: object\n",
      "6408    Nero d'Avola 2018\n",
      "Name: Name, dtype: object\n",
      "Nero d'Avola 2018\n"
     ]
    },
    {
     "data": {
      "text/plain": [
       "\"Nero d'Avola 2018\""
      ]
     },
     "execution_count": 9,
     "metadata": {},
     "output_type": "execute_result"
    }
   ],
   "source": [
    "## 5. I'm an economical wine buyer. Which wine is the \"best bargain\"? Create a\n",
    "# variable bargain_wine with the title of the wine with the highest\n",
    "# points-to-price ratio in the dataset.\n",
    "ratio = reviews.Rating / reviews.Price\n",
    "best = max(ratio)\n",
    "print(best, type(best), ' - ratio:', type(ratio))\n",
    "display(reviews.loc[ratio == best])\n",
    "print(type(reviews.loc[ratio == best]))\n",
    "print(reviews.loc[ratio == best].loc[6408, 'Name'])\n",
    "print(reviews.loc[ratio == best, 'Name'])\n",
    "print(reviews.loc[ratio == best].loc[-1:, 'Name'])\n",
    "## here the solution is HOW obtain de index of the row.. \n",
    "ix = reviews.loc[ratio == best].index.item()\n",
    "ix\n",
    "print(reviews.loc[ratio == best].loc[ix, 'Name'])\n",
    "reviews.loc[ratio == best, 'Name'].item()\n"
   ]
  },
  {
   "cell_type": "code",
   "execution_count": 10,
   "metadata": {},
   "outputs": [
    {
     "data": {
      "text/plain": [
       "\"Nero d'Avola 2018\""
      ]
     },
     "execution_count": 10,
     "metadata": {},
     "output_type": "execute_result"
    }
   ],
   "source": [
    "# with idxmax i direct\n",
    "berg1_idx = (reviews.Rating / reviews.Price).idxmax()\n",
    "berg1_idx\n",
    "barg1_w1 = reviews.loc[berg1_idx, 'Name']\n",
    "barg1_w1"
   ]
  },
  {
   "cell_type": "code",
   "execution_count": 11,
   "metadata": {},
   "outputs": [],
   "source": [
    "# 6. There are only so many words you can use when describing a bottle of wine.\n",
    "# Is a wine more likely to be \"tropical\" or \"fruity\"? Create a Series\n",
    "# descriptor_counts counting how many times each of these two words appears in\n",
    "# the description column in the dataset. (For simplicity, let's ignore the\n",
    "# capitalized versions of these words.)"
   ]
  },
  {
   "cell_type": "code",
   "execution_count": 12,
   "metadata": {},
   "outputs": [
    {
     "data": {
      "text/plain": [
       "Name               8\n",
       "Country            8\n",
       "Region             8\n",
       "Winery             8\n",
       "Rating             8\n",
       "NumberOfRatings    8\n",
       "Price              8\n",
       "Year               8\n",
       "dtype: int64"
      ]
     },
     "execution_count": 12,
     "metadata": {},
     "output_type": "execute_result"
    }
   ],
   "source": [
    "## Regions Tunuyan Toscana\n",
    "reviews.Region.unique()\n",
    "reviews.Region.value_counts()\n",
    "reviews.loc[reviews.Region == 'Toscana'].count()\n",
    "reviews.loc[reviews.Region == 'Tunuyán'].count()\n",
    "reviews.loc[reviews.Region == 'San Carlos'].count()\n",
    "reviews.loc[(reviews.Region == 'Tunuyán') |\n",
    "            (reviews.Region == 'San Carlos')].count()\n"
   ]
  },
  {
   "cell_type": "code",
   "execution_count": 13,
   "metadata": {},
   "outputs": [
    {
     "data": {
      "text/plain": [
       "ty    7\n",
       "sc    1\n",
       "dtype: int64"
      ]
     },
     "execution_count": 13,
     "metadata": {},
     "output_type": "execute_result"
    }
   ],
   "source": [
    "n_ty = reviews.Region.map(lambda r: 'Tunuyán' in r).sum()\n",
    "#n_ty = reviews.loc[reviews.Region == 'Tunuyán'].count()\n",
    "n_sc = reviews.Region.map(lambda r: 'San Carlos' in r).sum()\n",
    "reg_cnt = pd.Series([n_ty, n_sc], index=['ty', 'sc'])\n",
    "reg_cnt"
   ]
  },
  {
   "cell_type": "code",
   "execution_count": 17,
   "metadata": {},
   "outputs": [
    {
     "data": {
      "text/plain": [
       "0       3\n",
       "1       3\n",
       "2       3\n",
       "3       2\n",
       "4       3\n",
       "       ..\n",
       "8661    2\n",
       "8662    3\n",
       "8663    2\n",
       "8664    2\n",
       "8665    2\n",
       "Length: 8666, dtype: int64"
      ]
     },
     "execution_count": 17,
     "metadata": {},
     "output_type": "execute_result"
    }
   ],
   "source": [
    "## 7. num of starts instead of Rating\n",
    "\n",
    "def stars(row):\n",
    "    if row.Country == 'Canada':\n",
    "        return 3\n",
    "    elif row.Rating >= 3.9:\n",
    "        return 3\n",
    "    elif row.Rating >= 3.2:\n",
    "        return 2\n",
    "    else:\n",
    "        return 1\n",
    "\n",
    "star_ratings = reviews.apply(stars, axis='columns')\n",
    "star_ratings"
   ]
  },
  {
   "attachments": {},
   "cell_type": "markdown",
   "metadata": {},
   "source": [
    "## JM_#1: mean, median, mode, percentile - Meaning and GRAPHS."
   ]
  },
  {
   "cell_type": "code",
   "execution_count": 76,
   "metadata": {},
   "outputs": [],
   "source": [
    "#reviews.groupby('Country').Name.count().sort_values()"
   ]
  },
  {
   "cell_type": "code",
   "execution_count": 162,
   "metadata": {},
   "outputs": [
    {
     "name": "stdout",
     "output_type": "stream",
     "text": [
      "(1994, 8) Index(['Name', 'Country', 'Region', 'Winery', 'Rating', 'NumberOfRatings',\n",
      "       'Price', 'Year'],\n",
      "      dtype='object')\n"
     ]
    }
   ],
   "source": [
    "# let's take prices but only from...\n",
    "#df = reviews.loc[(reviews.Country != 'Uruguay')]\n",
    "df = reviews.loc[(reviews.Price <= 10)]\n",
    "print(df.shape, df.columns)"
   ]
  },
  {
   "cell_type": "code",
   "execution_count": 163,
   "metadata": {},
   "outputs": [
    {
     "data": {
      "text/plain": [
       "Price\n",
       "3.55      1\n",
       "3.70      1\n",
       "3.79      1\n",
       "3.95      1\n",
       "3.99      2\n",
       "         ..\n",
       "9.94      1\n",
       "9.95     41\n",
       "9.98      2\n",
       "9.99     26\n",
       "10.00    11\n",
       "Name: Price, Length: 356, dtype: int64"
      ]
     },
     "execution_count": 163,
     "metadata": {},
     "output_type": "execute_result"
    }
   ],
   "source": [
    "S1 = df.Price.value_counts()\n",
    "S2 = df.groupby('Price').Price.count()\n",
    "S2"
   ]
  },
  {
   "cell_type": "code",
   "execution_count": 164,
   "metadata": {},
   "outputs": [
    {
     "data": {
      "text/plain": [
       "(5.601123595505618, 2.0, 1)"
      ]
     },
     "execution_count": 164,
     "metadata": {},
     "output_type": "execute_result"
    }
   ],
   "source": [
    "pmean = S1.mean()\n",
    "pmedian = S1.median()\n",
    "pmode = S1.mode()[0]\n",
    "\n",
    "pmean, pmedian, pmode,"
   ]
  },
  {
   "cell_type": "code",
   "execution_count": 165,
   "metadata": {},
   "outputs": [
    {
     "data": {
      "image/png": "[encoded data removed]",
      "text/plain": [
       "<Figure size 1000x600 with 1 Axes>"
      ]
     },
     "metadata": {},
     "output_type": "display_data"
    }
   ],
   "source": [
    "import matplotlib.pyplot as plt\n",
    "\n",
    "fig, ax1 = plt.subplots(figsize=(10,6))\n",
    "ax1.bar(S1, S1.index)\n",
    "ax1.axvline(x=pmean, color='g', label='mean')\n",
    "ax1.axvline(x=pmedian, color='r', label='median')\n",
    "ax1.axvline(x=pmode, color='y', label='mode')\n",
    "ax1.legend()\n",
    "ax1.grid()\n",
    "plt.show()"
   ]
  },
  {
   "attachments": {},
   "cell_type": "markdown",
   "metadata": {},
   "source": [
    "## JM_#2: compare wines of two or more Countries or Regions in Rating and Price."
   ]
  },
  {
   "cell_type": "code",
   "execution_count": null,
   "metadata": {},
   "outputs": [],
   "source": []
  }
 ],
 "metadata": {
  "kernelspec": {
   "display_name": "Python 3",
   "language": "python",
   "name": "python3"
  },
  "language_info": {
   "codemirror_mode": {
    "name": "ipython",
    "version": 3
   },
   "file_extension": ".py",
   "mimetype": "text/x-python",
   "name": "python",
   "nbconvert_exporter": "python",
   "pygments_lexer": "ipython3",
   "version": "3.11.0"
  },
  "orig_nbformat": 4
 },
 "nbformat": 4,
 "nbformat_minor": 2
}
