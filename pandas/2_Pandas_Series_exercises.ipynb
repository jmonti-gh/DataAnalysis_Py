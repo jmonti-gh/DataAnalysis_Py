{
  "cells": [
    {
      "cell_type": "markdown",
      "metadata": {
        "id": "d83AfNMD4JP7"
      },
      "source": [
        "![rmotr](https://user-images.githubusercontent.com/7065401/52071918-bda15380-2562-11e9-828c-7f95297e4a82.png)\n",
        "<hr style=\"margin-bottom: 40px;\">\n",
        "\n",
        "# Pandas Series exercises\n"
      ]
    },
    {
      "cell_type": "code",
      "execution_count": 1,
      "metadata": {
        "id": "pHiLRq504JQA",
        "outputId": "347a4cee-f6ff-434c-e552-5fcea35655c5"
      },
      "outputs": [
        {
          "name": "stdout",
          "output_type": "stream",
          "text": [
            "1.5.3\n"
          ]
        }
      ],
      "source": [
        "# Import the numpy package under the name np\n",
        "import numpy as np\n",
        "\n",
        "# Import the pandas package under the name pd\n",
        "import pandas as pd\n",
        "\n",
        "# Print the pandas version and the configuration\n",
        "print(pd.__version__)"
      ]
    },
    {
      "cell_type": "markdown",
      "metadata": {
        "id": "JK_pGt3s4JQC"
      },
      "source": [
        "![purple-divider](https://user-images.githubusercontent.com/7065401/52071927-c1cd7100-2562-11e9-908a-dde91ba14e59.png)\n",
        "\n",
        "## Series creation"
      ]
    },
    {
      "cell_type": "markdown",
      "metadata": {
        "id": "hut7ND2V4JQD"
      },
      "source": [
        "### Create an empty pandas Series"
      ]
    },
    {
      "cell_type": "code",
      "execution_count": 2,
      "metadata": {
        "id": "x58bkG6b4JQD"
      },
      "outputs": [
        {
          "name": "stderr",
          "output_type": "stream",
          "text": [
            "C:\\Users\\jm\\AppData\\Local\\Temp\\ipykernel_21840\\4185814662.py:2: FutureWarning: The default dtype for empty Series will be 'object' instead of 'float64' in a future version. Specify a dtype explicitly to silence this warning.\n",
            "  pd.Series()\n"
          ]
        },
        {
          "data": {
            "text/plain": [
              "Series([], dtype: float64)"
            ]
          },
          "execution_count": 2,
          "metadata": {},
          "output_type": "execute_result"
        }
      ],
      "source": [
        "# your code goes here\n",
        "pd.Series()\n"
      ]
    },
    {
      "cell_type": "code",
      "execution_count": 3,
      "metadata": {
        "cell_type": "solution",
        "id": "SqMFMIJP4JQE"
      },
      "outputs": [
        {
          "data": {
            "text/plain": [
              "Series([], dtype: float64)"
            ]
          },
          "execution_count": 3,
          "metadata": {},
          "output_type": "execute_result"
        }
      ],
      "source": [
        "pd.Series(dtype= float)"
      ]
    },
    {
      "cell_type": "markdown",
      "metadata": {
        "id": "FGkaSO8O4JQF"
      },
      "source": [
        "![green-divider](https://user-images.githubusercontent.com/7065401/52071924-c003ad80-2562-11e9-8297-1c6595f8a7ff.png)\n",
        "\n",
        "### Given the X python list convert it to an Y pandas Series"
      ]
    },
    {
      "cell_type": "code",
      "execution_count": 4,
      "metadata": {
        "id": "A3WL76iU4JQG"
      },
      "outputs": [
        {
          "data": {
            "text/plain": [
              "0    0\n",
              "1    1\n",
              "2    2\n",
              "3    3\n",
              "4    4\n",
              "dtype: int64"
            ]
          },
          "execution_count": 4,
          "metadata": {},
          "output_type": "execute_result"
        }
      ],
      "source": [
        "# your code goes here\n",
        "pd.Series([i for i in range(5)])"
      ]
    },
    {
      "cell_type": "code",
      "execution_count": 5,
      "metadata": {
        "cell_type": "solution",
        "id": "m_anXOaC4JQG"
      },
      "outputs": [
        {
          "name": "stdout",
          "output_type": "stream",
          "text": [
            "['A', 'B', 'C'] <class 'list'>\n",
            "0    A\n",
            "1    B\n",
            "2    C\n",
            "dtype: object <class 'pandas.core.series.Series'>\n"
          ]
        }
      ],
      "source": [
        "X = ['A','B','C']\n",
        "print(X, type(X))\n",
        "\n",
        "Y = pd.Series(X)\n",
        "print(Y, type(Y)) # different type"
      ]
    },
    {
      "cell_type": "markdown",
      "metadata": {
        "id": "fVb9qhvz4JQH"
      },
      "source": [
        "![green-divider](https://user-images.githubusercontent.com/7065401/52071924-c003ad80-2562-11e9-8297-1c6595f8a7ff.png)\n",
        "\n",
        "### Given the X pandas Series, name it 'My letters'"
      ]
    },
    {
      "cell_type": "code",
      "execution_count": 6,
      "metadata": {
        "id": "p5-deCvA4JQI"
      },
      "outputs": [
        {
          "data": {
            "text/plain": [
              "'My lettters'"
            ]
          },
          "execution_count": 6,
          "metadata": {},
          "output_type": "execute_result"
        }
      ],
      "source": [
        "# your code goes here\n",
        "MNL = pd.Series([chr(i) for i in range(65, 70)], name='My lettters')\n",
        "MNL.name"
      ]
    },
    {
      "cell_type": "code",
      "execution_count": 7,
      "metadata": {},
      "outputs": [
        {
          "data": {
            "text/plain": [
              "0    A\n",
              "1    B\n",
              "2    C\n",
              "3    D\n",
              "4    E\n",
              "Name: My lettters, dtype: object"
            ]
          },
          "execution_count": 7,
          "metadata": {},
          "output_type": "execute_result"
        }
      ],
      "source": [
        "MNL"
      ]
    },
    {
      "cell_type": "code",
      "execution_count": 8,
      "metadata": {
        "cell_type": "solution",
        "id": "EHApVDBv4JQI"
      },
      "outputs": [
        {
          "data": {
            "text/plain": [
              "0    A\n",
              "1    B\n",
              "2    C\n",
              "Name: My letters, dtype: object"
            ]
          },
          "execution_count": 8,
          "metadata": {},
          "output_type": "execute_result"
        }
      ],
      "source": [
        "X = pd.Series(['A','B','C'])\n",
        "\n",
        "X.name = 'My letters'\n",
        "X"
      ]
    },
    {
      "cell_type": "markdown",
      "metadata": {
        "id": "T1_GPcRi4JQI"
      },
      "source": [
        "![green-divider](https://user-images.githubusercontent.com/7065401/52071924-c003ad80-2562-11e9-8297-1c6595f8a7ff.png)\n",
        "\n",
        "### Given the X pandas Series, show its values\n"
      ]
    },
    {
      "cell_type": "code",
      "execution_count": 9,
      "metadata": {
        "id": "TtXzPE_84JQJ"
      },
      "outputs": [
        {
          "data": {
            "text/plain": [
              "array(['A', 'B', 'C', 'D', 'E'], dtype=object)"
            ]
          },
          "execution_count": 9,
          "metadata": {},
          "output_type": "execute_result"
        }
      ],
      "source": [
        "# your code goes here\n",
        "MNL.values"
      ]
    },
    {
      "cell_type": "code",
      "execution_count": 10,
      "metadata": {
        "cell_type": "solution",
        "id": "w6XqRiV_4JQJ"
      },
      "outputs": [
        {
          "data": {
            "text/plain": [
              "array(['A', 'B', 'C'], dtype=object)"
            ]
          },
          "execution_count": 10,
          "metadata": {},
          "output_type": "execute_result"
        }
      ],
      "source": [
        "X = pd.Series(['A','B','C'])\n",
        "\n",
        "X.values"
      ]
    },
    {
      "cell_type": "markdown",
      "metadata": {
        "id": "RCyPTW3_4JQJ"
      },
      "source": [
        "![purple-divider](https://user-images.githubusercontent.com/7065401/52071927-c1cd7100-2562-11e9-908a-dde91ba14e59.png)\n",
        "\n",
        "## Series indexation"
      ]
    },
    {
      "cell_type": "markdown",
      "metadata": {
        "id": "_lR04o224JQJ"
      },
      "source": [
        "### Assign index names to the given X pandas Series\n"
      ]
    },
    {
      "cell_type": "code",
      "execution_count": 11,
      "metadata": {
        "id": "SKAP7kgY4JQK"
      },
      "outputs": [
        {
          "data": {
            "text/plain": [
              "RangeIndex(start=0, stop=5, step=1)"
            ]
          },
          "execution_count": 11,
          "metadata": {},
          "output_type": "execute_result"
        }
      ],
      "source": [
        "# your code goes here\n",
        "MNL.index"
      ]
    },
    {
      "cell_type": "code",
      "execution_count": 12,
      "metadata": {},
      "outputs": [
        {
          "data": {
            "text/plain": [
              "a    A\n",
              "b    B\n",
              "c    C\n",
              "d    D\n",
              "e    E\n",
              "Name: My lettters, dtype: object"
            ]
          },
          "execution_count": 12,
          "metadata": {},
          "output_type": "execute_result"
        }
      ],
      "source": [
        "MNL.index = ([chr(i) for i in range(97, 102)])\n",
        "MNL"
      ]
    },
    {
      "cell_type": "code",
      "execution_count": 13,
      "metadata": {
        "cell_type": "solution",
        "id": "Ae0S28nZ4JQK"
      },
      "outputs": [
        {
          "data": {
            "text/plain": [
              "first     A\n",
              "second    B\n",
              "third     C\n",
              "dtype: object"
            ]
          },
          "execution_count": 13,
          "metadata": {},
          "output_type": "execute_result"
        }
      ],
      "source": [
        "X = pd.Series(['A','B','C'])\n",
        "index_names = ['first', 'second', 'third']\n",
        "\n",
        "X.index = index_names\n",
        "X"
      ]
    },
    {
      "cell_type": "markdown",
      "metadata": {
        "id": "MkJzahUH4JQK"
      },
      "source": [
        "![green-divider](https://user-images.githubusercontent.com/7065401/52071924-c003ad80-2562-11e9-8297-1c6595f8a7ff.png)\n",
        "\n",
        "### Given the X pandas Series, show its first element\n"
      ]
    },
    {
      "cell_type": "code",
      "execution_count": 14,
      "metadata": {
        "id": "zFkzjoP04JQK"
      },
      "outputs": [
        {
          "data": {
            "text/plain": [
              "'A'"
            ]
          },
          "execution_count": 14,
          "metadata": {},
          "output_type": "execute_result"
        }
      ],
      "source": [
        "# your code goes here\n",
        "MNL.loc['a']"
      ]
    },
    {
      "cell_type": "code",
      "execution_count": 15,
      "metadata": {},
      "outputs": [
        {
          "data": {
            "text/plain": [
              "'A'"
            ]
          },
          "execution_count": 15,
          "metadata": {},
          "output_type": "execute_result"
        }
      ],
      "source": [
        "MNL.iloc[0]"
      ]
    },
    {
      "cell_type": "code",
      "execution_count": 16,
      "metadata": {},
      "outputs": [
        {
          "data": {
            "text/plain": [
              "'A'"
            ]
          },
          "execution_count": 16,
          "metadata": {},
          "output_type": "execute_result"
        }
      ],
      "source": [
        "MNL[0]"
      ]
    },
    {
      "cell_type": "code",
      "execution_count": 17,
      "metadata": {
        "cell_type": "solution",
        "id": "2cwQWVO-4JQL"
      },
      "outputs": [
        {
          "data": {
            "text/plain": [
              "'A'"
            ]
          },
          "execution_count": 17,
          "metadata": {},
          "output_type": "execute_result"
        }
      ],
      "source": [
        "X = pd.Series(['A','B','C'], index=['first', 'second', 'third'])\n",
        "\n",
        "#X[0] # by position\n",
        "#X.iloc[0] # by position\n",
        "X['first'] # by index"
      ]
    },
    {
      "cell_type": "markdown",
      "metadata": {
        "id": "-PsrtusN4JQL"
      },
      "source": [
        "![green-divider](https://user-images.githubusercontent.com/7065401/52071924-c003ad80-2562-11e9-8297-1c6595f8a7ff.png)\n",
        "\n",
        "### Given the X pandas Series, show its last element\n"
      ]
    },
    {
      "cell_type": "code",
      "execution_count": 18,
      "metadata": {
        "id": "sNYoBT7r4JQM"
      },
      "outputs": [
        {
          "name": "stdout",
          "output_type": "stream",
          "text": [
            "E  D  C  B  A  \n",
            "-- !!  IndexError  !! -- that's all folks\n"
          ]
        }
      ],
      "source": [
        "# your code goes here - probe IndexError ¿?\n",
        "try:\n",
        "    for i in range(-1, -100, -1):\n",
        "    #for i in range(-1, -len(MNL)-1, -1):\n",
        "        print(MNL.iloc[i], end='  ')\n",
        "except IndexError:\n",
        "    print(\"\\n-- !!  IndexError  !! -- that's all folks\")\n"
      ]
    },
    {
      "cell_type": "code",
      "execution_count": 19,
      "metadata": {
        "cell_type": "solution",
        "id": "hPhdeMmt4JQM"
      },
      "outputs": [
        {
          "data": {
            "text/plain": [
              "'C'"
            ]
          },
          "execution_count": 19,
          "metadata": {},
          "output_type": "execute_result"
        }
      ],
      "source": [
        "X = pd.Series(['A','B','C'], index=['first', 'second', 'third'])\n",
        "\n",
        "#X[-1] # by position\n",
        "#X.iloc[-1] # by position\n",
        "X['third'] # by index"
      ]
    },
    {
      "cell_type": "markdown",
      "metadata": {
        "id": "g4W6tgqN4JQM"
      },
      "source": [
        "![green-divider](https://user-images.githubusercontent.com/7065401/52071924-c003ad80-2562-11e9-8297-1c6595f8a7ff.png)\n",
        "\n",
        "### Given the X pandas Series, show all middle elements\n"
      ]
    },
    {
      "cell_type": "code",
      "execution_count": 20,
      "metadata": {
        "id": "0umXhI1x4JQM"
      },
      "outputs": [
        {
          "data": {
            "text/plain": [
              "b    B\n",
              "c    C\n",
              "d    D\n",
              "Name: My lettters, dtype: object"
            ]
          },
          "execution_count": 20,
          "metadata": {},
          "output_type": "execute_result"
        }
      ],
      "source": [
        "# your code goes here\n",
        "MNL.iloc[1:-1]\n"
      ]
    },
    {
      "cell_type": "code",
      "execution_count": 21,
      "metadata": {
        "cell_type": "solution",
        "id": "h0irKzPG4JQN"
      },
      "outputs": [
        {
          "data": {
            "text/plain": [
              "second    B\n",
              "third     C\n",
              "forth     D\n",
              "dtype: object"
            ]
          },
          "execution_count": 21,
          "metadata": {},
          "output_type": "execute_result"
        }
      ],
      "source": [
        "X = pd.Series(['A','B','C','D','E'],\n",
        "              index=['first','second','third','forth','fifth'])\n",
        "\n",
        "#X[['second', 'third', 'forth']]\n",
        "#X.iloc[1:-1] # by position\n",
        "X[1:-1] # by position"
      ]
    },
    {
      "cell_type": "markdown",
      "metadata": {
        "id": "rfyIY8Jr4JQN"
      },
      "source": [
        "![green-divider](https://user-images.githubusercontent.com/7065401/52071924-c003ad80-2562-11e9-8297-1c6595f8a7ff.png)\n",
        "\n",
        "### Given the X pandas Series, show the elements in reverse position\n"
      ]
    },
    {
      "cell_type": "code",
      "execution_count": 22,
      "metadata": {
        "id": "SZcmTtLF4JQN"
      },
      "outputs": [
        {
          "data": {
            "text/plain": [
              "array(['E', 'D', 'C', 'B', 'A'], dtype=object)"
            ]
          },
          "execution_count": 22,
          "metadata": {},
          "output_type": "execute_result"
        }
      ],
      "source": [
        "# your code goes here\n",
        "MNL.iloc[::-1].values"
      ]
    },
    {
      "cell_type": "code",
      "execution_count": 23,
      "metadata": {
        "cell_type": "solution",
        "id": "M0VjT2PI4JQN"
      },
      "outputs": [
        {
          "data": {
            "text/plain": [
              "fifth     E\n",
              "forth     D\n",
              "third     C\n",
              "second    B\n",
              "first     A\n",
              "dtype: object"
            ]
          },
          "execution_count": 23,
          "metadata": {},
          "output_type": "execute_result"
        }
      ],
      "source": [
        "X = pd.Series(['A','B','C','D','E'],\n",
        "              index=['first','second','third','forth','fifth'])\n",
        "\n",
        "#X.iloc[::-1]\n",
        "X[::-1]"
      ]
    },
    {
      "cell_type": "markdown",
      "metadata": {
        "id": "p2yrKrde4JQN"
      },
      "source": [
        "![green-divider](https://user-images.githubusercontent.com/7065401/52071924-c003ad80-2562-11e9-8297-1c6595f8a7ff.png)\n",
        "\n",
        "### Given the X pandas Series, show the first and last elements\n"
      ]
    },
    {
      "cell_type": "code",
      "execution_count": 24,
      "metadata": {
        "id": "ONv33lYH4JQO"
      },
      "outputs": [
        {
          "data": {
            "text/plain": [
              "a    A\n",
              "e    E\n",
              "Name: My lettters, dtype: object"
            ]
          },
          "execution_count": 24,
          "metadata": {},
          "output_type": "execute_result"
        }
      ],
      "source": [
        "# your code goes here\n",
        "MNL.iloc[[0,-1]]"
      ]
    },
    {
      "cell_type": "code",
      "execution_count": 25,
      "metadata": {
        "cell_type": "solution",
        "id": "btOZsYtk4JQO"
      },
      "outputs": [
        {
          "data": {
            "text/plain": [
              "first    A\n",
              "fifth    E\n",
              "dtype: object"
            ]
          },
          "execution_count": 25,
          "metadata": {},
          "output_type": "execute_result"
        }
      ],
      "source": [
        "X = pd.Series(['A','B','C','D','E'],\n",
        "              index=['first','second','third','forth','fifth'])\n",
        "\n",
        "#X[['first', 'fifth']]\n",
        "#X.iloc[[0, -1]]\n",
        "X[[0, -1]]"
      ]
    },
    {
      "cell_type": "markdown",
      "metadata": {
        "id": "EwbLaxu44JQO"
      },
      "source": [
        "![purple-divider](https://user-images.githubusercontent.com/7065401/52071927-c1cd7100-2562-11e9-908a-dde91ba14e59.png)\n",
        "\n",
        "## Series manipulation"
      ]
    },
    {
      "cell_type": "markdown",
      "metadata": {
        "id": "lMRCVblB4JQO"
      },
      "source": [
        "### Convert the given integer pandas Series to float\n"
      ]
    },
    {
      "cell_type": "code",
      "execution_count": 26,
      "metadata": {
        "id": "aYVLJiw44JQO"
      },
      "outputs": [
        {
          "data": {
            "text/plain": [
              "0    0\n",
              "1    1\n",
              "2    2\n",
              "3    3\n",
              "4    4\n",
              "5    5\n",
              "6    6\n",
              "7    7\n",
              "8    8\n",
              "9    9\n",
              "dtype: int64"
            ]
          },
          "execution_count": 26,
          "metadata": {},
          "output_type": "execute_result"
        }
      ],
      "source": [
        "# your code goes here\n",
        "IS = pd.Series([i for i in range(10)])\n",
        "IS"
      ]
    },
    {
      "cell_type": "code",
      "execution_count": 27,
      "metadata": {},
      "outputs": [
        {
          "data": {
            "text/plain": [
              "0    0.0\n",
              "1    1.0\n",
              "2    2.0\n",
              "3    3.0\n",
              "4    4.0\n",
              "5    5.0\n",
              "6    6.0\n",
              "7    7.0\n",
              "8    8.0\n",
              "9    9.0\n",
              "dtype: float64"
            ]
          },
          "execution_count": 27,
          "metadata": {},
          "output_type": "execute_result"
        }
      ],
      "source": [
        "pd.Series(IS, dtype= float)"
      ]
    },
    {
      "cell_type": "code",
      "execution_count": 28,
      "metadata": {
        "cell_type": "solution",
        "id": "A0frQ87y4JQP"
      },
      "outputs": [
        {
          "name": "stderr",
          "output_type": "stream",
          "text": [
            "C:\\Users\\jm\\AppData\\Local\\Temp\\ipykernel_21840\\3515785985.py:4: DeprecationWarning: `np.float` is a deprecated alias for the builtin `float`. To silence this warning, use `float` by itself. Doing this will not modify any behavior and is safe. If you specifically wanted the numpy scalar type, use `np.float64` here.\n",
            "Deprecated in NumPy 1.20; for more details and guidance: https://numpy.org/devdocs/release/1.20.0-notes.html#deprecations\n",
            "  pd.Series(X, dtype=np.float)\n"
          ]
        },
        {
          "data": {
            "text/plain": [
              "first     1.0\n",
              "second    2.0\n",
              "third     3.0\n",
              "forth     4.0\n",
              "fifth     5.0\n",
              "dtype: float64"
            ]
          },
          "execution_count": 28,
          "metadata": {},
          "output_type": "execute_result"
        }
      ],
      "source": [
        "X = pd.Series([1,2,3,4,5],\n",
        "              index=['first','second','third','forth','fifth'])\n",
        "\n",
        "pd.Series(X, dtype=np.float)"
      ]
    },
    {
      "cell_type": "markdown",
      "metadata": {
        "id": "Izi_AOll4JQP"
      },
      "source": [
        "![green-divider](https://user-images.githubusercontent.com/7065401/52071924-c003ad80-2562-11e9-8297-1c6595f8a7ff.png)\n",
        "\n",
        "### Reverse the given pandas Series (first element becomes last)"
      ]
    },
    {
      "cell_type": "code",
      "execution_count": 29,
      "metadata": {
        "id": "i39DYNL04JQP"
      },
      "outputs": [
        {
          "data": {
            "text/plain": [
              "9    9\n",
              "8    8\n",
              "7    7\n",
              "6    6\n",
              "5    5\n",
              "4    4\n",
              "3    3\n",
              "2    2\n",
              "1    1\n",
              "0    0\n",
              "dtype: int64"
            ]
          },
          "execution_count": 29,
          "metadata": {},
          "output_type": "execute_result"
        }
      ],
      "source": [
        "# your code goes here\n",
        "IS[::-1]\n"
      ]
    },
    {
      "cell_type": "code",
      "execution_count": 30,
      "metadata": {},
      "outputs": [
        {
          "data": {
            "text/plain": [
              "0    0\n",
              "1    1\n",
              "2    2\n",
              "3    3\n",
              "4    4\n",
              "5    5\n",
              "6    6\n",
              "7    7\n",
              "8    8\n",
              "9    9\n",
              "dtype: int64"
            ]
          },
          "execution_count": 30,
          "metadata": {},
          "output_type": "execute_result"
        }
      ],
      "source": [
        "IS"
      ]
    },
    {
      "cell_type": "code",
      "execution_count": 31,
      "metadata": {},
      "outputs": [
        {
          "data": {
            "text/plain": [
              "9    9\n",
              "8    8\n",
              "7    7\n",
              "6    6\n",
              "5    5\n",
              "4    4\n",
              "3    3\n",
              "2    2\n",
              "1    1\n",
              "0    0\n",
              "dtype: int64"
            ]
          },
          "execution_count": 31,
          "metadata": {},
          "output_type": "execute_result"
        }
      ],
      "source": [
        "IS = IS[::-1]\n",
        "IS"
      ]
    },
    {
      "cell_type": "code",
      "execution_count": 32,
      "metadata": {},
      "outputs": [
        {
          "data": {
            "text/plain": [
              "dtype('int64')"
            ]
          },
          "execution_count": 32,
          "metadata": {},
          "output_type": "execute_result"
        }
      ],
      "source": [
        "IS.dtype"
      ]
    },
    {
      "cell_type": "code",
      "execution_count": 33,
      "metadata": {},
      "outputs": [
        {
          "data": {
            "text/plain": [
              "0    9\n",
              "1    1\n",
              "2    2\n",
              "3    3\n",
              "4    4\n",
              "5    5\n",
              "6    6\n",
              "7    7\n",
              "8    8\n",
              "9    9\n",
              "dtype: int64"
            ]
          },
          "execution_count": 33,
          "metadata": {},
          "output_type": "execute_result"
        }
      ],
      "source": [
        "IS2 = pd.Series([i for i in range(len(IS))], dtype= IS.dtype)\n",
        "for i in range(len(IS)):\n",
        "    IS2[0] = IS.iloc[-1-i]\n",
        "    #print(IS[-1-i])\n",
        "IS2"
      ]
    },
    {
      "cell_type": "code",
      "execution_count": 34,
      "metadata": {},
      "outputs": [
        {
          "data": {
            "text/plain": [
              "9    9\n",
              "8    8\n",
              "7    7\n",
              "6    6\n",
              "5    5\n",
              "4    4\n",
              "3    3\n",
              "2    2\n",
              "1    1\n",
              "0    0\n",
              "dtype: int64"
            ]
          },
          "execution_count": 34,
          "metadata": {},
          "output_type": "execute_result"
        }
      ],
      "source": [
        "IS"
      ]
    },
    {
      "cell_type": "code",
      "execution_count": 35,
      "metadata": {
        "cell_type": "solution",
        "id": "ZaGyj9D-4JQP"
      },
      "outputs": [
        {
          "data": {
            "text/plain": [
              "fifth     5\n",
              "forth     4\n",
              "third     3\n",
              "second    2\n",
              "first     1\n",
              "dtype: int64"
            ]
          },
          "execution_count": 35,
          "metadata": {},
          "output_type": "execute_result"
        }
      ],
      "source": [
        "X = pd.Series([1,2,3,4,5],\n",
        "              index=['first','second','third','forth','fifth'])\n",
        "\n",
        "X[::-1]"
      ]
    },
    {
      "cell_type": "markdown",
      "metadata": {
        "id": "YzN7sViO4JQP"
      },
      "source": [
        "![green-divider](https://user-images.githubusercontent.com/7065401/52071924-c003ad80-2562-11e9-8297-1c6595f8a7ff.png)\n",
        "\n",
        "### Order (sort) the given pandas Series\n"
      ]
    },
    {
      "cell_type": "code",
      "execution_count": 36,
      "metadata": {
        "id": "60eNCqU14JQQ"
      },
      "outputs": [],
      "source": [
        "# your code goes here\n"
      ]
    },
    {
      "cell_type": "code",
      "execution_count": 37,
      "metadata": {
        "cell_type": "solution",
        "id": "IMMPj8wb4JQQ"
      },
      "outputs": [
        {
          "data": {
            "text/plain": [
              "first     1\n",
              "second    2\n",
              "third     3\n",
              "forth     4\n",
              "fifth     5\n",
              "dtype: int64"
            ]
          },
          "execution_count": 37,
          "metadata": {},
          "output_type": "execute_result"
        }
      ],
      "source": [
        "X = pd.Series([4,2,5,1,3],\n",
        "              index=['forth','second','fifth','first','third'])\n",
        "\n",
        "X = X.sort_values()\n",
        "X"
      ]
    },
    {
      "cell_type": "markdown",
      "metadata": {
        "id": "i2RnNwfu4JQQ"
      },
      "source": [
        "![green-divider](https://user-images.githubusercontent.com/7065401/52071924-c003ad80-2562-11e9-8297-1c6595f8a7ff.png)\n",
        "\n",
        "### Given the X pandas Series, set the fifth element equal to 10\n"
      ]
    },
    {
      "cell_type": "code",
      "execution_count": 64,
      "metadata": {
        "id": "W-J2hell4JQQ"
      },
      "outputs": [
        {
          "data": {
            "text/plain": [
              "0     1\n",
              "1     2\n",
              "2     0\n",
              "3     4\n",
              "4    10\n",
              "5     6\n",
              "6     0\n",
              "7     0\n",
              "8     9\n",
              "9    10\n",
              "dtype: int64"
            ]
          },
          "execution_count": 64,
          "metadata": {},
          "output_type": "execute_result"
        }
      ],
      "source": [
        "# your code goes here\n",
        "X[4] = 10\n",
        "X\n"
      ]
    },
    {
      "cell_type": "code",
      "execution_count": 39,
      "metadata": {
        "cell_type": "solution",
        "id": "yeWiMH864JQQ"
      },
      "outputs": [
        {
          "data": {
            "text/plain": [
              "A     1\n",
              "B     2\n",
              "C     3\n",
              "D     4\n",
              "E    10\n",
              "dtype: int64"
            ]
          },
          "execution_count": 39,
          "metadata": {},
          "output_type": "execute_result"
        }
      ],
      "source": [
        "X = pd.Series([1,2,3,4,5],\n",
        "              index=['A','B','C','D','E'])\n",
        "\n",
        "X[4] = 10\n",
        "X"
      ]
    },
    {
      "cell_type": "markdown",
      "metadata": {
        "id": "RqQuA9Pd4JQR"
      },
      "source": [
        "![green-divider](https://user-images.githubusercontent.com/7065401/52071924-c003ad80-2562-11e9-8297-1c6595f8a7ff.png)\n",
        "\n",
        "### Given the X pandas Series, change all the middle elements to 0\n"
      ]
    },
    {
      "cell_type": "code",
      "execution_count": 65,
      "metadata": {
        "id": "tpuao6r04JQR"
      },
      "outputs": [
        {
          "data": {
            "text/plain": [
              "0     1\n",
              "1     0\n",
              "2     0\n",
              "3     0\n",
              "4     0\n",
              "5     0\n",
              "6     0\n",
              "7     0\n",
              "8     0\n",
              "9    10\n",
              "dtype: int64"
            ]
          },
          "execution_count": 65,
          "metadata": {},
          "output_type": "execute_result"
        }
      ],
      "source": [
        "# your code goes here\n",
        "X[1:-1] = 0\n",
        "X\n"
      ]
    },
    {
      "cell_type": "code",
      "execution_count": 41,
      "metadata": {
        "cell_type": "solution",
        "id": "OX5XL9h04JQR",
        "scrolled": false
      },
      "outputs": [
        {
          "data": {
            "text/plain": [
              "A    1\n",
              "B    0\n",
              "C    0\n",
              "D    0\n",
              "E    5\n",
              "dtype: int64"
            ]
          },
          "execution_count": 41,
          "metadata": {},
          "output_type": "execute_result"
        }
      ],
      "source": [
        "X = pd.Series([1,2,3,4,5],\n",
        "              index=['A','B','C','D','E'])\n",
        "\n",
        "X[1:-1] = 0\n",
        "X"
      ]
    },
    {
      "cell_type": "markdown",
      "metadata": {
        "id": "lxYbCSup4JQR"
      },
      "source": [
        "![green-divider](https://user-images.githubusercontent.com/7065401/52071924-c003ad80-2562-11e9-8297-1c6595f8a7ff.png)\n",
        "\n",
        "### Given the X pandas Series, add 5 to every element\n"
      ]
    },
    {
      "cell_type": "code",
      "execution_count": 66,
      "metadata": {
        "id": "ktxK15Cz4JQR"
      },
      "outputs": [
        {
          "data": {
            "text/plain": [
              "0     6\n",
              "1     5\n",
              "2     5\n",
              "3     5\n",
              "4     5\n",
              "5     5\n",
              "6     5\n",
              "7     5\n",
              "8     5\n",
              "9    15\n",
              "dtype: int64"
            ]
          },
          "execution_count": 66,
          "metadata": {},
          "output_type": "execute_result"
        }
      ],
      "source": [
        "# your code goes here\n",
        "Y = X + 5\n",
        "Y"
      ]
    },
    {
      "cell_type": "code",
      "execution_count": 68,
      "metadata": {
        "cell_type": "solution",
        "id": "LylnVUfo4JQS"
      },
      "outputs": [
        {
          "data": {
            "text/plain": [
              "0     6\n",
              "1     7\n",
              "2     8\n",
              "3     9\n",
              "4    10\n",
              "dtype: int64"
            ]
          },
          "execution_count": 68,
          "metadata": {},
          "output_type": "execute_result"
        }
      ],
      "source": [
        "M = pd.Series([1,2,3,4,5])\n",
        "\n",
        "M + 5"
      ]
    },
    {
      "cell_type": "code",
      "execution_count": 69,
      "metadata": {},
      "outputs": [
        {
          "data": {
            "text/plain": [
              "0    1\n",
              "1    2\n",
              "2    3\n",
              "3    4\n",
              "4    5\n",
              "dtype: int64"
            ]
          },
          "execution_count": 69,
          "metadata": {},
          "output_type": "execute_result"
        }
      ],
      "source": [
        "M"
      ]
    },
    {
      "cell_type": "markdown",
      "metadata": {
        "id": "3xfyrTKf4JQS"
      },
      "source": [
        "![purple-divider](https://user-images.githubusercontent.com/7065401/52071927-c1cd7100-2562-11e9-908a-dde91ba14e59.png)\n",
        "\n",
        "## Series boolean arrays (also called masks)"
      ]
    },
    {
      "cell_type": "markdown",
      "metadata": {
        "id": "fQl4Nqa_4JQS"
      },
      "source": [
        "### Given the X pandas Series, make a mask showing negative elements\n"
      ]
    },
    {
      "cell_type": "code",
      "execution_count": 44,
      "metadata": {
        "id": "iMMw5L1s4JQS"
      },
      "outputs": [],
      "source": [
        "# your code goes here\n"
      ]
    },
    {
      "cell_type": "code",
      "execution_count": 45,
      "metadata": {
        "cell_type": "solution",
        "id": "H4FGiM3c4JQS"
      },
      "outputs": [
        {
          "data": {
            "text/plain": [
              "0     True\n",
              "1    False\n",
              "2     True\n",
              "3     True\n",
              "4    False\n",
              "5    False\n",
              "6     True\n",
              "7     True\n",
              "8     True\n",
              "9    False\n",
              "dtype: bool"
            ]
          },
          "execution_count": 45,
          "metadata": {},
          "output_type": "execute_result"
        }
      ],
      "source": [
        "X = pd.Series([-1,2,0,-4,5,6,0,0,-9,10])\n",
        "\n",
        "mask = X <= 0\n",
        "mask"
      ]
    },
    {
      "cell_type": "markdown",
      "metadata": {
        "id": "2ZJVslhg4JQS"
      },
      "source": [
        "![green-divider](https://user-images.githubusercontent.com/7065401/52071924-c003ad80-2562-11e9-8297-1c6595f8a7ff.png)\n",
        "\n",
        "### Given the X pandas Series, get the negative elements\n"
      ]
    },
    {
      "cell_type": "code",
      "execution_count": 71,
      "metadata": {
        "id": "MBO7TljY4JQT"
      },
      "outputs": [
        {
          "data": {
            "text/plain": [
              "0     1\n",
              "1     0\n",
              "2     0\n",
              "3     0\n",
              "4     0\n",
              "5     0\n",
              "6     0\n",
              "7     0\n",
              "8     0\n",
              "9    10\n",
              "dtype: int64"
            ]
          },
          "execution_count": 71,
          "metadata": {},
          "output_type": "execute_result"
        }
      ],
      "source": [
        "# your code goes here\n",
        "X"
      ]
    },
    {
      "cell_type": "code",
      "execution_count": 73,
      "metadata": {},
      "outputs": [
        {
          "data": {
            "text/plain": [
              "1    0\n",
              "2    0\n",
              "3    0\n",
              "4    0\n",
              "5    0\n",
              "6    0\n",
              "7    0\n",
              "8    0\n",
              "dtype: int64"
            ]
          },
          "execution_count": 73,
          "metadata": {},
          "output_type": "execute_result"
        }
      ],
      "source": [
        "X[X < 1]"
      ]
    },
    {
      "cell_type": "code",
      "execution_count": 47,
      "metadata": {
        "cell_type": "solution",
        "id": "93BqaJoy4JQT"
      },
      "outputs": [
        {
          "data": {
            "text/plain": [
              "0   -1\n",
              "2    0\n",
              "3   -4\n",
              "6    0\n",
              "7    0\n",
              "8   -9\n",
              "dtype: int64"
            ]
          },
          "execution_count": 47,
          "metadata": {},
          "output_type": "execute_result"
        }
      ],
      "source": [
        "X = pd.Series([-1,2,0,-4,5,6,0,0,-9,10])\n",
        "\n",
        "mask = X <= 0\n",
        "X[mask]"
      ]
    },
    {
      "cell_type": "markdown",
      "metadata": {
        "id": "ACoaAIoV4JQT"
      },
      "source": [
        "![green-divider](https://user-images.githubusercontent.com/7065401/52071924-c003ad80-2562-11e9-8297-1c6595f8a7ff.png)\n",
        "\n",
        "### Given the X pandas Series, get numbers higher than 5\n"
      ]
    },
    {
      "cell_type": "code",
      "execution_count": 48,
      "metadata": {
        "id": "5C7LTDrW4JQU"
      },
      "outputs": [],
      "source": [
        "# your code goes here\n"
      ]
    },
    {
      "cell_type": "code",
      "execution_count": 49,
      "metadata": {
        "cell_type": "solution",
        "id": "DD8tI0Jx4JQU"
      },
      "outputs": [
        {
          "data": {
            "text/plain": [
              "5     6\n",
              "9    10\n",
              "dtype: int64"
            ]
          },
          "execution_count": 49,
          "metadata": {},
          "output_type": "execute_result"
        }
      ],
      "source": [
        "X = pd.Series([-1,2,0,-4,5,6,0,0,-9,10])\n",
        "\n",
        "mask = X > 5\n",
        "X[mask]"
      ]
    },
    {
      "cell_type": "markdown",
      "metadata": {
        "id": "pzFrUCjC4JQU"
      },
      "source": [
        "![green-divider](https://user-images.githubusercontent.com/7065401/52071924-c003ad80-2562-11e9-8297-1c6595f8a7ff.png)\n",
        "\n",
        "### Given the X pandas Series, get numbers higher than the elements mean"
      ]
    },
    {
      "cell_type": "code",
      "execution_count": 50,
      "metadata": {
        "id": "Vae0mNf04JQU"
      },
      "outputs": [],
      "source": [
        "# your code goes here\n"
      ]
    },
    {
      "cell_type": "code",
      "execution_count": 51,
      "metadata": {
        "cell_type": "solution",
        "id": "dkKg4Tut4JQV"
      },
      "outputs": [
        {
          "data": {
            "text/plain": [
              "1     2\n",
              "4     5\n",
              "5     6\n",
              "9    10\n",
              "dtype: int64"
            ]
          },
          "execution_count": 51,
          "metadata": {},
          "output_type": "execute_result"
        }
      ],
      "source": [
        "X = pd.Series([-1,2,0,-4,5,6,0,0,-9,10])\n",
        "\n",
        "mask = X > X.mean()\n",
        "X[mask]"
      ]
    },
    {
      "cell_type": "markdown",
      "metadata": {
        "id": "ddl6KiM64JQV"
      },
      "source": [
        "![green-divider](https://user-images.githubusercontent.com/7065401/52071924-c003ad80-2562-11e9-8297-1c6595f8a7ff.png)\n",
        "\n",
        "### Given the X pandas Series, get numbers equal to 2 or 10\n"
      ]
    },
    {
      "cell_type": "code",
      "execution_count": 52,
      "metadata": {
        "id": "0F2qLV0B4JQV"
      },
      "outputs": [],
      "source": [
        "# your code goes here\n"
      ]
    },
    {
      "cell_type": "code",
      "execution_count": 53,
      "metadata": {
        "cell_type": "solution",
        "id": "b-xfG-YW4JQV",
        "scrolled": true
      },
      "outputs": [
        {
          "data": {
            "text/plain": [
              "1     2\n",
              "9    10\n",
              "dtype: int64"
            ]
          },
          "execution_count": 53,
          "metadata": {},
          "output_type": "execute_result"
        }
      ],
      "source": [
        "X = pd.Series([-1,2,0,-4,5,6,0,0,-9,10])\n",
        "\n",
        "mask = (X == 2) | (X == 10)\n",
        "X[mask]"
      ]
    },
    {
      "cell_type": "markdown",
      "metadata": {
        "id": "4p9zxnAZ4JQZ"
      },
      "source": [
        "![purple-divider](https://user-images.githubusercontent.com/7065401/52071927-c1cd7100-2562-11e9-908a-dde91ba14e59.png)\n",
        "\n",
        "## Logic functions"
      ]
    },
    {
      "cell_type": "markdown",
      "metadata": {
        "id": "c8lPQBrK4JQa"
      },
      "source": [
        "### Given the X pandas Series, return True if none of its elements is zero"
      ]
    },
    {
      "cell_type": "code",
      "execution_count": 74,
      "metadata": {
        "id": "PXCJmUst4JQa"
      },
      "outputs": [
        {
          "ename": "ValueError",
          "evalue": "No axis named 5 for object type Series",
          "output_type": "error",
          "traceback": [
            "\u001b[1;31m---------------------------------------------------------------------------\u001b[0m",
            "\u001b[1;31mKeyError\u001b[0m                                  Traceback (most recent call last)",
            "File \u001b[1;32mc:\\Users\\jm\\AppData\\Local\\Programs\\Python\\Python311\\Lib\\site-packages\\pandas\\core\\generic.py:554\u001b[0m, in \u001b[0;36mNDFrame._get_axis_number\u001b[1;34m(cls, axis)\u001b[0m\n\u001b[0;32m    553\u001b[0m \u001b[39mtry\u001b[39;00m:\n\u001b[1;32m--> 554\u001b[0m     \u001b[39mreturn\u001b[39;00m \u001b[39mcls\u001b[39;49m\u001b[39m.\u001b[39;49m_AXIS_TO_AXIS_NUMBER[axis]\n\u001b[0;32m    555\u001b[0m \u001b[39mexcept\u001b[39;00m \u001b[39mKeyError\u001b[39;00m:\n",
            "\u001b[1;31mKeyError\u001b[0m: 5",
            "\nDuring handling of the above exception, another exception occurred:\n",
            "\u001b[1;31mValueError\u001b[0m                                Traceback (most recent call last)",
            "Cell \u001b[1;32mIn[74], line 3\u001b[0m\n\u001b[0;32m      1\u001b[0m \u001b[39m# your code goes here\u001b[39;00m\n\u001b[0;32m      2\u001b[0m X \u001b[39m=\u001b[39m pd\u001b[39m.\u001b[39mSeries([\u001b[39m-\u001b[39m\u001b[39m1\u001b[39m,\u001b[39m2\u001b[39m,\u001b[39m0\u001b[39m,\u001b[39m-\u001b[39m\u001b[39m4\u001b[39m,\u001b[39m5\u001b[39m,\u001b[39m6\u001b[39m,\u001b[39m0\u001b[39m,\u001b[39m0\u001b[39m,\u001b[39m-\u001b[39m\u001b[39m9\u001b[39m,\u001b[39m10\u001b[39m])\n\u001b[1;32m----> 3\u001b[0m X\u001b[39m.\u001b[39;49mall(\u001b[39m5\u001b[39;49m)\n",
            "File \u001b[1;32mc:\\Users\\jm\\AppData\\Local\\Programs\\Python\\Python311\\Lib\\site-packages\\pandas\\core\\generic.py:11629\u001b[0m, in \u001b[0;36mNDFrame._add_numeric_operations.<locals>.all\u001b[1;34m(self, axis, bool_only, skipna, level, **kwargs)\u001b[0m\n\u001b[0;32m  11618\u001b[0m \u001b[39m@doc\u001b[39m(\n\u001b[0;32m  11619\u001b[0m     _bool_doc,\n\u001b[0;32m  11620\u001b[0m     desc\u001b[39m=\u001b[39m_all_desc,\n\u001b[1;32m   (...)\u001b[0m\n\u001b[0;32m  11627\u001b[0m )\n\u001b[0;32m  11628\u001b[0m \u001b[39mdef\u001b[39;00m \u001b[39mall\u001b[39m(\u001b[39mself\u001b[39m, axis\u001b[39m=\u001b[39m\u001b[39m0\u001b[39m, bool_only\u001b[39m=\u001b[39m\u001b[39mNone\u001b[39;00m, skipna\u001b[39m=\u001b[39m\u001b[39mTrue\u001b[39;00m, level\u001b[39m=\u001b[39m\u001b[39mNone\u001b[39;00m, \u001b[39m*\u001b[39m\u001b[39m*\u001b[39mkwargs):\n\u001b[1;32m> 11629\u001b[0m     \u001b[39mreturn\u001b[39;00m NDFrame\u001b[39m.\u001b[39;49mall(\u001b[39mself\u001b[39;49m, axis, bool_only, skipna, level, \u001b[39m*\u001b[39;49m\u001b[39m*\u001b[39;49mkwargs)\n",
            "File \u001b[1;32mc:\\Users\\jm\\AppData\\Local\\Programs\\Python\\Python311\\Lib\\site-packages\\pandas\\core\\generic.py:11186\u001b[0m, in \u001b[0;36mNDFrame.all\u001b[1;34m(self, axis, bool_only, skipna, level, **kwargs)\u001b[0m\n\u001b[0;32m  11178\u001b[0m \u001b[39mdef\u001b[39;00m \u001b[39mall\u001b[39m(\n\u001b[0;32m  11179\u001b[0m     \u001b[39mself\u001b[39m,\n\u001b[0;32m  11180\u001b[0m     axis: Axis \u001b[39m=\u001b[39m \u001b[39m0\u001b[39m,\n\u001b[1;32m   (...)\u001b[0m\n\u001b[0;32m  11184\u001b[0m     \u001b[39m*\u001b[39m\u001b[39m*\u001b[39mkwargs,\n\u001b[0;32m  11185\u001b[0m ) \u001b[39m-\u001b[39m\u001b[39m>\u001b[39m Series \u001b[39m|\u001b[39m bool_t:\n\u001b[1;32m> 11186\u001b[0m     \u001b[39mreturn\u001b[39;00m \u001b[39mself\u001b[39;49m\u001b[39m.\u001b[39;49m_logical_func(\n\u001b[0;32m  11187\u001b[0m         \u001b[39m\"\u001b[39;49m\u001b[39mall\u001b[39;49m\u001b[39m\"\u001b[39;49m, nanops\u001b[39m.\u001b[39;49mnanall, axis, bool_only, skipna, level, \u001b[39m*\u001b[39;49m\u001b[39m*\u001b[39;49mkwargs\n\u001b[0;32m  11188\u001b[0m     )\n",
            "File \u001b[1;32mc:\\Users\\jm\\AppData\\Local\\Programs\\Python\\Python311\\Lib\\site-packages\\pandas\\core\\generic.py:11157\u001b[0m, in \u001b[0;36mNDFrame._logical_func\u001b[1;34m(self, name, func, axis, bool_only, skipna, level, **kwargs)\u001b[0m\n\u001b[0;32m  11154\u001b[0m         obj \u001b[39m=\u001b[39m \u001b[39mself\u001b[39m\u001b[39m.\u001b[39m_get_bool_data()\n\u001b[0;32m  11155\u001b[0m     \u001b[39mreturn\u001b[39;00m obj\u001b[39m.\u001b[39m_reduce_axis1(name, func, skipna\u001b[39m=\u001b[39mskipna)\n\u001b[1;32m> 11157\u001b[0m \u001b[39mreturn\u001b[39;00m \u001b[39mself\u001b[39;49m\u001b[39m.\u001b[39;49m_reduce(\n\u001b[0;32m  11158\u001b[0m     func,\n\u001b[0;32m  11159\u001b[0m     name\u001b[39m=\u001b[39;49mname,\n\u001b[0;32m  11160\u001b[0m     axis\u001b[39m=\u001b[39;49maxis,\n\u001b[0;32m  11161\u001b[0m     skipna\u001b[39m=\u001b[39;49mskipna,\n\u001b[0;32m  11162\u001b[0m     numeric_only\u001b[39m=\u001b[39;49mbool_only,\n\u001b[0;32m  11163\u001b[0m     filter_type\u001b[39m=\u001b[39;49m\u001b[39m\"\u001b[39;49m\u001b[39mbool\u001b[39;49m\u001b[39m\"\u001b[39;49m,\n\u001b[0;32m  11164\u001b[0m )\n",
            "File \u001b[1;32mc:\\Users\\jm\\AppData\\Local\\Programs\\Python\\Python311\\Lib\\site-packages\\pandas\\core\\series.py:4793\u001b[0m, in \u001b[0;36mSeries._reduce\u001b[1;34m(self, op, name, axis, skipna, numeric_only, filter_type, **kwds)\u001b[0m\n\u001b[0;32m   4790\u001b[0m delegate \u001b[39m=\u001b[39m \u001b[39mself\u001b[39m\u001b[39m.\u001b[39m_values\n\u001b[0;32m   4792\u001b[0m \u001b[39mif\u001b[39;00m axis \u001b[39mis\u001b[39;00m \u001b[39mnot\u001b[39;00m \u001b[39mNone\u001b[39;00m:\n\u001b[1;32m-> 4793\u001b[0m     \u001b[39mself\u001b[39;49m\u001b[39m.\u001b[39;49m_get_axis_number(axis)\n\u001b[0;32m   4795\u001b[0m \u001b[39mif\u001b[39;00m \u001b[39misinstance\u001b[39m(delegate, ExtensionArray):\n\u001b[0;32m   4796\u001b[0m     \u001b[39m# dispatch to ExtensionArray interface\u001b[39;00m\n\u001b[0;32m   4797\u001b[0m     \u001b[39mreturn\u001b[39;00m delegate\u001b[39m.\u001b[39m_reduce(name, skipna\u001b[39m=\u001b[39mskipna, \u001b[39m*\u001b[39m\u001b[39m*\u001b[39mkwds)\n",
            "File \u001b[1;32mc:\\Users\\jm\\AppData\\Local\\Programs\\Python\\Python311\\Lib\\site-packages\\pandas\\core\\generic.py:556\u001b[0m, in \u001b[0;36mNDFrame._get_axis_number\u001b[1;34m(cls, axis)\u001b[0m\n\u001b[0;32m    554\u001b[0m     \u001b[39mreturn\u001b[39;00m \u001b[39mcls\u001b[39m\u001b[39m.\u001b[39m_AXIS_TO_AXIS_NUMBER[axis]\n\u001b[0;32m    555\u001b[0m \u001b[39mexcept\u001b[39;00m \u001b[39mKeyError\u001b[39;00m:\n\u001b[1;32m--> 556\u001b[0m     \u001b[39mraise\u001b[39;00m \u001b[39mValueError\u001b[39;00m(\u001b[39mf\u001b[39m\u001b[39m\"\u001b[39m\u001b[39mNo axis named \u001b[39m\u001b[39m{\u001b[39;00maxis\u001b[39m}\u001b[39;00m\u001b[39m for object type \u001b[39m\u001b[39m{\u001b[39;00m\u001b[39mcls\u001b[39m\u001b[39m.\u001b[39m\u001b[39m__name__\u001b[39m\u001b[39m}\u001b[39;00m\u001b[39m\"\u001b[39m)\n",
            "\u001b[1;31mValueError\u001b[0m: No axis named 5 for object type Series"
          ]
        }
      ],
      "source": [
        "# your code goes here\n",
        "X = pd.Series([-1,2,0,-4,5,6,0,0,-9,10])\n",
        "X.all(5)"
      ]
    },
    {
      "cell_type": "code",
      "execution_count": 55,
      "metadata": {
        "cell_type": "solution",
        "id": "bBmbSq7U4JQa"
      },
      "outputs": [
        {
          "data": {
            "text/plain": [
              "False"
            ]
          },
          "execution_count": 55,
          "metadata": {},
          "output_type": "execute_result"
        }
      ],
      "source": [
        "X = pd.Series([-1,2,0,-4,5,6,0,0,-9,10])\n",
        "\n",
        "X.all()"
      ]
    },
    {
      "cell_type": "markdown",
      "metadata": {
        "id": "ZErxvrcW4JQa"
      },
      "source": [
        "![green-divider](https://user-images.githubusercontent.com/7065401/52071924-c003ad80-2562-11e9-8297-1c6595f8a7ff.png)\n",
        "\n",
        "### Given the X pandas Series, return True if any of its elements is zero\n"
      ]
    },
    {
      "cell_type": "code",
      "execution_count": 56,
      "metadata": {
        "id": "8yT0-mXd4JQa"
      },
      "outputs": [],
      "source": [
        "# your code goes here\n"
      ]
    },
    {
      "cell_type": "code",
      "execution_count": 57,
      "metadata": {
        "cell_type": "solution",
        "id": "x1ftR5l54JQa"
      },
      "outputs": [
        {
          "data": {
            "text/plain": [
              "True"
            ]
          },
          "execution_count": 57,
          "metadata": {},
          "output_type": "execute_result"
        }
      ],
      "source": [
        "X = pd.Series([-1,2,0,-4,5,6,0,0,-9,10])\n",
        "\n",
        "X.any()"
      ]
    },
    {
      "cell_type": "markdown",
      "metadata": {
        "id": "-q_SKLPE4JQb"
      },
      "source": [
        "![purple-divider](https://user-images.githubusercontent.com/7065401/52071927-c1cd7100-2562-11e9-908a-dde91ba14e59.png)\n",
        "\n",
        "## Summary statistics"
      ]
    },
    {
      "cell_type": "markdown",
      "metadata": {
        "id": "l9-86Yt54JQb"
      },
      "source": [
        "### Given the X pandas Series, show the sum of its elements\n"
      ]
    },
    {
      "cell_type": "code",
      "execution_count": 58,
      "metadata": {
        "id": "cRIMkVAo4JQb"
      },
      "outputs": [],
      "source": [
        "# your code goes here\n"
      ]
    },
    {
      "cell_type": "code",
      "execution_count": 59,
      "metadata": {
        "cell_type": "solution",
        "id": "Wes3sJiU4JQb"
      },
      "outputs": [
        {
          "data": {
            "text/plain": [
              "43"
            ]
          },
          "execution_count": 59,
          "metadata": {},
          "output_type": "execute_result"
        }
      ],
      "source": [
        "X = pd.Series([3,5,6,7,2,3,4,9,4])\n",
        "\n",
        "#np.sum(X)\n",
        "X.sum()"
      ]
    },
    {
      "cell_type": "markdown",
      "metadata": {
        "id": "Pmd_WvJi4JQb"
      },
      "source": [
        "![green-divider](https://user-images.githubusercontent.com/7065401/52071924-c003ad80-2562-11e9-8297-1c6595f8a7ff.png)\n",
        "\n",
        "### Given the X pandas Series, show the mean value of its elements"
      ]
    },
    {
      "cell_type": "code",
      "execution_count": 60,
      "metadata": {
        "id": "HklCNjL04JQb"
      },
      "outputs": [],
      "source": [
        "# your code goes here\n"
      ]
    },
    {
      "cell_type": "code",
      "execution_count": 61,
      "metadata": {
        "cell_type": "solution",
        "id": "j-ik2DZf4JQc"
      },
      "outputs": [
        {
          "data": {
            "text/plain": [
              "3.7"
            ]
          },
          "execution_count": 61,
          "metadata": {},
          "output_type": "execute_result"
        }
      ],
      "source": [
        "X = pd.Series([1,2,0,4,5,6,0,0,9,10])\n",
        "\n",
        "#np.mean(X)\n",
        "X.mean()"
      ]
    },
    {
      "cell_type": "markdown",
      "metadata": {
        "id": "w3HVwitR4JQc"
      },
      "source": [
        "![green-divider](https://user-images.githubusercontent.com/7065401/52071924-c003ad80-2562-11e9-8297-1c6595f8a7ff.png)\n",
        "\n",
        "### Given the X pandas Series, show the max value of its elements"
      ]
    },
    {
      "cell_type": "code",
      "execution_count": 75,
      "metadata": {
        "id": "KXh2TSN04JQc"
      },
      "outputs": [
        {
          "data": {
            "text/plain": [
              "10"
            ]
          },
          "execution_count": 75,
          "metadata": {},
          "output_type": "execute_result"
        }
      ],
      "source": [
        "# your code goes here\n",
        "X = pd.Series([1,2,0,4,5,6,0,0,9,10])\n",
        "X.max()\n"
      ]
    },
    {
      "cell_type": "code",
      "execution_count": 63,
      "metadata": {
        "cell_type": "solution",
        "id": "hgjkYOca4JQc"
      },
      "outputs": [
        {
          "data": {
            "text/plain": [
              "10"
            ]
          },
          "execution_count": 63,
          "metadata": {},
          "output_type": "execute_result"
        }
      ],
      "source": [
        "X = pd.Series([1,2,0,4,5,6,0,0,9,10])\n",
        "\n",
        "#np.max(X)\n",
        "X.max()"
      ]
    },
    {
      "cell_type": "markdown",
      "metadata": {
        "id": "j99Nx7fA4JQc"
      },
      "source": [
        "![purple-divider](https://user-images.githubusercontent.com/7065401/52071927-c1cd7100-2562-11e9-908a-dde91ba14e59.png)"
      ]
    }
  ],
  "metadata": {
    "colab": {
      "provenance": []
    },
    "kernelspec": {
      "display_name": "Python 3",
      "language": "python",
      "name": "python3"
    },
    "language_info": {
      "codemirror_mode": {
        "name": "ipython",
        "version": 3
      },
      "file_extension": ".py",
      "mimetype": "text/x-python",
      "name": "python",
      "nbconvert_exporter": "python",
      "pygments_lexer": "ipython3",
      "version": "3.11.0"
    },
    "vscode": {
      "interpreter": {
        "hash": "3bfc4fc20a82bef90b48fcee8a814f8c740ac3a56fb1b2f4f0d6a1ff47bb3f72"
      }
    }
  },
  "nbformat": 4,
  "nbformat_minor": 0
}
