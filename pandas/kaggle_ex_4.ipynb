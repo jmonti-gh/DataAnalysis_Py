{
 "cells": [
  {
   "attachments": {},
   "cell_type": "markdown",
   "metadata": {},
   "source": [
    "# Pandas\n",
    "- Solve short hands-on challenges to perfect your data manipulation skills.\n",
    "- https://www.kaggle.com/learn/pandas"
   ]
  },
  {
   "attachments": {},
   "cell_type": "markdown",
   "metadata": {},
   "source": [
    "## 4.- Exercise: Grouping and Sorting\n",
    "- groupby(), agg(), reset_index(), value_sort()"
   ]
  },
  {
   "cell_type": "code",
   "execution_count": 1,
   "metadata": {},
   "outputs": [
    {
     "name": "stdout",
     "output_type": "stream",
     "text": [
      "np.__version__: 1.23.5\n",
      "pd.__version__: 1.5.3\n"
     ]
    }
   ],
   "source": [
    "import numpy as np\n",
    "import pandas as pd\n",
    "\n",
    "print('np.__version__:', np.__version__)\n",
    "print('pd.__version__:', pd.__version__)\n",
    "\n",
    "#pd.set_option('display.max_rows', 5)"
   ]
  },
  {
   "cell_type": "code",
   "execution_count": 2,
   "metadata": {},
   "outputs": [
    {
     "data": {
      "text/html": [
       "<div>\n",
       "<style scoped>\n",
       "    .dataframe tbody tr th:only-of-type {\n",
       "        vertical-align: middle;\n",
       "    }\n",
       "\n",
       "    .dataframe tbody tr th {\n",
       "        vertical-align: top;\n",
       "    }\n",
       "\n",
       "    .dataframe thead th {\n",
       "        text-align: right;\n",
       "    }\n",
       "</style>\n",
       "<table border=\"1\" class=\"dataframe\">\n",
       "  <thead>\n",
       "    <tr style=\"text-align: right;\">\n",
       "      <th></th>\n",
       "      <th>Name</th>\n",
       "      <th>Country</th>\n",
       "      <th>Region</th>\n",
       "      <th>Winery</th>\n",
       "      <th>Rating</th>\n",
       "      <th>NumberOfRatings</th>\n",
       "      <th>Price</th>\n",
       "      <th>Year</th>\n",
       "    </tr>\n",
       "  </thead>\n",
       "  <tbody>\n",
       "    <tr>\n",
       "      <th>0</th>\n",
       "      <td>Pomerol 2011</td>\n",
       "      <td>France</td>\n",
       "      <td>Pomerol</td>\n",
       "      <td>Château La Providence</td>\n",
       "      <td>4.2</td>\n",
       "      <td>100</td>\n",
       "      <td>95.0</td>\n",
       "      <td>2011</td>\n",
       "    </tr>\n",
       "    <tr>\n",
       "      <th>1</th>\n",
       "      <td>Lirac 2017</td>\n",
       "      <td>France</td>\n",
       "      <td>Lirac</td>\n",
       "      <td>Château Mont-Redon</td>\n",
       "      <td>4.3</td>\n",
       "      <td>100</td>\n",
       "      <td>15.5</td>\n",
       "      <td>2017</td>\n",
       "    </tr>\n",
       "  </tbody>\n",
       "</table>\n",
       "</div>"
      ],
      "text/plain": [
       "           Name Country   Region                 Winery  Rating  \\\n",
       "0  Pomerol 2011  France  Pomerol  Château La Providence     4.2   \n",
       "1    Lirac 2017  France    Lirac     Château Mont-Redon     4.3   \n",
       "\n",
       "   NumberOfRatings  Price  Year  \n",
       "0              100   95.0  2011  \n",
       "1              100   15.5  2017  "
      ]
     },
     "execution_count": 2,
     "metadata": {},
     "output_type": "execute_result"
    }
   ],
   "source": [
    "revs = pd.read_csv('Red.csv')\n",
    "revs.head(2)"
   ]
  },
  {
   "attachments": {},
   "cell_type": "markdown",
   "metadata": {},
   "source": [
    "### 1.- Who are the most common wine reviewers in the dataset? Create a Series whose index is the taster_twitter_handle category from the dataset, and whose values count how many reviews each person wrote."
   ]
  },
  {
   "cell_type": "code",
   "execution_count": 3,
   "metadata": {},
   "outputs": [
    {
     "name": "stdout",
     "output_type": "stream",
     "text": [
      "<class 'pandas.core.series.Series'>\n"
     ]
    },
    {
     "data": {
      "text/plain": [
       "Rioja                                  325\n",
       "Toscana                                249\n",
       "Stellenbosch                           232\n",
       "Saint-Émilion Grand Cru                207\n",
       "Barolo                                 175\n",
       "                                      ... \n",
       "Sachsen                                  1\n",
       "Coteaux Varois en Provence               1\n",
       "Orvietano Rosso                          1\n",
       "Mercurey 1er Cru 'Le Clos L'Evêque'      1\n",
       "Mount Veeder                             1\n",
       "Name: Region, Length: 624, dtype: int64"
      ]
     },
     "execution_count": 3,
     "metadata": {},
     "output_type": "execute_result"
    }
   ],
   "source": [
    "## 1.- Who are the most common Region in the dataset? Create a Series whose index is the\n",
    "# Region category from the dataset, and whose values count how many reviews each person wrote.\n",
    "print(type(revs.Region.value_counts()))\n",
    "revs.Region.value_counts()"
   ]
  },
  {
   "cell_type": "code",
   "execution_count": 4,
   "metadata": {},
   "outputs": [
    {
     "name": "stdout",
     "output_type": "stream",
     "text": [
      "<class 'pandas.core.series.Series'>\n"
     ]
    },
    {
     "data": {
      "text/plain": [
       "Region\n",
       "Rioja                      325\n",
       "Toscana                    249\n",
       "Stellenbosch               232\n",
       "Saint-Émilion Grand Cru    207\n",
       "Barolo                     175\n",
       "                          ... \n",
       "Grampians                    1\n",
       "Goumenissa                   1\n",
       "Santa Lucia Highlands        1\n",
       "Santa Maria Valley           1\n",
       "Aargau                       1\n",
       "Length: 624, dtype: int64"
      ]
     },
     "execution_count": 4,
     "metadata": {},
     "output_type": "execute_result"
    }
   ],
   "source": [
    "# with the Name of the Series, Region, as a tittle\n",
    "print(type(revs.value_counts('Region')))\n",
    "revs.value_counts('Region')"
   ]
  },
  {
   "cell_type": "code",
   "execution_count": 5,
   "metadata": {},
   "outputs": [
    {
     "data": {
      "text/plain": [
       "Region\n",
       "Rioja                      325\n",
       "Toscana                    249\n",
       "Stellenbosch               232\n",
       "Saint-Émilion Grand Cru    207\n",
       "Barolo                     175\n",
       "                          ... \n",
       "Grampians                    1\n",
       "Goumenissa                   1\n",
       "Santa Lucia Highlands        1\n",
       "Santa Maria Valley           1\n",
       "Aargau                       1\n",
       "Name: Region, Length: 624, dtype: int64"
      ]
     },
     "execution_count": 5,
     "metadata": {},
     "output_type": "execute_result"
    }
   ],
   "source": [
    "# using .groupby() ascending False to obtain (almost) the same output as above\n",
    "revs.groupby('Region').Region.count().sort_values(ascending=False)"
   ]
  },
  {
   "cell_type": "code",
   "execution_count": 6,
   "metadata": {},
   "outputs": [
    {
     "data": {
      "text/plain": [
       "Region\n",
       "Aargau                  1\n",
       "Abruzzo                 4\n",
       "Aconcagua               8\n",
       "Aconcagua Costa         5\n",
       "Aconcagua Valley       39\n",
       "                       ..\n",
       "Yecla                   6\n",
       "Zürich                  3\n",
       "delle Venezie          13\n",
       "Échezeaux Grand Cru     2\n",
       "Štajerska               2\n",
       "Name: Region, Length: 624, dtype: int64"
      ]
     },
     "execution_count": 6,
     "metadata": {},
     "output_type": "execute_result"
    }
   ],
   "source": [
    "# .groupby() default\n",
    "revs.groupby('Region').Region.count()"
   ]
  },
  {
   "cell_type": "code",
   "execution_count": 7,
   "metadata": {},
   "outputs": [
    {
     "data": {
      "text/plain": [
       "Country\n",
       "Argentina         246\n",
       "Australia         246\n",
       "Austria           220\n",
       "Brazil             40\n",
       "Bulgaria            2\n",
       "Canada              2\n",
       "Chile             326\n",
       "China               1\n",
       "Croatia             2\n",
       "France           2256\n",
       "Georgia             5\n",
       "Germany           248\n",
       "Greece             13\n",
       "Hungary             9\n",
       "Israel             13\n",
       "Italy            2650\n",
       "Lebanon            15\n",
       "Mexico              1\n",
       "Moldova             8\n",
       "New Zealand        63\n",
       "Portugal          230\n",
       "Romania            23\n",
       "Slovakia            1\n",
       "Slovenia            8\n",
       "South Africa      500\n",
       "Spain            1142\n",
       "Switzerland        12\n",
       "Turkey              6\n",
       "United States     374\n",
       "Uruguay             4\n",
       "Name: Country, dtype: int64"
      ]
     },
     "execution_count": 7,
     "metadata": {},
     "output_type": "execute_result"
    }
   ],
   "source": [
    "# Countries reviews count\n",
    "revs.groupby('Country')['Country'].count()"
   ]
  },
  {
   "cell_type": "code",
   "execution_count": 8,
   "metadata": {},
   "outputs": [
    {
     "data": {
      "text/html": [
       "<div>\n",
       "<style scoped>\n",
       "    .dataframe tbody tr th:only-of-type {\n",
       "        vertical-align: middle;\n",
       "    }\n",
       "\n",
       "    .dataframe tbody tr th {\n",
       "        vertical-align: top;\n",
       "    }\n",
       "\n",
       "    .dataframe thead th {\n",
       "        text-align: right;\n",
       "    }\n",
       "</style>\n",
       "<table border=\"1\" class=\"dataframe\">\n",
       "  <thead>\n",
       "    <tr style=\"text-align: right;\">\n",
       "      <th></th>\n",
       "      <th>Name</th>\n",
       "      <th>Country</th>\n",
       "      <th>Region</th>\n",
       "      <th>Winery</th>\n",
       "      <th>Rating</th>\n",
       "      <th>NumberOfRatings</th>\n",
       "      <th>Price</th>\n",
       "      <th>Year</th>\n",
       "      <th>region_twitter</th>\n",
       "    </tr>\n",
       "  </thead>\n",
       "  <tbody>\n",
       "    <tr>\n",
       "      <th>0</th>\n",
       "      <td>Pomerol 2011</td>\n",
       "      <td>France</td>\n",
       "      <td>Pomerol</td>\n",
       "      <td>Château La Providence</td>\n",
       "      <td>4.2</td>\n",
       "      <td>100</td>\n",
       "      <td>95.00</td>\n",
       "      <td>2011</td>\n",
       "      <td>@Pomerol</td>\n",
       "    </tr>\n",
       "    <tr>\n",
       "      <th>1</th>\n",
       "      <td>Lirac 2017</td>\n",
       "      <td>France</td>\n",
       "      <td>Lirac</td>\n",
       "      <td>Château Mont-Redon</td>\n",
       "      <td>4.3</td>\n",
       "      <td>100</td>\n",
       "      <td>15.50</td>\n",
       "      <td>2017</td>\n",
       "      <td>@Lirac</td>\n",
       "    </tr>\n",
       "    <tr>\n",
       "      <th>2</th>\n",
       "      <td>Erta e China Rosso di Toscana 2015</td>\n",
       "      <td>Italy</td>\n",
       "      <td>Toscana</td>\n",
       "      <td>Renzo Masi</td>\n",
       "      <td>3.9</td>\n",
       "      <td>100</td>\n",
       "      <td>7.45</td>\n",
       "      <td>2015</td>\n",
       "      <td>@Toscana</td>\n",
       "    </tr>\n",
       "  </tbody>\n",
       "</table>\n",
       "</div>"
      ],
      "text/plain": [
       "                                 Name Country   Region                 Winery  \\\n",
       "0                        Pomerol 2011  France  Pomerol  Château La Providence   \n",
       "1                          Lirac 2017  France    Lirac     Château Mont-Redon   \n",
       "2  Erta e China Rosso di Toscana 2015   Italy  Toscana             Renzo Masi   \n",
       "\n",
       "   Rating  NumberOfRatings  Price  Year region_twitter  \n",
       "0     4.2              100  95.00  2011       @Pomerol  \n",
       "1     4.3              100  15.50  2017         @Lirac  \n",
       "2     3.9              100   7.45  2015       @Toscana  "
      ]
     },
     "execution_count": 8,
     "metadata": {},
     "output_type": "execute_result"
    }
   ],
   "source": [
    "# add a column like region_twitter @region...\n",
    "revs['region_twitter'] = '@' + revs.Region\n",
    "revs.head(3)\n",
    "# to get something similar to taster_name and taster_twitter_handle"
   ]
  },
  {
   "cell_type": "code",
   "execution_count": 9,
   "metadata": {},
   "outputs": [
    {
     "data": {
      "text/plain": [
       "region_twitter\n",
       "@Aargau                  1\n",
       "@Abruzzo                 4\n",
       "@Aconcagua               8\n",
       "@Aconcagua Costa         5\n",
       "@Aconcagua Valley       39\n",
       "                        ..\n",
       "@Yecla                   6\n",
       "@Zürich                  3\n",
       "@delle Venezie          13\n",
       "@Échezeaux Grand Cru     2\n",
       "@Štajerska               2\n",
       "Name: Region, Length: 624, dtype: int64"
      ]
     },
     "execution_count": 9,
     "metadata": {},
     "output_type": "execute_result"
    }
   ],
   "source": [
    "revs.groupby('region_twitter').Region.count()"
   ]
  },
  {
   "cell_type": "code",
   "execution_count": 10,
   "metadata": {},
   "outputs": [
    {
     "data": {
      "text/plain": [
       "region_twitter\n",
       "@Aargau                  1\n",
       "@Abruzzo                 4\n",
       "@Aconcagua               8\n",
       "@Aconcagua Costa         5\n",
       "@Aconcagua Valley       39\n",
       "                        ..\n",
       "@Yecla                   6\n",
       "@Zürich                  3\n",
       "@delle Venezie          13\n",
       "@Échezeaux Grand Cru     2\n",
       "@Štajerska               2\n",
       "Length: 624, dtype: int64"
      ]
     },
     "execution_count": 10,
     "metadata": {},
     "output_type": "execute_result"
    }
   ],
   "source": [
    "# ALSO:\n",
    "revs.groupby('region_twitter').size()"
   ]
  },
  {
   "attachments": {},
   "cell_type": "markdown",
   "metadata": {},
   "source": [
    "### 2.- What is the best wine I can buy for a given amount of money? Create a Series whose index is wine prices and whose values is the maximum number of points a wine costing that much was given in a review. Sort the values by price, ascending (so that 4.0 dollars is at the top and 3300.0 dollars is at the bottom)."
   ]
  },
  {
   "cell_type": "code",
   "execution_count": 11,
   "metadata": {},
   "outputs": [
    {
     "data": {
      "text/plain": [
       "Price\n",
       "3.55       3.2\n",
       "3.70       3.1\n",
       "3.79       3.8\n",
       "3.95       3.4\n",
       "3.99       3.7\n",
       "          ... \n",
       "1197.90    4.6\n",
       "1266.25    4.5\n",
       "1399.00    4.4\n",
       "1599.95    4.5\n",
       "3410.79    4.7\n",
       "Name: Rating, Length: 2491, dtype: float64"
      ]
     },
     "execution_count": 11,
     "metadata": {},
     "output_type": "execute_result"
    }
   ],
   "source": [
    "revs.groupby('Price').Rating.max()"
   ]
  },
  {
   "attachments": {},
   "cell_type": "markdown",
   "metadata": {},
   "source": [
    "### 3.- What are the minimum and maximum prices for each variety of wine? Create a DataFrame whose index is the variety category from the dataset and whose values are the min and max values thereof."
   ]
  },
  {
   "cell_type": "code",
   "execution_count": 12,
   "metadata": {},
   "outputs": [
    {
     "data": {
      "text/html": [
       "<div>\n",
       "<style scoped>\n",
       "    .dataframe tbody tr th:only-of-type {\n",
       "        vertical-align: middle;\n",
       "    }\n",
       "\n",
       "    .dataframe tbody tr th {\n",
       "        vertical-align: top;\n",
       "    }\n",
       "\n",
       "    .dataframe thead th {\n",
       "        text-align: right;\n",
       "    }\n",
       "</style>\n",
       "<table border=\"1\" class=\"dataframe\">\n",
       "  <thead>\n",
       "    <tr style=\"text-align: right;\">\n",
       "      <th></th>\n",
       "      <th>min_price</th>\n",
       "      <th>max_price</th>\n",
       "    </tr>\n",
       "    <tr>\n",
       "      <th>Region</th>\n",
       "      <th></th>\n",
       "      <th></th>\n",
       "    </tr>\n",
       "  </thead>\n",
       "  <tbody>\n",
       "    <tr>\n",
       "      <th>Aargau</th>\n",
       "      <td>36.90</td>\n",
       "      <td>36.90</td>\n",
       "    </tr>\n",
       "    <tr>\n",
       "      <th>Abruzzo</th>\n",
       "      <td>10.45</td>\n",
       "      <td>21.89</td>\n",
       "    </tr>\n",
       "    <tr>\n",
       "      <th>Aconcagua</th>\n",
       "      <td>20.49</td>\n",
       "      <td>40.81</td>\n",
       "    </tr>\n",
       "    <tr>\n",
       "      <th>Aconcagua Costa</th>\n",
       "      <td>19.90</td>\n",
       "      <td>92.00</td>\n",
       "    </tr>\n",
       "    <tr>\n",
       "      <th>Aconcagua Valley</th>\n",
       "      <td>8.19</td>\n",
       "      <td>131.60</td>\n",
       "    </tr>\n",
       "    <tr>\n",
       "      <th>...</th>\n",
       "      <td>...</td>\n",
       "      <td>...</td>\n",
       "    </tr>\n",
       "    <tr>\n",
       "      <th>Yecla</th>\n",
       "      <td>5.75</td>\n",
       "      <td>17.55</td>\n",
       "    </tr>\n",
       "    <tr>\n",
       "      <th>Zürich</th>\n",
       "      <td>15.11</td>\n",
       "      <td>70.19</td>\n",
       "    </tr>\n",
       "    <tr>\n",
       "      <th>delle Venezie</th>\n",
       "      <td>5.82</td>\n",
       "      <td>19.95</td>\n",
       "    </tr>\n",
       "    <tr>\n",
       "      <th>Échezeaux Grand Cru</th>\n",
       "      <td>208.20</td>\n",
       "      <td>222.13</td>\n",
       "    </tr>\n",
       "    <tr>\n",
       "      <th>Štajerska</th>\n",
       "      <td>8.50</td>\n",
       "      <td>14.50</td>\n",
       "    </tr>\n",
       "  </tbody>\n",
       "</table>\n",
       "<p>624 rows × 2 columns</p>\n",
       "</div>"
      ],
      "text/plain": [
       "                     min_price  max_price\n",
       "Region                                   \n",
       "Aargau                   36.90      36.90\n",
       "Abruzzo                  10.45      21.89\n",
       "Aconcagua                20.49      40.81\n",
       "Aconcagua Costa          19.90      92.00\n",
       "Aconcagua Valley          8.19     131.60\n",
       "...                        ...        ...\n",
       "Yecla                     5.75      17.55\n",
       "Zürich                   15.11      70.19\n",
       "delle Venezie             5.82      19.95\n",
       "Échezeaux Grand Cru     208.20     222.13\n",
       "Štajerska                 8.50      14.50\n",
       "\n",
       "[624 rows x 2 columns]"
      ]
     },
     "execution_count": 12,
     "metadata": {},
     "output_type": "execute_result"
    }
   ],
   "source": [
    "# 3.- What are the minimum and maximum prices of wine for each Region? Create a DataFrame whose index is the\n",
    "# Region category from the dataset and whose values are the min and max values thereof.\n",
    "df = pd.DataFrame()\n",
    "df['min_price'] = revs.groupby('Region').Price.min()\n",
    "df['max_price'] = revs.groupby('Region').Price.max()\n",
    "df"
   ]
  },
  {
   "cell_type": "code",
   "execution_count": 13,
   "metadata": {},
   "outputs": [
    {
     "data": {
      "text/html": [
       "<div>\n",
       "<style scoped>\n",
       "    .dataframe tbody tr th:only-of-type {\n",
       "        vertical-align: middle;\n",
       "    }\n",
       "\n",
       "    .dataframe tbody tr th {\n",
       "        vertical-align: top;\n",
       "    }\n",
       "\n",
       "    .dataframe thead th {\n",
       "        text-align: right;\n",
       "    }\n",
       "</style>\n",
       "<table border=\"1\" class=\"dataframe\">\n",
       "  <thead>\n",
       "    <tr style=\"text-align: right;\">\n",
       "      <th></th>\n",
       "      <th>min</th>\n",
       "      <th>max</th>\n",
       "    </tr>\n",
       "    <tr>\n",
       "      <th>Region</th>\n",
       "      <th></th>\n",
       "      <th></th>\n",
       "    </tr>\n",
       "  </thead>\n",
       "  <tbody>\n",
       "    <tr>\n",
       "      <th>Aargau</th>\n",
       "      <td>36.90</td>\n",
       "      <td>36.90</td>\n",
       "    </tr>\n",
       "    <tr>\n",
       "      <th>Abruzzo</th>\n",
       "      <td>10.45</td>\n",
       "      <td>21.89</td>\n",
       "    </tr>\n",
       "    <tr>\n",
       "      <th>Aconcagua</th>\n",
       "      <td>20.49</td>\n",
       "      <td>40.81</td>\n",
       "    </tr>\n",
       "    <tr>\n",
       "      <th>Aconcagua Costa</th>\n",
       "      <td>19.90</td>\n",
       "      <td>92.00</td>\n",
       "    </tr>\n",
       "    <tr>\n",
       "      <th>Aconcagua Valley</th>\n",
       "      <td>8.19</td>\n",
       "      <td>131.60</td>\n",
       "    </tr>\n",
       "    <tr>\n",
       "      <th>...</th>\n",
       "      <td>...</td>\n",
       "      <td>...</td>\n",
       "    </tr>\n",
       "    <tr>\n",
       "      <th>Yecla</th>\n",
       "      <td>5.75</td>\n",
       "      <td>17.55</td>\n",
       "    </tr>\n",
       "    <tr>\n",
       "      <th>Zürich</th>\n",
       "      <td>15.11</td>\n",
       "      <td>70.19</td>\n",
       "    </tr>\n",
       "    <tr>\n",
       "      <th>delle Venezie</th>\n",
       "      <td>5.82</td>\n",
       "      <td>19.95</td>\n",
       "    </tr>\n",
       "    <tr>\n",
       "      <th>Échezeaux Grand Cru</th>\n",
       "      <td>208.20</td>\n",
       "      <td>222.13</td>\n",
       "    </tr>\n",
       "    <tr>\n",
       "      <th>Štajerska</th>\n",
       "      <td>8.50</td>\n",
       "      <td>14.50</td>\n",
       "    </tr>\n",
       "  </tbody>\n",
       "</table>\n",
       "<p>624 rows × 2 columns</p>\n",
       "</div>"
      ],
      "text/plain": [
       "                        min     max\n",
       "Region                             \n",
       "Aargau                36.90   36.90\n",
       "Abruzzo               10.45   21.89\n",
       "Aconcagua             20.49   40.81\n",
       "Aconcagua Costa       19.90   92.00\n",
       "Aconcagua Valley       8.19  131.60\n",
       "...                     ...     ...\n",
       "Yecla                  5.75   17.55\n",
       "Zürich                15.11   70.19\n",
       "delle Venezie          5.82   19.95\n",
       "Échezeaux Grand Cru  208.20  222.13\n",
       "Štajerska              8.50   14.50\n",
       "\n",
       "[624 rows x 2 columns]"
      ]
     },
     "execution_count": 13,
     "metadata": {},
     "output_type": "execute_result"
    }
   ],
   "source": [
    "# BETTER using .agg()\n",
    "df1 = revs.groupby('Region').Price.agg(['min', 'max'])\n",
    "df1"
   ]
  },
  {
   "attachments": {},
   "cell_type": "markdown",
   "metadata": {},
   "source": [
    "### 4.- What are the most expensive wine varieties? Create a variable sorted_varieties containing a copy of the dataframe from the previous question where varieties are sorted in descending order based on minimum price, then on maximum price (to break ties)."
   ]
  },
  {
   "cell_type": "code",
   "execution_count": 14,
   "metadata": {},
   "outputs": [
    {
     "data": {
      "text/html": [
       "<div>\n",
       "<style scoped>\n",
       "    .dataframe tbody tr th:only-of-type {\n",
       "        vertical-align: middle;\n",
       "    }\n",
       "\n",
       "    .dataframe tbody tr th {\n",
       "        vertical-align: top;\n",
       "    }\n",
       "\n",
       "    .dataframe thead th {\n",
       "        text-align: right;\n",
       "    }\n",
       "</style>\n",
       "<table border=\"1\" class=\"dataframe\">\n",
       "  <thead>\n",
       "    <tr style=\"text-align: right;\">\n",
       "      <th></th>\n",
       "      <th>min</th>\n",
       "      <th>max</th>\n",
       "    </tr>\n",
       "    <tr>\n",
       "      <th>Region</th>\n",
       "      <th></th>\n",
       "      <th></th>\n",
       "    </tr>\n",
       "  </thead>\n",
       "  <tbody>\n",
       "    <tr>\n",
       "      <th>Musigny Grand Cru</th>\n",
       "      <td>995.00</td>\n",
       "      <td>995.00</td>\n",
       "    </tr>\n",
       "    <tr>\n",
       "      <th>Bonnes-Mares Grand Cru</th>\n",
       "      <td>291.46</td>\n",
       "      <td>291.46</td>\n",
       "    </tr>\n",
       "    <tr>\n",
       "      <th>Bolgheri Sassicaia</th>\n",
       "      <td>214.90</td>\n",
       "      <td>632.64</td>\n",
       "    </tr>\n",
       "    <tr>\n",
       "      <th>Clos de Lambrays Grand Cru</th>\n",
       "      <td>209.00</td>\n",
       "      <td>209.00</td>\n",
       "    </tr>\n",
       "    <tr>\n",
       "      <th>Échezeaux Grand Cru</th>\n",
       "      <td>208.20</td>\n",
       "      <td>222.13</td>\n",
       "    </tr>\n",
       "    <tr>\n",
       "      <th>...</th>\n",
       "      <td>...</td>\n",
       "      <td>...</td>\n",
       "    </tr>\n",
       "    <tr>\n",
       "      <th>Central Valley</th>\n",
       "      <td>4.25</td>\n",
       "      <td>16.32</td>\n",
       "    </tr>\n",
       "    <tr>\n",
       "      <th>Cariñena</th>\n",
       "      <td>3.99</td>\n",
       "      <td>18.79</td>\n",
       "    </tr>\n",
       "    <tr>\n",
       "      <th>Terre Siciliane</th>\n",
       "      <td>3.79</td>\n",
       "      <td>55.00</td>\n",
       "    </tr>\n",
       "    <tr>\n",
       "      <th>La Mancha</th>\n",
       "      <td>3.70</td>\n",
       "      <td>33.68</td>\n",
       "    </tr>\n",
       "    <tr>\n",
       "      <th>Castilla</th>\n",
       "      <td>3.55</td>\n",
       "      <td>27.78</td>\n",
       "    </tr>\n",
       "  </tbody>\n",
       "</table>\n",
       "<p>624 rows × 2 columns</p>\n",
       "</div>"
      ],
      "text/plain": [
       "                               min     max\n",
       "Region                                    \n",
       "Musigny Grand Cru           995.00  995.00\n",
       "Bonnes-Mares Grand Cru      291.46  291.46\n",
       "Bolgheri Sassicaia          214.90  632.64\n",
       "Clos de Lambrays Grand Cru  209.00  209.00\n",
       "Échezeaux Grand Cru         208.20  222.13\n",
       "...                            ...     ...\n",
       "Central Valley                4.25   16.32\n",
       "Cariñena                      3.99   18.79\n",
       "Terre Siciliane               3.79   55.00\n",
       "La Mancha                     3.70   33.68\n",
       "Castilla                      3.55   27.78\n",
       "\n",
       "[624 rows x 2 columns]"
      ]
     },
     "execution_count": 14,
     "metadata": {},
     "output_type": "execute_result"
    }
   ],
   "source": [
    "# instead of varieties i use Regions\n",
    "df1.sort_values(by=['min', 'max'], ascending=False)"
   ]
  },
  {
   "attachments": {},
   "cell_type": "markdown",
   "metadata": {},
   "source": [
    "### 5.- Create a Series whose index is reviewers and whose values is the average review score given out by that reviewer. Hint: you will need the taster_name and points columns."
   ]
  },
  {
   "cell_type": "code",
   "execution_count": 15,
   "metadata": {},
   "outputs": [
    {
     "data": {
      "text/plain": [
       "Region\n",
       "Aargau                 4.200000\n",
       "Abruzzo                4.125000\n",
       "Aconcagua              3.900000\n",
       "Aconcagua Costa        4.020000\n",
       "Aconcagua Valley       4.002564\n",
       "                         ...   \n",
       "Yecla                  3.516667\n",
       "Zürich                 3.866667\n",
       "delle Venezie          3.723077\n",
       "Échezeaux Grand Cru    4.250000\n",
       "Štajerska              3.500000\n",
       "Name: Rating, Length: 624, dtype: float64"
      ]
     },
     "execution_count": 15,
     "metadata": {},
     "output_type": "execute_result"
    }
   ],
   "source": [
    "reg_mean = revs.groupby('Region').Rating.mean()\n",
    "reg_mean"
   ]
  },
  {
   "cell_type": "code",
   "execution_count": 16,
   "metadata": {},
   "outputs": [
    {
     "data": {
      "text/plain": [
       "count    624.000000\n",
       "mean       3.852884\n",
       "std        0.248910\n",
       "min        2.900000\n",
       "25%        3.700000\n",
       "50%        3.840000\n",
       "75%        4.000000\n",
       "max        4.625000\n",
       "Name: Rating, dtype: float64"
      ]
     },
     "execution_count": 16,
     "metadata": {},
     "output_type": "execute_result"
    }
   ],
   "source": [
    "reg_mean.describe()"
   ]
  },
  {
   "attachments": {},
   "cell_type": "markdown",
   "metadata": {},
   "source": [
    "### 6.- What combination of countries and varieties are most common? Create a Series whose index is a MultiIndexof {country, variety} pairs. For example, a pinot noir produced in the US should map to {\"US\", \"Pinot Noir\"}. Sort the values in the Series in descending order based on wine count."
   ]
  },
  {
   "cell_type": "code",
   "execution_count": 17,
   "metadata": {},
   "outputs": [
    {
     "name": "stdout",
     "output_type": "stream",
     "text": [
      "<class 'pandas.core.series.Series'>\n"
     ]
    },
    {
     "data": {
      "text/plain": [
       "Country        Region                  \n",
       "Argentina      Agrelo                      1\n",
       "               Cafayate Valley             3\n",
       "               Calchaqui Valley            3\n",
       "               Gualtallary                 3\n",
       "               La Consulta                 1\n",
       "                                          ..\n",
       "United States  Willamette Valley           7\n",
       "               Yamhill-Carlton District    1\n",
       "Uruguay        Maldonado                   2\n",
       "               Progreso                    1\n",
       "               San José                    1\n",
       "Name: Region, Length: 624, dtype: int64"
      ]
     },
     "metadata": {},
     "output_type": "display_data"
    }
   ],
   "source": [
    "# I use countries and Regions\n",
    "country_region_0 = revs.groupby(['Country', 'Region']).Region.count()  ## A SERIES\n",
    "print(type(country_region_0))\n",
    "display(country_region_0)\n",
    "#country_region_0.reset_index() ## ERROR in a Series"
   ]
  },
  {
   "cell_type": "code",
   "execution_count": 29,
   "metadata": {},
   "outputs": [
    {
     "data": {
      "text/plain": [
       "Country       Region                 \n",
       "Spain         Rioja                      325\n",
       "Italy         Toscana                    249\n",
       "South Africa  Stellenbosch               232\n",
       "France        Saint-Émilion Grand Cru    207\n",
       "Italy         Barolo                     175\n",
       "                                        ... \n",
       "Greece        Slopes of Enos               1\n",
       "              Santorini                    1\n",
       "              Rapsani                      1\n",
       "              Nemea                        1\n",
       "Uruguay       San José                     1\n",
       "Length: 624, dtype: int64"
      ]
     },
     "execution_count": 29,
     "metadata": {},
     "output_type": "execute_result"
    }
   ],
   "source": [
    "## Correct solution\n",
    "cr_count = revs.groupby(['Country', 'Region']).size().sort_values(ascending=False)\n",
    "cr_count"
   ]
  },
  {
   "cell_type": "code",
   "execution_count": 26,
   "metadata": {},
   "outputs": [
    {
     "name": "stdout",
     "output_type": "stream",
     "text": [
      "<class 'pandas.core.frame.DataFrame'>\n",
      "type(cr): <class 'pandas.core.frame.DataFrame'>\n"
     ]
    },
    {
     "data": {
      "text/html": [
       "<div>\n",
       "<style scoped>\n",
       "    .dataframe tbody tr th:only-of-type {\n",
       "        vertical-align: middle;\n",
       "    }\n",
       "\n",
       "    .dataframe tbody tr th {\n",
       "        vertical-align: top;\n",
       "    }\n",
       "\n",
       "    .dataframe thead th {\n",
       "        text-align: right;\n",
       "    }\n",
       "</style>\n",
       "<table border=\"1\" class=\"dataframe\">\n",
       "  <thead>\n",
       "    <tr style=\"text-align: right;\">\n",
       "      <th></th>\n",
       "      <th>Country</th>\n",
       "      <th>Region</th>\n",
       "      <th>Name</th>\n",
       "      <th>Winery</th>\n",
       "      <th>Rating</th>\n",
       "      <th>NumberOfRatings</th>\n",
       "      <th>Price</th>\n",
       "      <th>Year</th>\n",
       "      <th>region_twitter</th>\n",
       "    </tr>\n",
       "  </thead>\n",
       "  <tbody>\n",
       "    <tr>\n",
       "      <th>553</th>\n",
       "      <td>Spain</td>\n",
       "      <td>Rioja</td>\n",
       "      <td>325</td>\n",
       "      <td>325</td>\n",
       "      <td>325</td>\n",
       "      <td>325</td>\n",
       "      <td>325</td>\n",
       "      <td>325</td>\n",
       "      <td>325</td>\n",
       "    </tr>\n",
       "    <tr>\n",
       "      <th>428</th>\n",
       "      <td>Italy</td>\n",
       "      <td>Toscana</td>\n",
       "      <td>249</td>\n",
       "      <td>249</td>\n",
       "      <td>249</td>\n",
       "      <td>249</td>\n",
       "      <td>249</td>\n",
       "      <td>249</td>\n",
       "      <td>249</td>\n",
       "    </tr>\n",
       "    <tr>\n",
       "      <th>509</th>\n",
       "      <td>South Africa</td>\n",
       "      <td>Stellenbosch</td>\n",
       "      <td>232</td>\n",
       "      <td>232</td>\n",
       "      <td>232</td>\n",
       "      <td>232</td>\n",
       "      <td>232</td>\n",
       "      <td>232</td>\n",
       "      <td>232</td>\n",
       "    </tr>\n",
       "    <tr>\n",
       "      <th>240</th>\n",
       "      <td>France</td>\n",
       "      <td>Saint-Émilion Grand Cru</td>\n",
       "      <td>207</td>\n",
       "      <td>207</td>\n",
       "      <td>207</td>\n",
       "      <td>207</td>\n",
       "      <td>207</td>\n",
       "      <td>207</td>\n",
       "      <td>207</td>\n",
       "    </tr>\n",
       "    <tr>\n",
       "      <th>314</th>\n",
       "      <td>Italy</td>\n",
       "      <td>Barolo</td>\n",
       "      <td>175</td>\n",
       "      <td>175</td>\n",
       "      <td>175</td>\n",
       "      <td>175</td>\n",
       "      <td>175</td>\n",
       "      <td>175</td>\n",
       "      <td>175</td>\n",
       "    </tr>\n",
       "    <tr>\n",
       "      <th>...</th>\n",
       "      <td>...</td>\n",
       "      <td>...</td>\n",
       "      <td>...</td>\n",
       "      <td>...</td>\n",
       "      <td>...</td>\n",
       "      <td>...</td>\n",
       "      <td>...</td>\n",
       "      <td>...</td>\n",
       "      <td>...</td>\n",
       "    </tr>\n",
       "    <tr>\n",
       "      <th>295</th>\n",
       "      <td>Greece</td>\n",
       "      <td>Slopes of Enos</td>\n",
       "      <td>1</td>\n",
       "      <td>1</td>\n",
       "      <td>1</td>\n",
       "      <td>1</td>\n",
       "      <td>1</td>\n",
       "      <td>1</td>\n",
       "      <td>1</td>\n",
       "    </tr>\n",
       "    <tr>\n",
       "      <th>294</th>\n",
       "      <td>Greece</td>\n",
       "      <td>Santorini</td>\n",
       "      <td>1</td>\n",
       "      <td>1</td>\n",
       "      <td>1</td>\n",
       "      <td>1</td>\n",
       "      <td>1</td>\n",
       "      <td>1</td>\n",
       "      <td>1</td>\n",
       "    </tr>\n",
       "    <tr>\n",
       "      <th>293</th>\n",
       "      <td>Greece</td>\n",
       "      <td>Rapsani</td>\n",
       "      <td>1</td>\n",
       "      <td>1</td>\n",
       "      <td>1</td>\n",
       "      <td>1</td>\n",
       "      <td>1</td>\n",
       "      <td>1</td>\n",
       "      <td>1</td>\n",
       "    </tr>\n",
       "    <tr>\n",
       "      <th>292</th>\n",
       "      <td>Greece</td>\n",
       "      <td>Nemea</td>\n",
       "      <td>1</td>\n",
       "      <td>1</td>\n",
       "      <td>1</td>\n",
       "      <td>1</td>\n",
       "      <td>1</td>\n",
       "      <td>1</td>\n",
       "      <td>1</td>\n",
       "    </tr>\n",
       "    <tr>\n",
       "      <th>623</th>\n",
       "      <td>Uruguay</td>\n",
       "      <td>San José</td>\n",
       "      <td>1</td>\n",
       "      <td>1</td>\n",
       "      <td>1</td>\n",
       "      <td>1</td>\n",
       "      <td>1</td>\n",
       "      <td>1</td>\n",
       "      <td>1</td>\n",
       "    </tr>\n",
       "  </tbody>\n",
       "</table>\n",
       "<p>624 rows × 9 columns</p>\n",
       "</div>"
      ],
      "text/plain": [
       "          Country                   Region  Name  Winery  Rating  \\\n",
       "553         Spain                    Rioja   325     325     325   \n",
       "428         Italy                  Toscana   249     249     249   \n",
       "509  South Africa             Stellenbosch   232     232     232   \n",
       "240        France  Saint-Émilion Grand Cru   207     207     207   \n",
       "314         Italy                   Barolo   175     175     175   \n",
       "..            ...                      ...   ...     ...     ...   \n",
       "295        Greece           Slopes of Enos     1       1       1   \n",
       "294        Greece                Santorini     1       1       1   \n",
       "293        Greece                  Rapsani     1       1       1   \n",
       "292        Greece                    Nemea     1       1       1   \n",
       "623       Uruguay                 San José     1       1       1   \n",
       "\n",
       "     NumberOfRatings  Price  Year  region_twitter  \n",
       "553              325    325   325             325  \n",
       "428              249    249   249             249  \n",
       "509              232    232   232             232  \n",
       "240              207    207   207             207  \n",
       "314              175    175   175             175  \n",
       "..               ...    ...   ...             ...  \n",
       "295                1      1     1               1  \n",
       "294                1      1     1               1  \n",
       "293                1      1     1               1  \n",
       "292                1      1     1               1  \n",
       "623                1      1     1               1  \n",
       "\n",
       "[624 rows x 9 columns]"
      ]
     },
     "execution_count": 26,
     "metadata": {},
     "output_type": "execute_result"
    }
   ],
   "source": [
    "cr0 = revs.groupby(['Country', 'Region']).count()\n",
    "print(type(cr0))\n",
    "#display(cr0)\n",
    "cr = cr0.reset_index().sort_values(by='Name', ascending=False)\n",
    "print('type(cr):', type(cr))\n",
    "cr\n",
    "#cr.groupby('Country Region').Name.count()"
   ]
  }
 ],
 "metadata": {
  "kernelspec": {
   "display_name": "Python 3",
   "language": "python",
   "name": "python3"
  },
  "language_info": {
   "codemirror_mode": {
    "name": "ipython",
    "version": 3
   },
   "file_extension": ".py",
   "mimetype": "text/x-python",
   "name": "python",
   "nbconvert_exporter": "python",
   "pygments_lexer": "ipython3",
   "version": "3.11.0"
  },
  "orig_nbformat": 4
 },
 "nbformat": 4,
 "nbformat_minor": 2
}
