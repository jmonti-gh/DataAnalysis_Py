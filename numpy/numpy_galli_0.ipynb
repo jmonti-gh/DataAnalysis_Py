{
 "cells": [
  {
   "attachments": {},
   "cell_type": "markdown",
   "metadata": {},
   "source": [
    "#  NumPy course created by Keith Galli.\n",
    "### NumPy faster than plain Python Lists - Performance Benefict\n",
    "- Faster to read less bytes of memory\n",
    "    - NumPy elements aren't objects (dtype int8, 16, 32; float64, <U1, <U32)\n",
    "- No tye checking when iterating trought elements\n",
    "    - all elements the same 'dtype'\n",
    "- NumPu utilizes continous memory (plain Python nop - kind of scatterd around)\n",
    "    - SIMD vector procesing unit usage (Single Instruction Multiple Data).\n",
    "    - Efective cache utilization.\n",
    "### NumPy different to list - Usefuless Benefits\n",
    "- Can do the same as with lists: insertion, deletion, appending, concatenetion, etc.\n",
    "- Can do more: e.g multpy arrays, arrays and int, etc. we'll se later\n",
    "### Applicatoins of Numpy\n",
    "- MATLAB replacement: tons of math - other scipy.org.\n",
    "- Plotting (Matplotlib)\n",
    "- Backend or other very useful libraries (Pandas, Connect 4, Digital Photography).\n",
    "- Machine Learning: pretty important for. (idea of tensors)\n"
   ]
  },
  {
   "attachments": {},
   "cell_type": "markdown",
   "metadata": {},
   "source": [
    "What is NumPy\n",
    "\n",
    "Why are Numpy arrays faster than regular Python lists?\n",
    "\n",
    "\n",
    "Numpy does not perform type checking while iterating through objects.\n",
    "\n",
    "\n",
    "Numpy uses fixed types.\n",
    "\n",
    "\n",
    "Numpy uses contiguous memory.\n",
    "\n",
    "\n",
    "**All of the above.**"
   ]
  },
  {
   "attachments": {},
   "cell_type": "markdown",
   "metadata": {},
   "source": [
    "### Star with the code\n",
    "pip install numpy - import numpy as np"
   ]
  },
  {
   "cell_type": "code",
   "execution_count": 2,
   "metadata": {},
   "outputs": [
    {
     "name": "stdout",
     "output_type": "stream",
     "text": [
      "1 4 3 12\n"
     ]
    }
   ],
   "source": [
    "import numpy as np\n",
    "a8 = np.array([1,2,3], dtype= np.int8)\n",
    "a32 = np.array([1,2,3], dtype= 'int32')\n",
    "print(a8.itemsize, a32.itemsize, a8.nbytes, a32.nbytes)"
   ]
  },
  {
   "cell_type": "code",
   "execution_count": 7,
   "metadata": {},
   "outputs": [
    {
     "data": {
      "text/plain": [
       "array([[ 1,  2,  3,  4],\n",
       "       [50, 60, 70, 80]])"
      ]
     },
     "execution_count": 7,
     "metadata": {},
     "output_type": "execute_result"
    }
   ],
   "source": [
    "ab = np.array([[1,2,3,4], [50, 60, 70, 80]])\n",
    "ab"
   ]
  },
  {
   "cell_type": "code",
   "execution_count": 12,
   "metadata": {},
   "outputs": [
    {
     "name": "stdout",
     "output_type": "stream",
     "text": [
      "[[1 2 3]\n",
      " [1 2 3]] int32\n"
     ]
    }
   ],
   "source": [
    "ac = np.array([a8, a32])\n",
    "print(ac, ac.dtype)"
   ]
  },
  {
   "cell_type": "code",
   "execution_count": 13,
   "metadata": {},
   "outputs": [
    {
     "data": {
      "text/plain": [
       "array([1, 2, 3, 4])"
      ]
     },
     "execution_count": 13,
     "metadata": {},
     "output_type": "execute_result"
    }
   ],
   "source": [
    "ab[0, :]"
   ]
  },
  {
   "cell_type": "code",
   "execution_count": 14,
   "metadata": {},
   "outputs": [
    {
     "data": {
      "text/plain": [
       "array([50, 60, 70, 80])"
      ]
     },
     "execution_count": 14,
     "metadata": {},
     "output_type": "execute_result"
    }
   ],
   "source": [
    "ab[1]"
   ]
  },
  {
   "cell_type": "code",
   "execution_count": 15,
   "metadata": {},
   "outputs": [
    {
     "data": {
      "text/plain": [
       "array([ 3, 70])"
      ]
     },
     "execution_count": 15,
     "metadata": {},
     "output_type": "execute_result"
    }
   ],
   "source": [
    "ab[:, 2]"
   ]
  },
  {
   "cell_type": "code",
   "execution_count": 16,
   "metadata": {},
   "outputs": [
    {
     "ename": "SyntaxError",
     "evalue": "invalid syntax (3983064963.py, line 1)",
     "output_type": "error",
     "traceback": [
      "\u001b[1;36m  Cell \u001b[1;32mIn[16], line 1\u001b[1;36m\u001b[0m\n\u001b[1;33m    ab[,2]\u001b[0m\n\u001b[1;37m       ^\u001b[0m\n\u001b[1;31mSyntaxError\u001b[0m\u001b[1;31m:\u001b[0m invalid syntax\n"
     ]
    }
   ],
   "source": [
    "ab[,2]"
   ]
  }
 ],
 "metadata": {
  "kernelspec": {
   "display_name": "Python 3",
   "language": "python",
   "name": "python3"
  },
  "language_info": {
   "codemirror_mode": {
    "name": "ipython",
    "version": 3
   },
   "file_extension": ".py",
   "mimetype": "text/x-python",
   "name": "python",
   "nbconvert_exporter": "python",
   "pygments_lexer": "ipython3",
   "version": "3.11.0"
  },
  "orig_nbformat": 4
 },
 "nbformat": 4,
 "nbformat_minor": 2
}
