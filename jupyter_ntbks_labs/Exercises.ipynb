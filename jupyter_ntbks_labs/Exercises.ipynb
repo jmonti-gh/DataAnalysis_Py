{
  "cells": [
    {
      "cell_type": "markdown",
      "metadata": {
        "id": "lsDqkjUVf2_l"
      },
      "source": [
        "![rmotr](https://user-images.githubusercontent.com/7065401/52071918-bda15380-2562-11e9-828c-7f95297e4a82.png)\n",
        "<hr style=\"margin-bottom: 40px;\">\n",
        "\n",
        "# Exercises\n",
        "\n",
        "This is a quick demonstration of how exercises work on [Notebooks.ai](https://notebooks.ai)."
      ]
    },
    {
      "cell_type": "markdown",
      "metadata": {
        "id": "sxYmFQQ3f2_p"
      },
      "source": [
        "![green-divider](https://user-images.githubusercontent.com/7065401/52071924-c003ad80-2562-11e9-8297-1c6595f8a7ff.png)\n",
        "\n",
        "### Example 1: Solve the add function\n",
        "\n",
        "Complete the code of the function `add`, that receives 2 numbers and should return the sum of them:"
      ]
    },
    {
      "cell_type": "code",
      "execution_count": 1,
      "metadata": {
        "id": "ocdP5ZcSf2_q"
      },
      "outputs": [],
      "source": [
        "def add(x, y):\n",
        "    return x + y\n"
      ]
    },
    {
      "attachments": {},
      "cell_type": "markdown",
      "metadata": {},
      "source": [
        "ok, the funct is done, now try it..."
      ]
    },
    {
      "cell_type": "code",
      "execution_count": 2,
      "metadata": {},
      "outputs": [
        {
          "data": {
            "text/plain": [
              "9.6"
            ]
          },
          "execution_count": 2,
          "metadata": {},
          "output_type": "execute_result"
        }
      ],
      "source": [
        "add(5, 4.6)"
      ]
    },
    {
      "attachments": {},
      "cell_type": "markdown",
      "metadata": {},
      "source": [
        "Another funct, fibonacci, recursive...    \n",
        "fn = f(n-2) + f(n-1); f0 = 0; f1 = 1"
      ]
    },
    {
      "cell_type": "code",
      "execution_count": 2,
      "metadata": {},
      "outputs": [],
      "source": [
        "def recur_fibo(n):\n",
        "    if n == 0: return 0\n",
        "    elif n == 1: return 1\n",
        "    elif n > 1: return recur_fibo(n-2) + recur_fibo(n-1)\n",
        "    else: return 'ERROR: \"n\" must be greter than 0'"
      ]
    },
    {
      "cell_type": "code",
      "execution_count": 26,
      "metadata": {},
      "outputs": [
        {
          "data": {
            "text/plain": [
              "102334155"
            ]
          },
          "execution_count": 26,
          "metadata": {},
          "output_type": "execute_result"
        }
      ],
      "source": [
        "recur_fibo(40)"
      ]
    },
    {
      "cell_type": "code",
      "execution_count": 10,
      "metadata": {},
      "outputs": [
        {
          "name": "stdout",
          "output_type": "stream",
          "text": [
            "recur_fibo(0): 0  recur_fibo(1): 1  recur_fibo(2): 1  recur_fibo(3): 2  recur_fibo(4): 3  recur_fibo(5): 5  recur_fibo(6): 8  recur_fibo(7): 13  recur_fibo(8): 21  recur_fibo(9): 34  recur_fibo(10): 55  recur_fibo(11): 89  recur_fibo(12): 144  recur_fibo(13): 233  "
          ]
        }
      ],
      "source": [
        "for i in range(14):\n",
        "    print('recur_fibo(',i,'): ', recur_fibo(i), sep='', end='  ')"
      ]
    },
    {
      "cell_type": "code",
      "execution_count": 12,
      "metadata": {},
      "outputs": [],
      "source": [
        "def rfibo_2(n):\n",
        "    try:\n",
        "        assert n >= 0 and type(n) == int\n",
        "        if n == 0: return 0\n",
        "        elif n == 1: return 1\n",
        "        elif n > 1: return recur_fibo(n-2) + recur_fibo(n-1)\n",
        "    except (TypeError, AssertionError):\n",
        "        return 'ERROR: \"n\" must be an integer grater than 0'"
      ]
    },
    {
      "cell_type": "code",
      "execution_count": 14,
      "metadata": {},
      "outputs": [
        {
          "name": "stdout",
          "output_type": "stream",
          "text": [
            "rfibo_2(0): 0  rfibo_2(1): 1  rfibo_2(2): 1  rfibo_2(3): 2  rfibo_2(4): 3  rfibo_2(5): 5  rfibo_2(6): 8  rfibo_2(7): 13  rfibo_2(8): 21  rfibo_2(9): 34  rfibo_2(10): 55  rfibo_2(11): 89  rfibo_2(12): 144  rfibo_2(13): 233  "
          ]
        }
      ],
      "source": [
        "for i in range(14):\n",
        "    print('rfibo_2(',i,'): ', rfibo_2(i), sep='', end='  ')"
      ]
    },
    {
      "cell_type": "code",
      "execution_count": 28,
      "metadata": {},
      "outputs": [
        {
          "data": {
            "text/plain": [
              "102334155"
            ]
          },
          "execution_count": 28,
          "metadata": {},
          "output_type": "execute_result"
        }
      ],
      "source": [
        "rfibo_2(40)"
      ]
    },
    {
      "attachments": {},
      "cell_type": "markdown",
      "metadata": {},
      "source": [
        "Its really godd that you can see the time a code take to execute.    \n",
        "Nex step make a non recursive fibo funct. and see times."
      ]
    },
    {
      "cell_type": "markdown",
      "metadata": {
        "cell_type": "hint",
        "id": "1sbn4u3Vf2_r"
      },
      "source": [
        "You can use the `+` operator to sum numbers."
      ]
    },
    {
      "cell_type": "code",
      "execution_count": null,
      "metadata": {
        "cell_type": "solution",
        "id": "9hosnzvBf2_s"
      },
      "outputs": [],
      "source": [
        "def add(x, y):\n",
        "    return x + y"
      ]
    },
    {
      "cell_type": "markdown",
      "metadata": {
        "id": "G1NhTOMQf2_s"
      },
      "source": [
        "![purple-divider](https://user-images.githubusercontent.com/7065401/52071927-c1cd7100-2562-11e9-908a-dde91ba14e59.png)"
      ]
    }
  ],
  "metadata": {
    "colab": {
      "provenance": []
    },
    "kernelspec": {
      "display_name": "Python 3",
      "language": "python",
      "name": "python3"
    },
    "language_info": {
      "codemirror_mode": {
        "name": "ipython",
        "version": 3
      },
      "file_extension": ".py",
      "mimetype": "text/x-python",
      "name": "python",
      "nbconvert_exporter": "python",
      "pygments_lexer": "ipython3",
      "version": "3.11.0"
    },
    "vscode": {
      "interpreter": {
        "hash": "1597e403788a7fb92490c255cca99533f227de5016ae5ae95c92508fc748c458"
      }
    }
  },
  "nbformat": 4,
  "nbformat_minor": 0
}
