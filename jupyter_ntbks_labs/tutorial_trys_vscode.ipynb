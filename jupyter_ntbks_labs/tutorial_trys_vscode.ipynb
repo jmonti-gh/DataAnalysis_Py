{
 "cells": [
  {
   "attachments": {},
   "cell_type": "markdown",
   "metadata": {},
   "source": [
    "raw cell?"
   ]
  },
  {
   "attachments": {},
   "cell_type": "markdown",
   "metadata": {},
   "source": [
    "It seems raw cell don't exist in vscode JN"
   ]
  },
  {
   "cell_type": "code",
   "execution_count": null,
   "metadata": {},
   "outputs": [],
   "source": []
  },
  {
   "attachments": {},
   "cell_type": "markdown",
   "metadata": {},
   "source": [
    "shortcuts, it seems similar to vi (i tried a, dd).   \n",
    "command mode & edit mode (two mode editor, like vi again).   \n",
    "escape & return to change modes.   \n",
    "m & y to change cells type.   \n",
    "ctrl + return run...."
   ]
  },
  {
   "cell_type": "code",
   "execution_count": 2,
   "metadata": {},
   "outputs": [
    {
     "name": "stdout",
     "output_type": "stream",
     "text": [
      "3 2 1 0 -1 "
     ]
    }
   ],
   "source": [
    "# py code\n",
    "for i in range(3, -2, -1):\n",
    "    print(i, end=' ')"
   ]
  },
  {
   "cell_type": "markdown",
   "metadata": {},
   "source": []
  }
 ],
 "metadata": {
  "kernelspec": {
   "display_name": "Python 3",
   "language": "python",
   "name": "python3"
  },
  "language_info": {
   "codemirror_mode": {
    "name": "ipython",
    "version": 3
   },
   "file_extension": ".py",
   "mimetype": "text/x-python",
   "name": "python",
   "nbconvert_exporter": "python",
   "pygments_lexer": "ipython3",
   "version": "3.11.0"
  },
  "orig_nbformat": 4,
  "vscode": {
   "interpreter": {
    "hash": "3bfc4fc20a82bef90b48fcee8a814f8c740ac3a56fb1b2f4f0d6a1ff47bb3f72"
   }
  }
 },
 "nbformat": 4,
 "nbformat_minor": 2
}
