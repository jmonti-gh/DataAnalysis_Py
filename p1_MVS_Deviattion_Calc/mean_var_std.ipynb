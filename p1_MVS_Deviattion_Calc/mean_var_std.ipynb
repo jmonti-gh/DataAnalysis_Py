{
 "cells": [
  {
   "attachments": {},
   "cell_type": "markdown",
   "metadata": {},
   "source": [
    "# Mean-Variance-Standard Deviation Calculator\n",
    "### AUX CALCs to output:\n",
    "{\n",
    "  'mean': [[3.0, 4.0, 5.0], [1.0, 4.0, 7.0], 4.0],   \n",
    "  'variance': [[6.0, 6.0, 6.0], [0.6666666666666666, 0.6666666666666666, 0.6666666666666666], 6.666666666666667],   \n",
    "  'standard deviation': [[2.449489742783178, 2.449489742783178, 2.449489742783178], [0.816496580927726, 0.816496580927726, 0.816496580927726], 2.581988897471611],   \n",
    "  'max': [[6, 7, 8], [2, 5, 8], 8],   \n",
    "  'min': [[0, 1, 2], [0, 3, 6], 0],   \n",
    "  'sum': [[9, 12, 15], [3, 12, 21], 36]   \n",
    "}"
   ]
  },
  {
   "cell_type": "code",
   "execution_count": 9,
   "metadata": {},
   "outputs": [],
   "source": [
    "# {\n",
    "#   'mean': [[3.0, 4.0, 5.0], [1.0, 4.0, 7.0], 4.0],\n",
    "#   'variance': [[6.0, 6.0, 6.0], [0.6666666666666666, 0.6666666666666666, 0.6666666666666666], 6.666666666666667],\n",
    "#   'standard deviation': [[2.449489742783178, 2.449489742783178, 2.449489742783178], [0.816496580927726, 0.816496580927726, 0.816496580927726], 2.581988897471611],\n",
    "#   'max': [[6, 7, 8], [2, 5, 8], 8],\n",
    "#   'min': [[0, 1, 2], [0, 3, 6], 0],\n",
    "#   'sum': [[9, 12, 15], [3, 12, 21], 36]\n",
    "# }"
   ]
  },
  {
   "cell_type": "code",
   "execution_count": 10,
   "metadata": {},
   "outputs": [
    {
     "data": {
      "text/plain": [
       "'1.23.5'"
      ]
     },
     "execution_count": 10,
     "metadata": {},
     "output_type": "execute_result"
    }
   ],
   "source": [
    "import numpy as np\n",
    "np.__version__"
   ]
  },
  {
   "cell_type": "code",
   "execution_count": 11,
   "metadata": {},
   "outputs": [
    {
     "data": {
      "text/plain": [
       "(array([[0, 1, 2],\n",
       "        [3, 4, 5],\n",
       "        [6, 7, 8]]),\n",
       " dtype('int32'))"
      ]
     },
     "execution_count": 11,
     "metadata": {},
     "output_type": "execute_result"
    }
   ],
   "source": [
    "lst = [0,1,2,3,4,5,6,7,8]\n",
    "a = np.reshape(lst, (3,3))\n",
    "a, a.dtype"
   ]
  },
  {
   "cell_type": "code",
   "execution_count": 24,
   "metadata": {},
   "outputs": [
    {
     "name": "stdout",
     "output_type": "stream",
     "text": [
      "[3. 4. 5.]\n",
      "[1. 4. 7.]\n"
     ]
    },
    {
     "data": {
      "text/plain": [
       "(4.0, numpy.float64, 4.0, 4.0, NoneType)"
      ]
     },
     "execution_count": 24,
     "metadata": {},
     "output_type": "execute_result"
    }
   ],
   "source": [
    "# 'mean': [axis1, axis2, flattened],\n",
    "print(a.mean(axis=0))\n",
    "print(a.mean(axis=1))\n",
    "a.mean(), type(a.mean()), a.mean(axis=None), a.mean(axis=(0,1)), type(None)"
   ]
  },
  {
   "cell_type": "code",
   "execution_count": 21,
   "metadata": {},
   "outputs": [
    {
     "data": {
      "text/plain": [
       "([3.0, 4.0, 5.0], list, numpy.float64)"
      ]
     },
     "execution_count": 21,
     "metadata": {},
     "output_type": "execute_result"
    }
   ],
   "source": [
    "# convert to plian Py list\n",
    "am0_l = list(a.mean(axis=0))\n",
    "am0_l, type(am0_l), type(am0_l[1])"
   ]
  },
  {
   "cell_type": "code",
   "execution_count": 13,
   "metadata": {},
   "outputs": [
    {
     "name": "stdout",
     "output_type": "stream",
     "text": [
      "[6. 6. 6.]\n",
      "[0.66666667 0.66666667 0.66666667]\n"
     ]
    },
    {
     "data": {
      "text/plain": [
       "(6.666666666666667, numpy.float64)"
      ]
     },
     "execution_count": 13,
     "metadata": {},
     "output_type": "execute_result"
    }
   ],
   "source": [
    "# 'variance': [axis1, axis2, flattened],\n",
    "print(a.var(axis=0))\n",
    "print(a.var(axis=1))\n",
    "a.var(), type(a.var())"
   ]
  },
  {
   "cell_type": "code",
   "execution_count": 14,
   "metadata": {},
   "outputs": [
    {
     "name": "stdout",
     "output_type": "stream",
     "text": [
      "[2.44948974 2.44948974 2.44948974]\n",
      "[0.81649658 0.81649658 0.81649658]\n"
     ]
    },
    {
     "data": {
      "text/plain": [
       "(2.581988897471611, numpy.float64)"
      ]
     },
     "execution_count": 14,
     "metadata": {},
     "output_type": "execute_result"
    }
   ],
   "source": [
    "#  'standard deviation': [axis1, axis2, flattened],\n",
    "print(a.std(axis=0))\n",
    "print(a.std(axis=1))\n",
    "a.std(), type(a.std())"
   ]
  },
  {
   "cell_type": "code",
   "execution_count": 18,
   "metadata": {},
   "outputs": [
    {
     "name": "stdout",
     "output_type": "stream",
     "text": [
      "[3. 4. 5.] <class 'numpy.ndarray'> float64\n"
     ]
    },
    {
     "data": {
      "text/plain": [
       "(array([0.81649658, 0.81649658, 0.81649658]), numpy.ndarray, dtype('float64'))"
      ]
     },
     "execution_count": 18,
     "metadata": {},
     "output_type": "execute_result"
    }
   ],
   "source": [
    "# just to see float prescision\n",
    "am0 = a.mean(axis=0)\n",
    "print(am0, type(am0), am0.dtype)\n",
    "as1 = a.std(axis=1)\n",
    "as1, type(as1), as1.dtype"
   ]
  }
 ],
 "metadata": {
  "kernelspec": {
   "display_name": "Python 3",
   "language": "python",
   "name": "python3"
  },
  "language_info": {
   "codemirror_mode": {
    "name": "ipython",
    "version": 3
   },
   "file_extension": ".py",
   "mimetype": "text/x-python",
   "name": "python",
   "nbconvert_exporter": "python",
   "pygments_lexer": "ipython3",
   "version": "3.11.0"
  },
  "orig_nbformat": 4
 },
 "nbformat": 4,
 "nbformat_minor": 2
}
