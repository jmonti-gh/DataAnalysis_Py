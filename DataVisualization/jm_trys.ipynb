{
 "cells": [
  {
   "cell_type": "code",
   "execution_count": 3,
   "id": "4360bb77-6621-48b4-bf62-f14c73b6c325",
   "metadata": {},
   "outputs": [
    {
     "name": "stdout",
     "output_type": "stream",
     "text": [
      "(366, 5)\n"
     ]
    },
    {
     "data": {
      "text/html": [
       "<div>\n",
       "<style scoped>\n",
       "    .dataframe tbody tr th:only-of-type {\n",
       "        vertical-align: middle;\n",
       "    }\n",
       "\n",
       "    .dataframe tbody tr th {\n",
       "        vertical-align: top;\n",
       "    }\n",
       "\n",
       "    .dataframe thead th {\n",
       "        text-align: right;\n",
       "    }\n",
       "</style>\n",
       "<table border=\"1\" class=\"dataframe\">\n",
       "  <thead>\n",
       "    <tr style=\"text-align: right;\">\n",
       "      <th></th>\n",
       "      <th>Shape of You</th>\n",
       "      <th>Despacito</th>\n",
       "      <th>Something Just Like This</th>\n",
       "      <th>HUMBLE.</th>\n",
       "      <th>Unforgettable</th>\n",
       "    </tr>\n",
       "    <tr>\n",
       "      <th>Date</th>\n",
       "      <th></th>\n",
       "      <th></th>\n",
       "      <th></th>\n",
       "      <th></th>\n",
       "      <th></th>\n",
       "    </tr>\n",
       "  </thead>\n",
       "  <tbody>\n",
       "    <tr>\n",
       "      <th>2017-01-06</th>\n",
       "      <td>12287078</td>\n",
       "      <td>NaN</td>\n",
       "      <td>NaN</td>\n",
       "      <td>NaN</td>\n",
       "      <td>NaN</td>\n",
       "    </tr>\n",
       "    <tr>\n",
       "      <th>2017-01-07</th>\n",
       "      <td>13190270</td>\n",
       "      <td>NaN</td>\n",
       "      <td>NaN</td>\n",
       "      <td>NaN</td>\n",
       "      <td>NaN</td>\n",
       "    </tr>\n",
       "    <tr>\n",
       "      <th>2017-01-15</th>\n",
       "      <td>12889849</td>\n",
       "      <td>1288198.0</td>\n",
       "      <td>NaN</td>\n",
       "      <td>NaN</td>\n",
       "      <td>NaN</td>\n",
       "    </tr>\n",
       "    <tr>\n",
       "      <th>2018-01-01</th>\n",
       "      <td>4865387</td>\n",
       "      <td>5557165.0</td>\n",
       "      <td>2179506.0</td>\n",
       "      <td>2368321.0</td>\n",
       "      <td>2537274.0</td>\n",
       "    </tr>\n",
       "    <tr>\n",
       "      <th>2018-01-08</th>\n",
       "      <td>4135505</td>\n",
       "      <td>2755266.0</td>\n",
       "      <td>2023251.0</td>\n",
       "      <td>2523265.0</td>\n",
       "      <td>2622693.0</td>\n",
       "    </tr>\n",
       "    <tr>\n",
       "      <th>2018-01-09</th>\n",
       "      <td>4168506</td>\n",
       "      <td>2791601.0</td>\n",
       "      <td>2058016.0</td>\n",
       "      <td>2727678.0</td>\n",
       "      <td>2627334.0</td>\n",
       "    </tr>\n",
       "  </tbody>\n",
       "</table>\n",
       "</div>"
      ],
      "text/plain": [
       "            Shape of You  Despacito  Something Just Like This    HUMBLE.   \n",
       "Date                                                                       \n",
       "2017-01-06      12287078        NaN                       NaN        NaN  \\\n",
       "2017-01-07      13190270        NaN                       NaN        NaN   \n",
       "2017-01-15      12889849  1288198.0                       NaN        NaN   \n",
       "2018-01-01       4865387  5557165.0                 2179506.0  2368321.0   \n",
       "2018-01-08       4135505  2755266.0                 2023251.0  2523265.0   \n",
       "2018-01-09       4168506  2791601.0                 2058016.0  2727678.0   \n",
       "\n",
       "            Unforgettable  \n",
       "Date                       \n",
       "2017-01-06            NaN  \n",
       "2017-01-07            NaN  \n",
       "2017-01-15            NaN  \n",
       "2018-01-01      2537274.0  \n",
       "2018-01-08      2622693.0  \n",
       "2018-01-09      2627334.0  "
      ]
     },
     "execution_count": 3,
     "metadata": {},
     "output_type": "execute_result"
    }
   ],
   "source": [
    "import pandas as pd\n",
    "import zipfile as zfm\n",
    "\n",
    "zipfile = 'DataToVisualize.zip'\n",
    "dataset = 'spotify.csv'\n",
    "\n",
    "with zfm.ZipFile(zipfile) as zf:\n",
    "    df = pd.read_csv(zf.open(dataset), index_col='Date', parse_dates=True)\n",
    "    # spotify_data = pd.read_csv(spotify_filepath, index_col=\"Date\", parse_dates=True)\n",
    "print(df.shape)\n",
    "#df.describe()\n",
    "df.iloc[[0, 1, 9, -9, -2, -1]]"
   ]
  },
  {
   "cell_type": "code",
   "execution_count": 5,
   "id": "686de9a6-49c5-4c10-90fb-a81b881a487e",
   "metadata": {},
   "outputs": [
    {
     "name": "stdout",
     "output_type": "stream",
     "text": [
      "<class 'pandas.core.frame.DataFrame'>\n",
      "DatetimeIndex: 366 entries, 2017-01-06 to 2018-01-09\n",
      "Data columns (total 5 columns):\n",
      " #   Column                    Non-Null Count  Dtype  \n",
      "---  ------                    --------------  -----  \n",
      " 0   Shape of You              366 non-null    int64  \n",
      " 1   Despacito                 359 non-null    float64\n",
      " 2   Something Just Like This  319 non-null    float64\n",
      " 3   HUMBLE.                   282 non-null    float64\n",
      " 4   Unforgettable             275 non-null    float64\n",
      "dtypes: float64(4), int64(1)\n",
      "memory usage: 17.2 KB\n",
      "None\n"
     ]
    },
    {
     "data": {
      "text/plain": [
       "dtype('<M8[ns]')"
      ]
     },
     "execution_count": 5,
     "metadata": {},
     "output_type": "execute_result"
    }
   ],
   "source": [
    "print(df.info())\n",
    "df.index.dtype"
   ]
  },
  {
   "cell_type": "code",
   "execution_count": null,
   "id": "3ed89713-5e89-467c-bfb8-ca997fe10105",
   "metadata": {},
   "outputs": [],
   "source": [
    "# df.set_index('Date', inplace=True)\n",
    "# df.head(2)"
   ]
  },
  {
   "cell_type": "code",
   "execution_count": null,
   "id": "cde842dd-d03b-4c47-bb1e-11d27a5daf22",
   "metadata": {},
   "outputs": [],
   "source": [
    "# df.index.to_datetime(df.index, inplace=True)\n",
    "# df.tail(3)"
   ]
  }
 ],
 "metadata": {
  "kernelspec": {
   "display_name": "Python 3 (ipykernel)",
   "language": "python",
   "name": "python3"
  },
  "language_info": {
   "codemirror_mode": {
    "name": "ipython",
    "version": 3
   },
   "file_extension": ".py",
   "mimetype": "text/x-python",
   "name": "python",
   "nbconvert_exporter": "python",
   "pygments_lexer": "ipython3",
   "version": "3.11.3"
  }
 },
 "nbformat": 4,
 "nbformat_minor": 5
}
