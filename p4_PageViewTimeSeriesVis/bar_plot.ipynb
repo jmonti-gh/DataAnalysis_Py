{
 "cells": [
  {
   "attachments": {},
   "cell_type": "markdown",
   "metadata": {},
   "source": [
    "# Bar plot\n",
    ". You will use Pandas, Matplotlib, and Seaborn to visualize a dataset containing the number of page views each day on the freeCodeCamp.org forum from 2016-05-09 to 2019-12-03\n",
    "- https://pandas.pydata.org/docs/getting_started/intro_tutorials/09_timeseries.html\n",
    "- https://towardsdatascience.com/how-to-group-yearly-data-by-periods-5199a1dba5db\n",
    "- https://medium.com/mlearning-ai/all-8-types-of-time-series-classification-methods-2c8e4b323ea2"
   ]
  },
  {
   "cell_type": "code",
   "execution_count": 1,
   "metadata": {},
   "outputs": [],
   "source": [
    "import numpy as np\n",
    "import pandas as pd\n",
    "import matplotlib.pyplot as plt\n",
    "import seaborn as sns\n",
    "import matplotlib as mpl\n",
    "#import time\n",
    "#import datetime\n",
    "# from pandas.plotting import register_matplotlib_converters\n",
    "# register_matplotlib_converters()\n",
    "import calendar as cal\n"
   ]
  },
  {
   "attachments": {},
   "cell_type": "markdown",
   "metadata": {},
   "source": [
    "### Use Pandas to import the data from \"fcc-forum-pageviews.csv\".\n",
    "- Set the index to the date column & clean <= 2.5% and >= 97.5 %."
   ]
  },
  {
   "cell_type": "code",
   "execution_count": 2,
   "metadata": {},
   "outputs": [],
   "source": [
    "df = pd.read_csv('fcc-forum-pageviews.csv', index_col='date', parse_dates=True)\n",
    "\n",
    "df = df.loc[(df['value'] > df['value'].quantile(0.025)) &\n",
    "            (df['value'] < df['value'].quantile(0.975))]\n",
    "#df"
   ]
  },
  {
   "attachments": {},
   "cell_type": "markdown",
   "metadata": {},
   "source": [
    "### Create a draw_bar_plot function that draws a bar chart:\n",
    "- similar to \"examples/Figure_2.png\".\n",
    "- It should show average daily page views for each month grouped by year.\n",
    "- The legend should show month labels and have a title of Months.\n",
    "- On the chart, the label on the x axis should be Years and the label on the y axis should be Average Page Views."
   ]
  },
  {
   "cell_type": "code",
   "execution_count": 3,
   "metadata": {},
   "outputs": [
    {
     "data": {
      "text/html": [
       "<div>\n",
       "<style scoped>\n",
       "    .dataframe tbody tr th:only-of-type {\n",
       "        vertical-align: middle;\n",
       "    }\n",
       "\n",
       "    .dataframe tbody tr th {\n",
       "        vertical-align: top;\n",
       "    }\n",
       "\n",
       "    .dataframe thead th {\n",
       "        text-align: right;\n",
       "    }\n",
       "</style>\n",
       "<table border=\"1\" class=\"dataframe\">\n",
       "  <thead>\n",
       "    <tr style=\"text-align: right;\">\n",
       "      <th></th>\n",
       "      <th>value</th>\n",
       "      <th>year</th>\n",
       "      <th>month</th>\n",
       "      <th>day</th>\n",
       "    </tr>\n",
       "    <tr>\n",
       "      <th>date</th>\n",
       "      <th></th>\n",
       "      <th></th>\n",
       "      <th></th>\n",
       "      <th></th>\n",
       "    </tr>\n",
       "  </thead>\n",
       "  <tbody>\n",
       "    <tr>\n",
       "      <th>2016-05-19</th>\n",
       "      <td>19736</td>\n",
       "      <td>2016</td>\n",
       "      <td>5</td>\n",
       "      <td>19</td>\n",
       "    </tr>\n",
       "    <tr>\n",
       "      <th>2016-05-26</th>\n",
       "      <td>18060</td>\n",
       "      <td>2016</td>\n",
       "      <td>5</td>\n",
       "      <td>26</td>\n",
       "    </tr>\n",
       "    <tr>\n",
       "      <th>2016-05-27</th>\n",
       "      <td>19997</td>\n",
       "      <td>2016</td>\n",
       "      <td>5</td>\n",
       "      <td>27</td>\n",
       "    </tr>\n",
       "    <tr>\n",
       "      <th>2016-05-28</th>\n",
       "      <td>19044</td>\n",
       "      <td>2016</td>\n",
       "      <td>5</td>\n",
       "      <td>28</td>\n",
       "    </tr>\n",
       "    <tr>\n",
       "      <th>2016-05-29</th>\n",
       "      <td>20325</td>\n",
       "      <td>2016</td>\n",
       "      <td>5</td>\n",
       "      <td>29</td>\n",
       "    </tr>\n",
       "    <tr>\n",
       "      <th>...</th>\n",
       "      <td>...</td>\n",
       "      <td>...</td>\n",
       "      <td>...</td>\n",
       "      <td>...</td>\n",
       "    </tr>\n",
       "    <tr>\n",
       "      <th>2019-11-24</th>\n",
       "      <td>138875</td>\n",
       "      <td>2019</td>\n",
       "      <td>11</td>\n",
       "      <td>24</td>\n",
       "    </tr>\n",
       "    <tr>\n",
       "      <th>2019-11-29</th>\n",
       "      <td>171584</td>\n",
       "      <td>2019</td>\n",
       "      <td>11</td>\n",
       "      <td>29</td>\n",
       "    </tr>\n",
       "    <tr>\n",
       "      <th>2019-11-30</th>\n",
       "      <td>141161</td>\n",
       "      <td>2019</td>\n",
       "      <td>11</td>\n",
       "      <td>30</td>\n",
       "    </tr>\n",
       "    <tr>\n",
       "      <th>2019-12-01</th>\n",
       "      <td>142918</td>\n",
       "      <td>2019</td>\n",
       "      <td>12</td>\n",
       "      <td>1</td>\n",
       "    </tr>\n",
       "    <tr>\n",
       "      <th>2019-12-03</th>\n",
       "      <td>158549</td>\n",
       "      <td>2019</td>\n",
       "      <td>12</td>\n",
       "      <td>3</td>\n",
       "    </tr>\n",
       "  </tbody>\n",
       "</table>\n",
       "<p>1238 rows × 4 columns</p>\n",
       "</div>"
      ],
      "text/plain": [
       "             value  year  month  day\n",
       "date                                \n",
       "2016-05-19   19736  2016      5   19\n",
       "2016-05-26   18060  2016      5   26\n",
       "2016-05-27   19997  2016      5   27\n",
       "2016-05-28   19044  2016      5   28\n",
       "2016-05-29   20325  2016      5   29\n",
       "...            ...   ...    ...  ...\n",
       "2019-11-24  138875  2019     11   24\n",
       "2019-11-29  171584  2019     11   29\n",
       "2019-11-30  141161  2019     11   30\n",
       "2019-12-01  142918  2019     12    1\n",
       "2019-12-03  158549  2019     12    3\n",
       "\n",
       "[1238 rows x 4 columns]"
      ]
     },
     "execution_count": 3,
     "metadata": {},
     "output_type": "execute_result"
    }
   ],
   "source": [
    "# Extract year - month - date and add as new column\n",
    "df['year'] = df.index.year\n",
    "df['month'] = df.index.month\n",
    "df['day'] = df.index.day        # NOT NECESARY\n",
    "df"
   ]
  },
  {
   "cell_type": "code",
   "execution_count": 4,
   "metadata": {},
   "outputs": [],
   "source": [
    "# df_S = df.stack()\n",
    "# df_S.index\n",
    "# # df_S"
   ]
  },
  {
   "cell_type": "code",
   "execution_count": 5,
   "metadata": {},
   "outputs": [
    {
     "data": {
      "text/plain": [
       "year  month\n",
       "2016  5         19432.400000\n",
       "      6         21875.105263\n",
       "      7         24109.678571\n",
       "      8         31049.193548\n",
       "      9         41476.866667\n",
       "      10        27398.322581\n",
       "      11        40448.633333\n",
       "      12        27832.419355\n",
       "2017  1         32785.161290\n",
       "      2         31113.071429\n",
       "      3         29369.096774\n",
       "      4         30878.733333\n",
       "      5         34244.290323\n",
       "      6         43577.500000\n",
       "      7         65806.838710\n",
       "      8         47712.451613\n",
       "      9         47376.800000\n",
       "      10        47438.709677\n",
       "      11        57701.566667\n",
       "      12        48420.580645\n",
       "2018  1         58580.096774\n",
       "      2         65679.000000\n",
       "      3         62693.774194\n",
       "      4         62350.833333\n",
       "      5         56562.870968\n",
       "      6         70117.000000\n",
       "      7         63591.064516\n",
       "      8         62831.612903\n",
       "      9         65941.733333\n",
       "      10       111378.142857\n",
       "      11        78688.333333\n",
       "      12        80047.483871\n",
       "2019  1        102056.516129\n",
       "      2        105968.357143\n",
       "      3         91214.483871\n",
       "      4         89368.433333\n",
       "      5         91439.903226\n",
       "      6         90435.642857\n",
       "      7         97236.566667\n",
       "      8        102717.310345\n",
       "      9         97268.833333\n",
       "      10       122802.272727\n",
       "      11       143166.428571\n",
       "      12       150733.500000\n",
       "Name: value, dtype: float64"
      ]
     },
     "metadata": {},
     "output_type": "display_data"
    },
    {
     "name": "stdout",
     "output_type": "stream",
     "text": [
      "<class 'pandas.core.series.Series'>\n"
     ]
    },
    {
     "data": {
      "text/plain": [
       "MultiIndex([(2016,  5),\n",
       "            (2016,  6),\n",
       "            (2016,  7),\n",
       "            (2016,  8),\n",
       "            (2016,  9),\n",
       "            (2016, 10),\n",
       "            (2016, 11),\n",
       "            (2016, 12),\n",
       "            (2017,  1),\n",
       "            (2017,  2),\n",
       "            (2017,  3),\n",
       "            (2017,  4),\n",
       "            (2017,  5),\n",
       "            (2017,  6),\n",
       "            (2017,  7),\n",
       "            (2017,  8),\n",
       "            (2017,  9),\n",
       "            (2017, 10),\n",
       "            (2017, 11),\n",
       "            (2017, 12),\n",
       "            (2018,  1),\n",
       "            (2018,  2),\n",
       "            (2018,  3),\n",
       "            (2018,  4),\n",
       "            (2018,  5),\n",
       "            (2018,  6),\n",
       "            (2018,  7),\n",
       "            (2018,  8),\n",
       "            (2018,  9),\n",
       "            (2018, 10),\n",
       "            (2018, 11),\n",
       "            (2018, 12),\n",
       "            (2019,  1),\n",
       "            (2019,  2),\n",
       "            (2019,  3),\n",
       "            (2019,  4),\n",
       "            (2019,  5),\n",
       "            (2019,  6),\n",
       "            (2019,  7),\n",
       "            (2019,  8),\n",
       "            (2019,  9),\n",
       "            (2019, 10),\n",
       "            (2019, 11),\n",
       "            (2019, 12)],\n",
       "           names=['year', 'month'])"
      ]
     },
     "execution_count": 5,
     "metadata": {},
     "output_type": "execute_result"
    }
   ],
   "source": [
    "df_G = df.groupby(['year', 'month'])['value'].mean()\n",
    "display(df_G)\n",
    "print(type(df_G))\n",
    "df_G.index"
   ]
  },
  {
   "cell_type": "code",
   "execution_count": 6,
   "metadata": {},
   "outputs": [
    {
     "data": {
      "text/html": [
       "<div>\n",
       "<style scoped>\n",
       "    .dataframe tbody tr th:only-of-type {\n",
       "        vertical-align: middle;\n",
       "    }\n",
       "\n",
       "    .dataframe tbody tr th {\n",
       "        vertical-align: top;\n",
       "    }\n",
       "\n",
       "    .dataframe thead th {\n",
       "        text-align: right;\n",
       "    }\n",
       "</style>\n",
       "<table border=\"1\" class=\"dataframe\">\n",
       "  <thead>\n",
       "    <tr style=\"text-align: right;\">\n",
       "      <th>month</th>\n",
       "      <th>1</th>\n",
       "      <th>2</th>\n",
       "      <th>3</th>\n",
       "      <th>4</th>\n",
       "      <th>5</th>\n",
       "      <th>6</th>\n",
       "      <th>7</th>\n",
       "      <th>8</th>\n",
       "      <th>9</th>\n",
       "      <th>10</th>\n",
       "      <th>11</th>\n",
       "      <th>12</th>\n",
       "    </tr>\n",
       "    <tr>\n",
       "      <th>year</th>\n",
       "      <th></th>\n",
       "      <th></th>\n",
       "      <th></th>\n",
       "      <th></th>\n",
       "      <th></th>\n",
       "      <th></th>\n",
       "      <th></th>\n",
       "      <th></th>\n",
       "      <th></th>\n",
       "      <th></th>\n",
       "      <th></th>\n",
       "      <th></th>\n",
       "    </tr>\n",
       "  </thead>\n",
       "  <tbody>\n",
       "    <tr>\n",
       "      <th>2016</th>\n",
       "      <td>NaN</td>\n",
       "      <td>NaN</td>\n",
       "      <td>NaN</td>\n",
       "      <td>NaN</td>\n",
       "      <td>19432.400000</td>\n",
       "      <td>21875.105263</td>\n",
       "      <td>24109.678571</td>\n",
       "      <td>31049.193548</td>\n",
       "      <td>41476.866667</td>\n",
       "      <td>27398.322581</td>\n",
       "      <td>40448.633333</td>\n",
       "      <td>27832.419355</td>\n",
       "    </tr>\n",
       "    <tr>\n",
       "      <th>2017</th>\n",
       "      <td>32785.161290</td>\n",
       "      <td>31113.071429</td>\n",
       "      <td>29369.096774</td>\n",
       "      <td>30878.733333</td>\n",
       "      <td>34244.290323</td>\n",
       "      <td>43577.500000</td>\n",
       "      <td>65806.838710</td>\n",
       "      <td>47712.451613</td>\n",
       "      <td>47376.800000</td>\n",
       "      <td>47438.709677</td>\n",
       "      <td>57701.566667</td>\n",
       "      <td>48420.580645</td>\n",
       "    </tr>\n",
       "    <tr>\n",
       "      <th>2018</th>\n",
       "      <td>58580.096774</td>\n",
       "      <td>65679.000000</td>\n",
       "      <td>62693.774194</td>\n",
       "      <td>62350.833333</td>\n",
       "      <td>56562.870968</td>\n",
       "      <td>70117.000000</td>\n",
       "      <td>63591.064516</td>\n",
       "      <td>62831.612903</td>\n",
       "      <td>65941.733333</td>\n",
       "      <td>111378.142857</td>\n",
       "      <td>78688.333333</td>\n",
       "      <td>80047.483871</td>\n",
       "    </tr>\n",
       "    <tr>\n",
       "      <th>2019</th>\n",
       "      <td>102056.516129</td>\n",
       "      <td>105968.357143</td>\n",
       "      <td>91214.483871</td>\n",
       "      <td>89368.433333</td>\n",
       "      <td>91439.903226</td>\n",
       "      <td>90435.642857</td>\n",
       "      <td>97236.566667</td>\n",
       "      <td>102717.310345</td>\n",
       "      <td>97268.833333</td>\n",
       "      <td>122802.272727</td>\n",
       "      <td>143166.428571</td>\n",
       "      <td>150733.500000</td>\n",
       "    </tr>\n",
       "  </tbody>\n",
       "</table>\n",
       "</div>"
      ],
      "text/plain": [
       "month             1              2             3             4             5   \\\n",
       "year                                                                            \n",
       "2016             NaN            NaN           NaN           NaN  19432.400000   \n",
       "2017    32785.161290   31113.071429  29369.096774  30878.733333  34244.290323   \n",
       "2018    58580.096774   65679.000000  62693.774194  62350.833333  56562.870968   \n",
       "2019   102056.516129  105968.357143  91214.483871  89368.433333  91439.903226   \n",
       "\n",
       "month            6             7              8             9              10  \\\n",
       "year                                                                            \n",
       "2016   21875.105263  24109.678571   31049.193548  41476.866667   27398.322581   \n",
       "2017   43577.500000  65806.838710   47712.451613  47376.800000   47438.709677   \n",
       "2018   70117.000000  63591.064516   62831.612903  65941.733333  111378.142857   \n",
       "2019   90435.642857  97236.566667  102717.310345  97268.833333  122802.272727   \n",
       "\n",
       "month             11             12  \n",
       "year                                 \n",
       "2016    40448.633333   27832.419355  \n",
       "2017    57701.566667   48420.580645  \n",
       "2018    78688.333333   80047.483871  \n",
       "2019   143166.428571  150733.500000  "
      ]
     },
     "metadata": {},
     "output_type": "display_data"
    },
    {
     "name": "stdout",
     "output_type": "stream",
     "text": [
      "<class 'pandas.core.frame.DataFrame'>\n"
     ]
    },
    {
     "data": {
      "text/plain": [
       "Int64Index([2016, 2017, 2018, 2019], dtype='int64', name='year')"
      ]
     },
     "execution_count": 6,
     "metadata": {},
     "output_type": "execute_result"
    }
   ],
   "source": [
    "df_Gu = df_G.unstack()\n",
    "display(df_Gu)\n",
    "print(type(df_Gu))\n",
    "df_Gu.index"
   ]
  },
  {
   "cell_type": "code",
   "execution_count": 7,
   "metadata": {},
   "outputs": [
    {
     "name": "stdout",
     "output_type": "stream",
     "text": [
      "{1: 'January', 2: 'February', 3: 'March', 4: 'April', 5: 'May', 6: 'June', 7: 'July', 8: 'August', 9: 'September', 10: 'October', 11: 'November', 12: 'December'}\n",
      "{1: 'January', 2: 'February', 3: 'March', 4: 'April', 5: 'May', 6: 'June', 7: 'July', 8: 'August', 9: 'September', 10: 'October', 11: 'November', 12: 'December'}\n"
     ]
    },
    {
     "data": {
      "text/html": [
       "<div>\n",
       "<style scoped>\n",
       "    .dataframe tbody tr th:only-of-type {\n",
       "        vertical-align: middle;\n",
       "    }\n",
       "\n",
       "    .dataframe tbody tr th {\n",
       "        vertical-align: top;\n",
       "    }\n",
       "\n",
       "    .dataframe thead th {\n",
       "        text-align: right;\n",
       "    }\n",
       "</style>\n",
       "<table border=\"1\" class=\"dataframe\">\n",
       "  <thead>\n",
       "    <tr style=\"text-align: right;\">\n",
       "      <th>month</th>\n",
       "      <th>January</th>\n",
       "      <th>February</th>\n",
       "      <th>March</th>\n",
       "      <th>April</th>\n",
       "      <th>May</th>\n",
       "      <th>June</th>\n",
       "      <th>July</th>\n",
       "      <th>August</th>\n",
       "      <th>September</th>\n",
       "      <th>October</th>\n",
       "      <th>November</th>\n",
       "      <th>December</th>\n",
       "    </tr>\n",
       "    <tr>\n",
       "      <th>year</th>\n",
       "      <th></th>\n",
       "      <th></th>\n",
       "      <th></th>\n",
       "      <th></th>\n",
       "      <th></th>\n",
       "      <th></th>\n",
       "      <th></th>\n",
       "      <th></th>\n",
       "      <th></th>\n",
       "      <th></th>\n",
       "      <th></th>\n",
       "      <th></th>\n",
       "    </tr>\n",
       "  </thead>\n",
       "  <tbody>\n",
       "    <tr>\n",
       "      <th>2016</th>\n",
       "      <td>NaN</td>\n",
       "      <td>NaN</td>\n",
       "      <td>NaN</td>\n",
       "      <td>NaN</td>\n",
       "      <td>19432.400000</td>\n",
       "      <td>21875.105263</td>\n",
       "      <td>24109.678571</td>\n",
       "      <td>31049.193548</td>\n",
       "      <td>41476.866667</td>\n",
       "      <td>27398.322581</td>\n",
       "      <td>40448.633333</td>\n",
       "      <td>27832.419355</td>\n",
       "    </tr>\n",
       "    <tr>\n",
       "      <th>2017</th>\n",
       "      <td>32785.161290</td>\n",
       "      <td>31113.071429</td>\n",
       "      <td>29369.096774</td>\n",
       "      <td>30878.733333</td>\n",
       "      <td>34244.290323</td>\n",
       "      <td>43577.500000</td>\n",
       "      <td>65806.838710</td>\n",
       "      <td>47712.451613</td>\n",
       "      <td>47376.800000</td>\n",
       "      <td>47438.709677</td>\n",
       "      <td>57701.566667</td>\n",
       "      <td>48420.580645</td>\n",
       "    </tr>\n",
       "    <tr>\n",
       "      <th>2018</th>\n",
       "      <td>58580.096774</td>\n",
       "      <td>65679.000000</td>\n",
       "      <td>62693.774194</td>\n",
       "      <td>62350.833333</td>\n",
       "      <td>56562.870968</td>\n",
       "      <td>70117.000000</td>\n",
       "      <td>63591.064516</td>\n",
       "      <td>62831.612903</td>\n",
       "      <td>65941.733333</td>\n",
       "      <td>111378.142857</td>\n",
       "      <td>78688.333333</td>\n",
       "      <td>80047.483871</td>\n",
       "    </tr>\n",
       "    <tr>\n",
       "      <th>2019</th>\n",
       "      <td>102056.516129</td>\n",
       "      <td>105968.357143</td>\n",
       "      <td>91214.483871</td>\n",
       "      <td>89368.433333</td>\n",
       "      <td>91439.903226</td>\n",
       "      <td>90435.642857</td>\n",
       "      <td>97236.566667</td>\n",
       "      <td>102717.310345</td>\n",
       "      <td>97268.833333</td>\n",
       "      <td>122802.272727</td>\n",
       "      <td>143166.428571</td>\n",
       "      <td>150733.500000</td>\n",
       "    </tr>\n",
       "  </tbody>\n",
       "</table>\n",
       "</div>"
      ],
      "text/plain": [
       "month        January       February         March         April           May  \\\n",
       "year                                                                            \n",
       "2016             NaN            NaN           NaN           NaN  19432.400000   \n",
       "2017    32785.161290   31113.071429  29369.096774  30878.733333  34244.290323   \n",
       "2018    58580.096774   65679.000000  62693.774194  62350.833333  56562.870968   \n",
       "2019   102056.516129  105968.357143  91214.483871  89368.433333  91439.903226   \n",
       "\n",
       "month          June          July         August     September        October  \\\n",
       "year                                                                            \n",
       "2016   21875.105263  24109.678571   31049.193548  41476.866667   27398.322581   \n",
       "2017   43577.500000  65806.838710   47712.451613  47376.800000   47438.709677   \n",
       "2018   70117.000000  63591.064516   62831.612903  65941.733333  111378.142857   \n",
       "2019   90435.642857  97236.566667  102717.310345  97268.833333  122802.272727   \n",
       "\n",
       "month       November       December  \n",
       "year                                 \n",
       "2016    40448.633333   27832.419355  \n",
       "2017    57701.566667   48420.580645  \n",
       "2018    78688.333333   80047.483871  \n",
       "2019   143166.428571  150733.500000  "
      ]
     },
     "execution_count": 7,
     "metadata": {},
     "output_type": "execute_result"
    }
   ],
   "source": [
    "#df_Gu.info()\n",
    "df_Gu.columns\n",
    "\n",
    "# need a dict to rename columns at once\n",
    "nc_0 = {i: cal.month_name[i] for i in range(1, 13)}\n",
    "print(nc_0)\n",
    "\n",
    "nc = {num: cal.month_name[num] for num in df_Gu.columns}\n",
    "print(nc)\n",
    "\n",
    "# nc = {1: 'January', 2: 'February', 3: 'March', 4: 'April', 5: 'May', 6: 'June', 7: 'July', 8: 'August', 9: 'September', 10: 'October', 11: 'November', 12: 'December'}\n",
    "# df_Gu.rename(columns=nc, inplace=True)\n",
    "df_Gunstack_name = df_Gu.rename(columns= new_cols)\n",
    "\n",
    "## BEST!! --> OTRA MANERA ¿'¿' aprende_py.pdf\n",
    "df_Gunstack_n1 = df_Gu.rename(columns=lambda c: cal.month_name[c])\n",
    "\n",
    "# # # months = ['Fanuary', 'Frebruary', 'March']\n",
    "# # # for m in range(1, 4):\n",
    "# # #     df_Gu.rename(m = months[m - 1])\n",
    "\n",
    "df_Gunstack_n1\n"
   ]
  },
  {
   "cell_type": "code",
   "execution_count": 8,
   "metadata": {},
   "outputs": [
    {
     "data": {
      "text/plain": [
       "Text(0, 0.5, 'Average Page Views')"
      ]
     },
     "execution_count": 8,
     "metadata": {},
     "output_type": "execute_result"
    },
    {
     "data": {
      "image/png": "[encoded data removed]",
      "text/plain": [
       "<Figure size 1000x800 with 1 Axes>"
      ]
     },
     "metadata": {},
     "output_type": "display_data"
    }
   ],
   "source": [
    "#df_Gu.plot.bar()\n",
    "\n",
    "fig, axs = plt.subplots(figsize= (10, 8))\n",
    "df_Gunstack_n1.plot(kind='bar', rot=0, ax=axs)\n",
    "axs.set_xlabel('Years')\n",
    "axs.set_ylabel('Average Page Views')\n",
    "\n"
   ]
  },
  {
   "cell_type": "code",
   "execution_count": 9,
   "metadata": {},
   "outputs": [
    {
     "ename": "NameError",
     "evalue": "name 'dt' is not defined",
     "output_type": "error",
     "traceback": [
      "\u001b[1;31m---------------------------------------------------------------------------\u001b[0m",
      "\u001b[1;31mNameError\u001b[0m                                 Traceback (most recent call last)",
      "Cell \u001b[1;32mIn[9], line 1\u001b[0m\n\u001b[1;32m----> 1\u001b[0m now \u001b[39m=\u001b[39m dt\u001b[39m.\u001b[39mdatetime\u001b[39m.\u001b[39mnow()\n\u001b[0;32m      2\u001b[0m \u001b[39mprint\u001b[39m(now, now\u001b[39m.\u001b[39mmonth)\n\u001b[0;32m      3\u001b[0m dt_obj \u001b[39m=\u001b[39m dt\u001b[39m.\u001b[39mdatetime\u001b[39m.\u001b[39mstrptime(\u001b[39m'\u001b[39m\u001b[39m3\u001b[39m\u001b[39m'\u001b[39m, \u001b[39m'\u001b[39m\u001b[39m%\u001b[39m\u001b[39mm\u001b[39m\u001b[39m'\u001b[39m)\n",
      "\u001b[1;31mNameError\u001b[0m: name 'dt' is not defined"
     ]
    }
   ],
   "source": [
    "now = dt.datetime.now()\n",
    "print(now, now.month)\n",
    "dt_obj = dt.datetime.strptime('3', '%m')\n",
    "month_name = dt_obj.strftime('%B')\n",
    "print(month_name)\n",
    "\n",
    "month_name1= cal.month_name[3]\n",
    "print(month_name1)"
   ]
  },
  {
   "cell_type": "code",
   "execution_count": null,
   "metadata": {},
   "outputs": [],
   "source": [
    "fig, ax = plt.subplots(figsize= (10, 8))\n",
    "ax.plot(kind='bar', data=df_Gu)"
   ]
  },
  {
   "attachments": {},
   "cell_type": "markdown",
   "metadata": {},
   "source": [
    "#### NICE to practice:\n",
    "https://www.interviewqs.com/ddi-code-snippets/extract-month-year-pandas"
   ]
  },
  {
   "cell_type": "code",
   "execution_count": null,
   "metadata": {},
   "outputs": [],
   "source": []
  },
  {
   "cell_type": "code",
   "execution_count": null,
   "metadata": {},
   "outputs": [],
   "source": [
    "### --- aprende_py.pff\n",
    "fig, ax = plt.subplots(figsize= (10, 8))\n",
    "\n",
    "barw = 0.05\n",
    "#x = np.arange(df_Gu.index.size)\n",
    "x = df_Gu.index\n",
    "\n",
    "jan = ax.bar(x - barw, df_Gu[1], barw, label='jan')\n",
    "feb = ax.bar(x, df_Gu[2], barw, label='feb')\n",
    "mar = ax.bar(x + barw, df_Gu[3], barw, label='jan')\n",
    "\n",
    "ax.legend()\n",
    "\n",
    "# # Aprende Python\n",
    "# >>> fig, ax = plt.subplots(figsize=(8, 5), dpi=100) # 800x500 px\n",
    "# >>> bar_width = 0.30\n",
    "# >>> x = np.arange(df_best.index.size)\n",
    "# >>> golden_medals = ax.bar(x - bar_width, df_best[ Gold ],\n",
    "# ... bar_width, label= Oro , color= #ffd700 )\n",
    "# >>> silver_medals = ax.bar(x, df_best[ Silver ],\n",
    "# ... bar_width, label= Plata , color= #aaa9ad )\n",
    "# >>> bronze_medals = ax.bar(x + bar_width, df_best[ Bronze ],\n",
    "# ... bar_width, label= Bronce , color= #cd7f32 )\n",
    "# >>> ax.set_xticks(x)\n",
    "# >>> ax.set_xticklabels(df_best.index, rotation=90)\n",
    "# >>> ax.legend()\n",
    "# >>> # Etiquetas en barras\n",
    "# >>> ax.bar_label(golden_medals, padding=3)\n",
    "# >>> ax.bar_label(silver_medals, padding=3)\n",
    "# >>> ax.bar_label(bronze_medals, padding=3)\n",
    "# >>> ax.spines[ right ].set_visible(False) # ocultar borde derecho\n",
    "# >>> ax.spines[ top ].set_visible(False) # ocultar borde superior\n",
    "# >>> fig.tight_layout() # ajustar elementos al tamaño de la figura\n",
    "# >>> fig\n"
   ]
  },
  {
   "cell_type": "code",
   "execution_count": null,
   "metadata": {},
   "outputs": [],
   "source": [
    "# # JM - try\n",
    "# fig, ax = plt.subplots(figsize=(12, 6))\n",
    "# ax = sns.heatmap(df_Gu, cmap='Blues')"
   ]
  },
  {
   "attachments": {},
   "cell_type": "markdown",
   "metadata": {},
   "source": [
    "# Other Way TOTAL - JM resume"
   ]
  },
  {
   "cell_type": "code",
   "execution_count": 14,
   "metadata": {},
   "outputs": [
    {
     "data": {
      "text/plain": [
       "Text(0, 0.5, 'Average Page Views')"
      ]
     },
     "execution_count": 14,
     "metadata": {},
     "output_type": "execute_result"
    },
    {
     "data": {
      "image/png": "[encoded data removed]",
      "text/plain": [
       "<Figure size 1000x800 with 1 Axes>"
      ]
     },
     "metadata": {},
     "output_type": "display_data"
    }
   ],
   "source": [
    "# Copy and modify data for monthly bar plot\n",
    "df_bar = df.copy()\n",
    "df['year'] = df.index.year \n",
    "df['month'] = df.index.month\n",
    "df_bar = df_bar.groupby(['year', 'month'])['value'].mean().unstack()\n",
    "# nc = {1: 'January', 2: 'February', 3: 'March', 4: 'April', 5: 'May', 6: 'June',\n",
    "#  7: 'July', 8: 'August', 9: 'September', 10: 'October', 11: 'November', 12: 'December'}\n",
    "# df_Gu.rename(columns=nc, inplace=True)\n",
    "df_bar.rename(columns=lambda c: cal.month_name[c], inplace=True)\n",
    "\n",
    "# Draw bar plot\n",
    "fig, axs = plt.subplots(figsize= (10, 8))\n",
    "#df_bar.plot(kind='bar', rot=0, ax=axs)\n",
    "df_bar.plot(kind='bar', ax=axs)\n",
    "axs.set_xlabel('Years')\n",
    "axs.set_ylabel('Average Page Views')\n"
   ]
  },
  {
   "attachments": {},
   "cell_type": "markdown",
   "metadata": {},
   "source": [
    "# Other Way TOTAL...."
   ]
  },
  {
   "cell_type": "code",
   "execution_count": null,
   "metadata": {},
   "outputs": [],
   "source": [
    "### Copy(3)\n",
    "df_bar = df.copy()\n",
    "df_bar['year'] = pd.DatetimeIndex(df_bar.index).year\n",
    "df_bar['month'] = pd.DatetimeIndex(df_bar.index).month\n",
    "df_bar = df_bar.groupby(['year', 'month'])['value'].mean().unstack()\n",
    "  \n",
    "# Draw bar plot\n",
    "fig = df_bar.plot.bar()\n",
    "plt.legend(['January', 'February', 'March', 'April', 'May', 'June', 'July', 'August', 'September', 'October', 'November', 'December'], title='Months')\n",
    "plt.xlabel('Years')\n",
    "plt.ylabel('Average Page Views')\n",
    "plt.tight_layout()\n"
   ]
  },
  {
   "cell_type": "code",
   "execution_count": null,
   "metadata": {},
   "outputs": [],
   "source": []
  },
  {
   "attachments": {},
   "cell_type": "markdown",
   "metadata": {},
   "source": [
    "# Other Way TOTAL - seaborn!!"
   ]
  },
  {
   "cell_type": "code",
   "execution_count": null,
   "metadata": {},
   "outputs": [],
   "source": []
  },
  {
   "cell_type": "code",
   "execution_count": null,
   "metadata": {},
   "outputs": [],
   "source": [
    "### sns_1 with precedence groupby\n",
    "# Copy and modify data for monthly bar plot\n",
    "df_bar = df.groupby(by=[df.index.year, df.index.month ]).mean()\n",
    "df_bar.index.names=['Years','Months']\n",
    "df_bar = df_bar.reset_index()\n",
    "df_bar['Months'] = pd.to_datetime(df_bar['Months'], format='%m').dt.month_name()\n",
    "df_bar = df_bar.rename(columns={\"value\": \"Average Page Views\"})\n",
    "\n",
    "# Draw bar plot\n",
    "fig, ax = plt.subplots(figsize=(8,6))\n",
    "hue_order = ['January','February', 'March', 'April', 'May', 'June', 'July', 'August', 'September', 'October', 'November', 'December']\n",
    "plot = sns.barplot(x=df_bar['Years'], y=df_bar['Average Page Views'], hue=df_bar['Months'],hue_order=hue_order ,palette=\"tab10\")\n",
    "sns.move_legend(plot , loc='upper left')"
   ]
  },
  {
   "cell_type": "code",
   "execution_count": null,
   "metadata": {},
   "outputs": [],
   "source": [
    "### sns_0 with precedence groupby\n",
    "# Copy and modify data for monthly bar plot\n",
    "df_bar = df.copy()\n",
    "df_bar.reset_index(inplace=True)\n",
    "  \n",
    "df_bar['year'] = pd.DatetimeIndex(df_bar['date']).year\n",
    "df_bar['month'] = pd.DatetimeIndex(df_bar['date']).month_name()\n",
    "  \n",
    "df_avg_bar = pd.DataFrame(df_bar.groupby(['year', 'month'])['value'].mean().round(decimals = 2))\n",
    "df_avg_bar.reset_index(inplace = True)\n",
    "\n",
    "# Draw bar plot\n",
    "fig, ax = plt.subplots(figsize=(10, 15))\n",
    "sns.barplot(data = df_avg_bar, x = 'year', y = 'value', hue = 'month')\n",
    "plt.xlabel('Years')\n",
    "plt.ylabel('Average Page Views')\n",
    "plt.legend(loc='upper left')\n",
    "### DO NOT LIKE - BAD months ORDER ¿?"
   ]
  },
  {
   "cell_type": "code",
   "execution_count": null,
   "metadata": {},
   "outputs": [],
   "source": []
  },
  {
   "cell_type": "code",
   "execution_count": null,
   "metadata": {},
   "outputs": [],
   "source": []
  },
  {
   "cell_type": "code",
   "execution_count": null,
   "metadata": {},
   "outputs": [],
   "source": []
  },
  {
   "cell_type": "code",
   "execution_count": null,
   "metadata": {},
   "outputs": [],
   "source": []
  },
  {
   "cell_type": "code",
   "execution_count": null,
   "metadata": {},
   "outputs": [],
   "source": [
    "fig, ax = plt.subplots(figsize= (20, 6))\n",
    "ax.set_title('Daily freeCodeCamp Forum Page Views 5/2016-12/2019')\n",
    "ax.set_xlabel('Date')\n",
    "ax.set_ylabel('Page Views')\n",
    "#ax.set_xticks(ticks=[250, 500, 1000])\n",
    "ax.plot(dfc, color='red')\n",
    "#ax.get_xticklabels()"
   ]
  },
  {
   "cell_type": "code",
   "execution_count": null,
   "metadata": {},
   "outputs": [],
   "source": [
    "fig, ax = plt.subplots(figsize=(10,5))\n",
    "plt.plot(dfc.index, dfc['value'])\n",
    "plt.xlabel('Date')\n",
    "plt.ylabel('Page Views')\n",
    "plt.title('Daily freeCodeCamp Forum Page Views 5/2016-12/2019')"
   ]
  },
  {
   "cell_type": "code",
   "execution_count": null,
   "metadata": {},
   "outputs": [],
   "source": [
    "#plt.plot(df_clean.index, 'value', data=df_clean)\n",
    "fig = plt.figure(figsize=(20,6))\n",
    "plt.title('Daily freeCodeCamp Forum Page Views 5/2016-12/2019')\n",
    "# ax.xaxis = 2017\n",
    "plt.xlabel('date')\n",
    "plt.ylabel(df_clean.value.name)\n",
    "plt.xticks(pd.date_range(start=\"2016-07\",end='2020-01', normalize=True, freq='6MS'))\n",
    "plt.plot(df_clean)\n",
    "#ax.get_xticklabels()"
   ]
  },
  {
   "cell_type": "code",
   "execution_count": null,
   "metadata": {},
   "outputs": [],
   "source": [
    "title_label = 'Daily freeCodeCamp Forum Page Views 5/2016-12/2019'  \n",
    "fig, ax = plt.subplots(figsize=(15, 10))\n",
    "sns.lineplot(data = dfc, legend=False)\n",
    "ax.set_title(title_label)\n",
    "ax.set_xlabel('Date')\n",
    "ax.set_ylabel('Page Views')"
   ]
  },
  {
   "cell_type": "code",
   "execution_count": null,
   "metadata": {},
   "outputs": [],
   "source": [
    "fig, ax = plt.subplots(figsize=(14,4))\n",
    "plt.plot(dfc.index, dfc['value'], linewidth=1, color='red')\n",
    "plt.xticks(pd.date_range(start=\"2016-07\",end='2020-01', normalize=True, freq='6MS'))\n",
    "plt.xlabel('Date')\n",
    "plt.ylabel('Page Views')\n",
    "plt.title('Daily freeCodeCamp Forum Page Views 5/2016-12/2019')"
   ]
  },
  {
   "cell_type": "code",
   "execution_count": null,
   "metadata": {},
   "outputs": [],
   "source": [
    "df = pd.read_csv('fcc-forum-pageviews.csv', index_col='date', parse_dates=True)\n",
    "df = df.query(\n",
    "  'value <= value.quantile(0.975) & value >= value.quantile(0.025)')\n",
    "fig, ax = plt.subplots(figsize=(20, 5))\n",
    "ax.set_title('Daily freeCodeCamp Forum Page Views 5/2016-12/2019')\n",
    "ax.set_xlabel('Date')\n",
    "ax.set_ylabel('Page Views')\n",
    "ax.plot(df, color='red')"
   ]
  }
 ],
 "metadata": {
  "kernelspec": {
   "display_name": "Python 3",
   "language": "python",
   "name": "python3"
  },
  "language_info": {
   "codemirror_mode": {
    "name": "ipython",
    "version": 3
   },
   "file_extension": ".py",
   "mimetype": "text/x-python",
   "name": "python",
   "nbconvert_exporter": "python",
   "pygments_lexer": "ipython3",
   "version": "3.11.0"
  },
  "orig_nbformat": 4
 },
 "nbformat": 4,
 "nbformat_minor": 2
}
