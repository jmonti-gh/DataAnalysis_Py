{
 "cells": [
  {
   "attachments": {},
   "cell_type": "markdown",
   "metadata": {},
   "source": [
    "# Bar plot"
   ]
  },
  {
   "cell_type": "code",
   "execution_count": 2,
   "metadata": {},
   "outputs": [],
   "source": [
    "import numpy as np\n",
    "import pandas as pd\n",
    "import matplotlib.pyplot as plt\n",
    "import seaborn as sns\n",
    "import matplotlib as mpl"
   ]
  },
  {
   "attachments": {},
   "cell_type": "markdown",
   "metadata": {},
   "source": [
    "### Use Pandas to import the data from \"fcc-forum-pageviews.csv\".\n",
    "- Set the index to the date column & clean <= 2.5% and >= 97.5 %."
   ]
  },
  {
   "cell_type": "code",
   "execution_count": 3,
   "metadata": {},
   "outputs": [
    {
     "data": {
      "text/html": [
       "<div>\n",
       "<style scoped>\n",
       "    .dataframe tbody tr th:only-of-type {\n",
       "        vertical-align: middle;\n",
       "    }\n",
       "\n",
       "    .dataframe tbody tr th {\n",
       "        vertical-align: top;\n",
       "    }\n",
       "\n",
       "    .dataframe thead th {\n",
       "        text-align: right;\n",
       "    }\n",
       "</style>\n",
       "<table border=\"1\" class=\"dataframe\">\n",
       "  <thead>\n",
       "    <tr style=\"text-align: right;\">\n",
       "      <th></th>\n",
       "      <th>value</th>\n",
       "    </tr>\n",
       "    <tr>\n",
       "      <th>date</th>\n",
       "      <th></th>\n",
       "    </tr>\n",
       "  </thead>\n",
       "  <tbody>\n",
       "    <tr>\n",
       "      <th>2016-05-19</th>\n",
       "      <td>19736</td>\n",
       "    </tr>\n",
       "    <tr>\n",
       "      <th>2016-05-26</th>\n",
       "      <td>18060</td>\n",
       "    </tr>\n",
       "    <tr>\n",
       "      <th>2016-05-27</th>\n",
       "      <td>19997</td>\n",
       "    </tr>\n",
       "    <tr>\n",
       "      <th>2016-05-28</th>\n",
       "      <td>19044</td>\n",
       "    </tr>\n",
       "    <tr>\n",
       "      <th>2016-05-29</th>\n",
       "      <td>20325</td>\n",
       "    </tr>\n",
       "    <tr>\n",
       "      <th>...</th>\n",
       "      <td>...</td>\n",
       "    </tr>\n",
       "    <tr>\n",
       "      <th>2019-11-24</th>\n",
       "      <td>138875</td>\n",
       "    </tr>\n",
       "    <tr>\n",
       "      <th>2019-11-29</th>\n",
       "      <td>171584</td>\n",
       "    </tr>\n",
       "    <tr>\n",
       "      <th>2019-11-30</th>\n",
       "      <td>141161</td>\n",
       "    </tr>\n",
       "    <tr>\n",
       "      <th>2019-12-01</th>\n",
       "      <td>142918</td>\n",
       "    </tr>\n",
       "    <tr>\n",
       "      <th>2019-12-03</th>\n",
       "      <td>158549</td>\n",
       "    </tr>\n",
       "  </tbody>\n",
       "</table>\n",
       "<p>1238 rows × 1 columns</p>\n",
       "</div>"
      ],
      "text/plain": [
       "             value\n",
       "date              \n",
       "2016-05-19   19736\n",
       "2016-05-26   18060\n",
       "2016-05-27   19997\n",
       "2016-05-28   19044\n",
       "2016-05-29   20325\n",
       "...            ...\n",
       "2019-11-24  138875\n",
       "2019-11-29  171584\n",
       "2019-11-30  141161\n",
       "2019-12-01  142918\n",
       "2019-12-03  158549\n",
       "\n",
       "[1238 rows x 1 columns]"
      ]
     },
     "execution_count": 3,
     "metadata": {},
     "output_type": "execute_result"
    }
   ],
   "source": [
    "df = pd.read_csv('fcc-forum-pageviews.csv', index_col='date', parse_dates=True)\n",
    "\n",
    "df = df.loc[(df['value'] > df['value'].quantile(0.025)) &\n",
    "            (df['value'] < df['value'].quantile(0.975))]\n",
    "df"
   ]
  },
  {
   "attachments": {},
   "cell_type": "markdown",
   "metadata": {},
   "source": [
    "### Create a draw_bar_plot function that draws a bar chart:\n",
    "- similar to \"examples/Figure_2.png\".\n",
    "- It should show average daily page views for each month grouped by year.\n",
    "- The legend should show month labels and have a title of Months.\n",
    "- On the chart, the label on the x axis should be Years and the label on the y axis should be Average Page Views."
   ]
  },
  {
   "cell_type": "code",
   "execution_count": null,
   "metadata": {},
   "outputs": [],
   "source": []
  },
  {
   "cell_type": "code",
   "execution_count": 4,
   "metadata": {},
   "outputs": [
    {
     "ename": "NameError",
     "evalue": "name 'dfc' is not defined",
     "output_type": "error",
     "traceback": [
      "\u001b[1;31m---------------------------------------------------------------------------\u001b[0m",
      "\u001b[1;31mNameError\u001b[0m                                 Traceback (most recent call last)",
      "Cell \u001b[1;32mIn[4], line 6\u001b[0m\n\u001b[0;32m      4\u001b[0m ax\u001b[39m.\u001b[39mset_ylabel(\u001b[39m'\u001b[39m\u001b[39mPage Views\u001b[39m\u001b[39m'\u001b[39m)\n\u001b[0;32m      5\u001b[0m \u001b[39m#ax.set_xticks(ticks=[250, 500, 1000])\u001b[39;00m\n\u001b[1;32m----> 6\u001b[0m ax\u001b[39m.\u001b[39mplot(dfc, color\u001b[39m=\u001b[39m\u001b[39m'\u001b[39m\u001b[39mred\u001b[39m\u001b[39m'\u001b[39m)\n\u001b[0;32m      7\u001b[0m \u001b[39m#ax.get_xticklabels()\u001b[39;00m\n",
      "\u001b[1;31mNameError\u001b[0m: name 'dfc' is not defined"
     ]
    },
    {
     "data": {
      "image/png": "[encoded data removed]",
      "text/plain": [
       "<Figure size 2000x600 with 1 Axes>"
      ]
     },
     "metadata": {},
     "output_type": "display_data"
    }
   ],
   "source": [
    "fig, ax = plt.subplots(figsize= (20, 6))\n",
    "ax.set_title('Daily freeCodeCamp Forum Page Views 5/2016-12/2019')\n",
    "ax.set_xlabel('Date')\n",
    "ax.set_ylabel('Page Views')\n",
    "#ax.set_xticks(ticks=[250, 500, 1000])\n",
    "ax.plot(dfc, color='red')\n",
    "#ax.get_xticklabels()"
   ]
  },
  {
   "cell_type": "code",
   "execution_count": null,
   "metadata": {},
   "outputs": [],
   "source": [
    "fig, ax = plt.subplots(figsize=(10,5))\n",
    "plt.plot(dfc.index, dfc['value'])\n",
    "plt.xlabel('Date')\n",
    "plt.ylabel('Page Views')\n",
    "plt.title('Daily freeCodeCamp Forum Page Views 5/2016-12/2019')"
   ]
  },
  {
   "cell_type": "code",
   "execution_count": null,
   "metadata": {},
   "outputs": [],
   "source": [
    "#plt.plot(df_clean.index, 'value', data=df_clean)\n",
    "fig = plt.figure(figsize=(20,6))\n",
    "plt.title('Daily freeCodeCamp Forum Page Views 5/2016-12/2019')\n",
    "# ax.xaxis = 2017\n",
    "plt.xlabel('date')\n",
    "plt.ylabel(df_clean.value.name)\n",
    "plt.xticks(pd.date_range(start=\"2016-07\",end='2020-01', normalize=True, freq='6MS'))\n",
    "plt.plot(df_clean)\n",
    "#ax.get_xticklabels()"
   ]
  },
  {
   "cell_type": "code",
   "execution_count": null,
   "metadata": {},
   "outputs": [],
   "source": [
    "title_label = 'Daily freeCodeCamp Forum Page Views 5/2016-12/2019'  \n",
    "fig, ax = plt.subplots(figsize=(15, 10))\n",
    "sns.lineplot(data = dfc, legend=False)\n",
    "ax.set_title(title_label)\n",
    "ax.set_xlabel('Date')\n",
    "ax.set_ylabel('Page Views')"
   ]
  },
  {
   "cell_type": "code",
   "execution_count": null,
   "metadata": {},
   "outputs": [],
   "source": [
    "fig, ax = plt.subplots(figsize=(14,4))\n",
    "plt.plot(dfc.index, dfc['value'], linewidth=1, color='red')\n",
    "plt.xticks(pd.date_range(start=\"2016-07\",end='2020-01', normalize=True, freq='6MS'))\n",
    "plt.xlabel('Date')\n",
    "plt.ylabel('Page Views')\n",
    "plt.title('Daily freeCodeCamp Forum Page Views 5/2016-12/2019')"
   ]
  },
  {
   "cell_type": "code",
   "execution_count": null,
   "metadata": {},
   "outputs": [],
   "source": [
    "df = pd.read_csv('fcc-forum-pageviews.csv', index_col='date', parse_dates=True)\n",
    "df = df.query(\n",
    "  'value <= value.quantile(0.975) & value >= value.quantile(0.025)')\n",
    "fig, ax = plt.subplots(figsize=(20, 5))\n",
    "ax.set_title('Daily freeCodeCamp Forum Page Views 5/2016-12/2019')\n",
    "ax.set_xlabel('Date')\n",
    "ax.set_ylabel('Page Views')\n",
    "ax.plot(df, color='red')"
   ]
  }
 ],
 "metadata": {
  "kernelspec": {
   "display_name": "Python 3",
   "language": "python",
   "name": "python3"
  },
  "language_info": {
   "codemirror_mode": {
    "name": "ipython",
    "version": 3
   },
   "file_extension": ".py",
   "mimetype": "text/x-python",
   "name": "python",
   "nbconvert_exporter": "python",
   "pygments_lexer": "ipython3",
   "version": "3.11.0"
  },
  "orig_nbformat": 4
 },
 "nbformat": 4,
 "nbformat_minor": 2
}
